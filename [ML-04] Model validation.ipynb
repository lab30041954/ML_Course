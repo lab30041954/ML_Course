{
 "cells": [
  {
   "cell_type": "markdown",
   "id": "0b16446f-de01-463d-b979-6909f256b5e0",
   "metadata": {},
   "source": [
    "# [ML-04] Model validation"
   ]
  },
  {
   "cell_type": "markdown",
   "id": "0d0422cd-ec9b-40a1-af64-7b99666d764f",
   "metadata": {},
   "source": [
    "## Overfitting and validation"
   ]
  },
  {
   "cell_type": "markdown",
   "id": "445e779f-7f44-4b64-bf45-2a30a5d13d03",
   "metadata": {},
   "source": [
    "**Overfitting** is a typical problem of supervised learning. It occurs when a model fits satisfactorily the training data, but fails on new data. The purpose of **validation** is to dismiss the concerns about overfitting raised by the use of complex machine learning models. These concerns are well justified, since many popular ML methods are prone to overfit the training data.\n",
    "\n",
    "In the simplest approach to validation, we derive the model from a **training data set**, trying it on a **test data set**. The training and test sets can have a temporal basis (*e.g*. training with the first ten months of the year and testing with the last two months), or they can be obtained by means of a **random split** of a single data set.\n",
    "\n",
    "For the top powerful ML methods, such as gradient boosting or deep learning, overfitting is part of the process, so practitioners take the metrics calculated on the test data set as the valid ones. When this is applied systematically, the principle of testing the model on data which have not been used to obtain it is no longer valid. The standard approach to this problem is to use a third data set, the **validation data set**, in the model selection process, keeping the test set apart, for the final evaluation.\n",
    "\n",
    "**Cross-validation** is a more sophisticated approach, recommended for small data sets. It has many variations, among them **$k$-fold cross-validation**, in which the original data set is randomly partitioned into $k$ equally sized subsets. It is assumed that the model is evaluated with a single evaluation score (otherwise it would get very complex). One of the $k$ subsets is used for testing and the other subsets for training, and the model is evaluated on the test subset. This process is repeated for each subset. The resulting evaluation scores (either R-squared or accuracy) can then be averaged to produce a single value, which is taken as the score of the model. $k=3$ and $k=5$ are choices. If you wish to keep a test set apart from the process, you can split first the data in two, performing the cross-validation in one subset, while keeping the other subset for the final test. This approach is quite popular among practitioners."
   ]
  },
  {
   "cell_type": "markdown",
   "id": "0585d10d-49b1-48ee-b644-546ace5adadd",
   "metadata": {},
   "source": [
    "## Train-test split in scikit-learn"
   ]
  },
  {
   "cell_type": "markdown",
   "id": "4bfec375-834a-4717-82e9-85a15f68dee7",
   "metadata": {},
   "source": [
    "In scikit-learn, the subpackage `model_selection` provides a validation toolkit for supervised learning. Suppose that you are given a target vector `y` and a features matrix `X`. A random **train-test split** can be obtained with:\n",
    "\n",
    "```\n",
    "from sklearn.model_selection import train_test_split\n",
    "X_train, X_test, y_train, y_test = train_test_split(X, y, test_size=0.2)\n",
    "```\n",
    "\n",
    "Setting `test_size=0.2`, you get a 80-20 split, which is quite popular, though there is nothing special in a 20% test size. The idea behind this partition is that it is not reasonable to waste too much data on testing. Also, note that you have to split twice if you wish to have a training set, a validation set and a test set.\n",
    "\n",
    "For an example, take a classifier `clf`, created as a `LogisticRegression()` instance. You start by training the model with the method `.fit()`, using only the training set:\n",
    "\n",
    "```\n",
    "clf.fit(X_train, y_train)\n",
    "```\n",
    "\n",
    "Then, you can evaluate the model separately on both data sets and compare the results. If the evaluation is based on the accuracy, this would be:\n",
    "\n",
    "```\n",
    "clf.score(X_train, y_train), clf.score(X_test, y_test)\n",
    "```\n",
    "\n",
    "Overfitting happens when there is a relevant difference between these two metrics. If you wish to compare a collection of candidate models, you will replace here the test set by the validation set, leaving the test set apart. By applying this process repeatedly, you can select the model with the best performance on the validation set, using the test set for the final evaluation. The same ideas can be applied for regression models.\n",
    "\n",
    "*Note*. The function `train_test_split()` can be applied to any number of array-like objects of the same length. It performs a random split on each of those objects, selecting the same rows for all of them."
   ]
  },
  {
   "cell_type": "markdown",
   "id": "2aa4926c-0dfa-41be-8c46-ac90c30ca165",
   "metadata": {},
   "source": [
    "## Cross-validation in scikit-learn"
   ]
  },
  {
   "cell_type": "markdown",
   "id": "ae0aed05-ccb8-4b7f-b6aa-2f027e801929",
   "metadata": {},
   "source": [
    "The subpackage `model_selection` also has cross-validation functions. The simplest one is `cross_val_score()`:\n",
    "\n",
    "```\n",
    "from sklearn.model_selection import cross_val_score\n",
    "cross_val_score(clf, X, y, cv=3)\n",
    "```\n",
    "\n",
    "This function would return here a vector of three accuracy scores. While you can average these scores to get an overall score for the model, you may also take a look at the variation across folds, to decide whether you will trust the model. The argument `cv=3` sets the number of folds. The default is `cv=5`. The default metrics are the R-squared statistic and the accuracy, but the parameter `scoring` allows you to use alternative metrics. For instance, with the argument `scoring='precision'`, the function `cross_val_score()` would return precision scores."
   ]
  },
  {
   "cell_type": "markdown",
   "id": "d5fabef4-7183-4261-b2ff-467019c5760a",
   "metadata": {},
   "source": [
    "## Example - Polycystic ovary syndrome (PCOS) diagnosis"
   ]
  },
  {
   "cell_type": "markdown",
   "id": "2910fa85-f8ed-41b9-be56-b5c7cea46337",
   "metadata": {},
   "source": [
    "### Introduction"
   ]
  },
  {
   "cell_type": "markdown",
   "id": "c79e87e0-85fd-4d7d-806b-79eb800d9923",
   "metadata": {},
   "source": [
    "The **polycystic ovary syndrome** (PCOS) is a disorder involving infrequent, irregular or prolonged menstrual periods, and often excess male hormone (androgen) levels. The ovaries develop numerous small collections of fluid (called follicles) and may fail to regularly release eggs.\n",
    "\n",
    "The most common PCOS symptoms are missed, irregular, infrequent, or prolonged periods. Other symptoms include hair loss, or hair in places you don't want it, acne, darkened skin, mood changes, weight gain and others. Irregular periods, usually with a lack of ovulation, can make it difficult to become pregnant. PCOS is a leading cause of infertility.\n",
    "\n",
    "This example is concerned with the prediction of PCOS from a set of physical and clinical parameters. The data have been collected from 10 different hospitals across Kerala, India."
   ]
  },
  {
   "cell_type": "markdown",
   "id": "50f883f6-af3c-473d-90c2-6661cce560c5",
   "metadata": {},
   "source": [
    "### The data set"
   ]
  },
  {
   "cell_type": "markdown",
   "id": "367864a9-6294-4000-8987-fa85a7c64ef8",
   "metadata": {},
   "source": [
    "The file `pcos.csv` contains data on 538 subjects, including an identifier, a label signalling the occurrence of PCOS, and 38 features. The columns are:\n",
    "\n",
    "* `id`, a unique identifier for the subject.\n",
    "\n",
    "* `pcos`, whether the subject has PCOS (1 = yes, 0 = no).\n",
    "\n",
    "* `age`, the subject's age (years).\n",
    "\n",
    "* `weight`, the subject's weight (kg).\n",
    "\n",
    "* `height`, the subject's height (cm).\n",
    "\n",
    "* `blood`, the subject's blood group (11 = A+, 12 = A-, 13 = B+, 14 = B-, 15 = O+, 16 = O-, 17 = AB+, 18 = AB-).\t\t\t\n",
    "\n",
    "* `pulse`, the subject's pulse rate (bpm).\n",
    "\n",
    "* `rr`, the subject's respiratory rate (breaths/min).\n",
    "\n",
    "* `hb`, the subject's hemoglobin level (g/dl).\n",
    "\n",
    "* `cycle`, the subject's menstrual cycle (R/I).\n",
    "\n",
    "* `cyclelen`, the subject's cycle length (days).\n",
    "\n",
    "* `marriage`, time since the subject was married (years).\n",
    "\n",
    "* `pregnant`, whether the subjects is pregnant (1 = yes, 0 = no).\n",
    "\n",
    "* `abortions`, the subject's number of abortions.\n",
    "\n",
    "* `beta_hcg1`, the beta-hCG level (mIU/mL) in the first pregnancy test. Beta-hCG is a shorthand term for a blood test used to measure human chorionic gonadotropin (hCG) levels in early pregnancy. The hCG is a hormone for the maternal recognition of pregnancy, with two subunits, alpha and beta.\n",
    "\n",
    "* `beta_hcg2`, the blood beta-HCG level (mIU/mL) in the second pregnancy test. When only one test exists, the value entered in this column has been copied from the previous column.\n",
    "\n",
    "* `fsh`, the blood FSH level (miU/mL). The follicle-stimulating hormone (FSH) helps control the menstrual cycle and stimulates the growth of eggs in the ovaries. The FSH test can used to find the cause of infertility, to find the reason for irregular or stopped menstrual periods, or other purposes.\n",
    "\n",
    "* `lh`, the blood LH level (mIU/mL).The luteinizing hormone (LH) plays an important role in sexual development and functioning. The LH test is used for the same purposes as the FSH test.\n",
    "\n",
    "* `hip`, the hip perimeter (inch).\n",
    "\n",
    "* `waist`, the waist perimeter (inch).\n",
    "\n",
    "* `tsh`, the blood TSH level (miU/mL). The thyroid stimulating hormone (FSH) helps control the weight, body temperature, muscle strength, and other things. The TSH test can used to find  out how well the thyroid is working.\n",
    "\n",
    "* `amh`, the blood AMH level (ng/mL). The anti-mullerian hormone (AMH) plays a key role in developing a baby’s sex organs while in the womb. The AMH test provides information on the number of remaining eggs and whether the ovaries might be aging too quickly.\n",
    "\n",
    "* `prl`, the blood PRL level (ng/mL). When women are pregnant or have just given birth, their prolactin (PRL) levels increase so they can make breast milk.The  doctor may order a prolactin test given symptoms like irregular or no periods, infertility, breast milk discharge not being pregnant or nursing, etc.\n",
    "\n",
    "* `d3`, the blood vitamin D3 level (ng/mL). The vitamin D test is used to screen for low levels of vitamin D so the patient can be treated with supplements to prevent health problems.\n",
    "\n",
    "* `prg`, the blood PRG level (ng/mL). Progesterone (PRG) is a hormone that prepares the uterus for pregnancy. A PRG test may be used to help find the cause of female infertility, check whether fertility treatments are working, find out the risk of a miscarriage, and other purposes.\n",
    "\n",
    "* `rbs`, the blood glucose level (mg/dL) measured in a random blood sugar test (RBS). The RBS test is a quick test that a doctor or nurse can carry out at short notice in their office or clinic. The patient does not need to fast beforehand.\n",
    "\n",
    "* `weight_gain`, a dummy for weight gain.\n",
    "\n",
    "* `hair_growth`, a dummy for hair growth.\n",
    "\n",
    "* `skin_dark`, a dummy for skin darkening.\n",
    "\n",
    "* `hair_loss`, a dummy for hair loss.\n",
    "\n",
    "* `pimples`, a dummy for having pimples.\n",
    "\n",
    "* `fastfood`, a dummy for fast food consumption.\n",
    "\n",
    "* `exercise`, a dummy for doing regular exercise.\n",
    "\n",
    "* `systolic`, systolic blood pressure (mmHg).\n",
    "\n",
    "* `diastolic`, diastolic blood pressure (mmHg).\n",
    "\n",
    "* `lfollicle`, number of follicles in the left ovary. The ovarian follicles are small sacs filled with fluid that are found inside a woman's ovaries. They secrete hormones which influence stages of the menstrual cycle and women begin puberty.\n",
    "\n",
    "* `rfollicle`, number of follicles in the right ovary.\n",
    "\n",
    "* `lsize`, average size of the follicles in the left ovary (mm).\n",
    "\n",
    "* `fsize`, average size of the follicles in the left ovary (mm).\n",
    "\n",
    "* `endometrium`, the thickness of the endometrium (mm).\n",
    "\n",
    "Source: Kaggle.\n"
   ]
  },
  {
   "cell_type": "markdown",
   "id": "affc1904-5bf7-4cd0-aaab-2d8ae2e238e5",
   "metadata": {},
   "source": [
    "### Questions"
   ]
  },
  {
   "cell_type": "markdown",
   "id": "5d7ccaf5-9455-42e7-9194-b44a6e7d168a",
   "metadata": {},
   "source": [
    "Q1. Develop a **decision tree classifier** for the diagnosis of PCOS. Which are the most **relevant features**?\n",
    "\n",
    "Q2. There are three features which are used in this context: (a) the body mass index (BMI) is the body mass divided by the square of the body height (kg/m2), (b) the LH/FSH ratio, and (c) the hip/waist ratio. Does your model improve by adding these three features?\n",
    "\n",
    "Q3. Perform a **3-fold cross-validation** of your model. \n",
    "\n",
    "Q4. Reduce the size of the tree if you are not happy with the results obtained."
   ]
  },
  {
   "cell_type": "markdown",
   "id": "6a90d57c-068e-4ddb-b3c5-a013b7a7f4d9",
   "metadata": {},
   "source": [
    "### Importing the data"
   ]
  },
  {
   "cell_type": "markdown",
   "id": "152efce2-b945-4118-a622-b5ae932943e2",
   "metadata": {},
   "source": [
    "As in the preceding examples, we use the Pandas funcion `read_csv()` to import the data from a GitHub repository. Here, we take the column `id` as the index (`index_col=0`)."
   ]
  },
  {
   "cell_type": "code",
   "execution_count": 1,
   "id": "3c64e186-b0f6-4f15-81c5-a73839a82ee4",
   "metadata": {},
   "outputs": [],
   "source": [
    "import pandas as pd\n",
    "path = 'https://raw.githubusercontent.com/lab30041954/Data/main/'\n",
    "df = pd.read_csv(path + 'pcos.csv', index_col=0)"
   ]
  },
  {
   "cell_type": "markdown",
   "id": "ccf63a8c-7140-4af0-a9c1-305df78bc09e",
   "metadata": {},
   "source": [
    "### Exploring the data"
   ]
  },
  {
   "cell_type": "markdown",
   "id": "3ab48f6a-ffcb-44f7-b522-2f664a357436",
   "metadata": {},
   "source": [
    "We print a report of the content of `df` with the method `.info()`. Everything is as expected, so far. There are no missing values."
   ]
  },
  {
   "cell_type": "code",
   "execution_count": 2,
   "id": "b97c04e5-648b-4f47-9bd5-e9638d39115f",
   "metadata": {},
   "outputs": [
    {
     "name": "stdout",
     "output_type": "stream",
     "text": [
      "<class 'pandas.core.frame.DataFrame'>\n",
      "Index: 538 entries, 1 to 541\n",
      "Data columns (total 39 columns):\n",
      " #   Column       Non-Null Count  Dtype  \n",
      "---  ------       --------------  -----  \n",
      " 0   pcos         538 non-null    int64  \n",
      " 1   age          538 non-null    int64  \n",
      " 2   weight       538 non-null    float64\n",
      " 3   height       538 non-null    float64\n",
      " 4   blood        538 non-null    int64  \n",
      " 5   pulse        538 non-null    int64  \n",
      " 6   rr           538 non-null    int64  \n",
      " 7   hb           538 non-null    float64\n",
      " 8   cycle        538 non-null    int64  \n",
      " 9   cyclelen     538 non-null    int64  \n",
      " 10  marriage     538 non-null    float64\n",
      " 11  pregnant     538 non-null    int64  \n",
      " 12  abortions    538 non-null    int64  \n",
      " 13  beta_hcg1    538 non-null    float64\n",
      " 14  beta_hcg2    538 non-null    float64\n",
      " 15  fsh          538 non-null    float64\n",
      " 16  lh           538 non-null    float64\n",
      " 17  hip          538 non-null    int64  \n",
      " 18  waist        538 non-null    int64  \n",
      " 19  tsh          538 non-null    float64\n",
      " 20  amh          538 non-null    float64\n",
      " 21  prl          538 non-null    float64\n",
      " 22  d3           538 non-null    float64\n",
      " 23  prg          538 non-null    float64\n",
      " 24  rbs          538 non-null    float64\n",
      " 25  weight_gain  538 non-null    int64  \n",
      " 26  hair_growth  538 non-null    int64  \n",
      " 27  skin_dark    538 non-null    int64  \n",
      " 28  hair_loss    538 non-null    int64  \n",
      " 29  pimples      538 non-null    int64  \n",
      " 30  fastfood     538 non-null    float64\n",
      " 31  exercise     538 non-null    int64  \n",
      " 32  systolic     538 non-null    int64  \n",
      " 33  diastolic    538 non-null    int64  \n",
      " 34  lfollicle    538 non-null    int64  \n",
      " 35  rfollicle    538 non-null    int64  \n",
      " 36  lsize        538 non-null    float64\n",
      " 37  fsize        538 non-null    float64\n",
      " 38  endometrium  538 non-null    float64\n",
      "dtypes: float64(18), int64(21)\n",
      "memory usage: 168.1 KB\n"
     ]
    }
   ],
   "source": [
    "df.info()"
   ]
  },
  {
   "cell_type": "markdown",
   "id": "491ad840-c960-4728-8868-648a2b4cb98a",
   "metadata": {},
   "source": [
    "The **incidence** of PCOS in this sample is 32.7%, so we don't have a serious case of imbalance here. Note that this incidence applies to a sample extracted from a hospital female population, so we have to be careful when drawing conclusions."
   ]
  },
  {
   "cell_type": "code",
   "execution_count": 3,
   "id": "2854a4cb-2a32-463d-aea7-d6bdfcc51a98",
   "metadata": {},
   "outputs": [
    {
     "data": {
      "text/plain": [
       "0.327"
      ]
     },
     "execution_count": 3,
     "metadata": {},
     "output_type": "execute_result"
    }
   ],
   "source": [
    "round(df['pcos'].mean(), 3)"
   ]
  },
  {
   "cell_type": "markdown",
   "id": "4692b131-e05a-4277-bd8d-5c79a3a4eaac",
   "metadata": {},
   "source": [
    "### Target vector and features matrix"
   ]
  },
  {
   "cell_type": "markdown",
   "id": "f3839c55-b761-4631-8756-5299b3b19eb8",
   "metadata": {},
   "source": [
    "We create a target vector and a feature matrix. The target vector is the first column (`pcos`). Note that one of the features, `blood`, is categorical, so we have to replace it by a collection of dummies. \n",
    "\n",
    "On one side, we create a submatrix integrating all the columns, except `blood`."
   ]
  },
  {
   "cell_type": "code",
   "execution_count": 4,
   "id": "6329cfe1-bbc5-45ed-ba73-95c4dc42fd7c",
   "metadata": {},
   "outputs": [],
   "source": [
    "y = df['pcos']\n",
    "X1 = df.drop(columns=['blood', 'pcos'])"
   ]
  },
  {
   "cell_type": "markdown",
   "id": "06bb5ba3-563c-458b-afcf-fad6b9714624",
   "metadata": {},
   "source": [
    "On the other side, we apply the Pandas function `get_dummies()` to the categorical feature."
   ]
  },
  {
   "cell_type": "code",
   "execution_count": 5,
   "id": "598eb069-4e75-4fe7-b6e0-fb358fcabd1e",
   "metadata": {},
   "outputs": [
    {
     "data": {
      "text/plain": [
       "Index([11, 12, 13, 14, 15, 16, 17, 18], dtype='int64')"
      ]
     },
     "execution_count": 5,
     "metadata": {},
     "output_type": "execute_result"
    }
   ],
   "source": [
    "X2 = pd.get_dummies(df['blood'])\n",
    "   ...: X2.columns"
   ]
  },
  {
   "cell_type": "markdown",
   "id": "3d515236-8a00-4a1d-8469-82c47af22b83",
   "metadata": {},
   "source": [
    "The column names of this matrix are integers, which are not accepted by scikit-learn. This is easy to fix, since, in Pandas, the current column names can be directly replaced by a new list of names."
   ]
  },
  {
   "cell_type": "code",
   "execution_count": 6,
   "id": "35545673-5a6e-41bd-8ac3-dec60bf63914",
   "metadata": {},
   "outputs": [],
   "source": [
    "X2.columns = ['A+', 'A-', 'B+', 'B-', 'O+', 'O-', 'AB+', 'AB-']"
   ]
  },
  {
   "cell_type": "markdown",
   "id": "88f2809b-f21d-449a-9c63-0494942c327f",
   "metadata": {},
   "source": [
    "With the Pandas function `concat()`, we join the two parts of the new feature matrix (you can also do this with the methods `.merge()` or `.join()`). The argument `axis=1` indicates that the two submatrices are joined horizontally (the default is to join vertically)."
   ]
  },
  {
   "cell_type": "code",
   "execution_count": 7,
   "id": "81a1db31-88be-4a1a-9748-6377b6fb269c",
   "metadata": {},
   "outputs": [],
   "source": [
    "X = pd.concat([X1, X2], axis=1)"
   ]
  },
  {
   "cell_type": "markdown",
   "id": "442440e3-8f31-4853-b97b-5ca2d69a4c79",
   "metadata": {},
   "source": [
    "### Q1. Decision tree classifier"
   ]
  },
  {
   "cell_type": "markdown",
   "id": "4f24dd20-3915-427e-85c1-5da95a7a39a9",
   "metadata": {},
   "source": [
    "To address question Q1, we train a decision tree classifier on tis data set. Given the dimensions of the features matrix, we start with maximum depth 5."
   ]
  },
  {
   "cell_type": "code",
   "execution_count": 8,
   "id": "ac946c1a-3970-4fbf-b15c-7ce20a6eab9d",
   "metadata": {},
   "outputs": [
    {
     "data": {
      "text/html": [
       "<style>#sk-container-id-1 {\n",
       "  /* Definition of color scheme common for light and dark mode */\n",
       "  --sklearn-color-text: black;\n",
       "  --sklearn-color-line: gray;\n",
       "  /* Definition of color scheme for unfitted estimators */\n",
       "  --sklearn-color-unfitted-level-0: #fff5e6;\n",
       "  --sklearn-color-unfitted-level-1: #f6e4d2;\n",
       "  --sklearn-color-unfitted-level-2: #ffe0b3;\n",
       "  --sklearn-color-unfitted-level-3: chocolate;\n",
       "  /* Definition of color scheme for fitted estimators */\n",
       "  --sklearn-color-fitted-level-0: #f0f8ff;\n",
       "  --sklearn-color-fitted-level-1: #d4ebff;\n",
       "  --sklearn-color-fitted-level-2: #b3dbfd;\n",
       "  --sklearn-color-fitted-level-3: cornflowerblue;\n",
       "\n",
       "  /* Specific color for light theme */\n",
       "  --sklearn-color-text-on-default-background: var(--sg-text-color, var(--theme-code-foreground, var(--jp-content-font-color1, black)));\n",
       "  --sklearn-color-background: var(--sg-background-color, var(--theme-background, var(--jp-layout-color0, white)));\n",
       "  --sklearn-color-border-box: var(--sg-text-color, var(--theme-code-foreground, var(--jp-content-font-color1, black)));\n",
       "  --sklearn-color-icon: #696969;\n",
       "\n",
       "  @media (prefers-color-scheme: dark) {\n",
       "    /* Redefinition of color scheme for dark theme */\n",
       "    --sklearn-color-text-on-default-background: var(--sg-text-color, var(--theme-code-foreground, var(--jp-content-font-color1, white)));\n",
       "    --sklearn-color-background: var(--sg-background-color, var(--theme-background, var(--jp-layout-color0, #111)));\n",
       "    --sklearn-color-border-box: var(--sg-text-color, var(--theme-code-foreground, var(--jp-content-font-color1, white)));\n",
       "    --sklearn-color-icon: #878787;\n",
       "  }\n",
       "}\n",
       "\n",
       "#sk-container-id-1 {\n",
       "  color: var(--sklearn-color-text);\n",
       "}\n",
       "\n",
       "#sk-container-id-1 pre {\n",
       "  padding: 0;\n",
       "}\n",
       "\n",
       "#sk-container-id-1 input.sk-hidden--visually {\n",
       "  border: 0;\n",
       "  clip: rect(1px 1px 1px 1px);\n",
       "  clip: rect(1px, 1px, 1px, 1px);\n",
       "  height: 1px;\n",
       "  margin: -1px;\n",
       "  overflow: hidden;\n",
       "  padding: 0;\n",
       "  position: absolute;\n",
       "  width: 1px;\n",
       "}\n",
       "\n",
       "#sk-container-id-1 div.sk-dashed-wrapped {\n",
       "  border: 1px dashed var(--sklearn-color-line);\n",
       "  margin: 0 0.4em 0.5em 0.4em;\n",
       "  box-sizing: border-box;\n",
       "  padding-bottom: 0.4em;\n",
       "  background-color: var(--sklearn-color-background);\n",
       "}\n",
       "\n",
       "#sk-container-id-1 div.sk-container {\n",
       "  /* jupyter's `normalize.less` sets `[hidden] { display: none; }`\n",
       "     but bootstrap.min.css set `[hidden] { display: none !important; }`\n",
       "     so we also need the `!important` here to be able to override the\n",
       "     default hidden behavior on the sphinx rendered scikit-learn.org.\n",
       "     See: https://github.com/scikit-learn/scikit-learn/issues/21755 */\n",
       "  display: inline-block !important;\n",
       "  position: relative;\n",
       "}\n",
       "\n",
       "#sk-container-id-1 div.sk-text-repr-fallback {\n",
       "  display: none;\n",
       "}\n",
       "\n",
       "div.sk-parallel-item,\n",
       "div.sk-serial,\n",
       "div.sk-item {\n",
       "  /* draw centered vertical line to link estimators */\n",
       "  background-image: linear-gradient(var(--sklearn-color-text-on-default-background), var(--sklearn-color-text-on-default-background));\n",
       "  background-size: 2px 100%;\n",
       "  background-repeat: no-repeat;\n",
       "  background-position: center center;\n",
       "}\n",
       "\n",
       "/* Parallel-specific style estimator block */\n",
       "\n",
       "#sk-container-id-1 div.sk-parallel-item::after {\n",
       "  content: \"\";\n",
       "  width: 100%;\n",
       "  border-bottom: 2px solid var(--sklearn-color-text-on-default-background);\n",
       "  flex-grow: 1;\n",
       "}\n",
       "\n",
       "#sk-container-id-1 div.sk-parallel {\n",
       "  display: flex;\n",
       "  align-items: stretch;\n",
       "  justify-content: center;\n",
       "  background-color: var(--sklearn-color-background);\n",
       "  position: relative;\n",
       "}\n",
       "\n",
       "#sk-container-id-1 div.sk-parallel-item {\n",
       "  display: flex;\n",
       "  flex-direction: column;\n",
       "}\n",
       "\n",
       "#sk-container-id-1 div.sk-parallel-item:first-child::after {\n",
       "  align-self: flex-end;\n",
       "  width: 50%;\n",
       "}\n",
       "\n",
       "#sk-container-id-1 div.sk-parallel-item:last-child::after {\n",
       "  align-self: flex-start;\n",
       "  width: 50%;\n",
       "}\n",
       "\n",
       "#sk-container-id-1 div.sk-parallel-item:only-child::after {\n",
       "  width: 0;\n",
       "}\n",
       "\n",
       "/* Serial-specific style estimator block */\n",
       "\n",
       "#sk-container-id-1 div.sk-serial {\n",
       "  display: flex;\n",
       "  flex-direction: column;\n",
       "  align-items: center;\n",
       "  background-color: var(--sklearn-color-background);\n",
       "  padding-right: 1em;\n",
       "  padding-left: 1em;\n",
       "}\n",
       "\n",
       "\n",
       "/* Toggleable style: style used for estimator/Pipeline/ColumnTransformer box that is\n",
       "clickable and can be expanded/collapsed.\n",
       "- Pipeline and ColumnTransformer use this feature and define the default style\n",
       "- Estimators will overwrite some part of the style using the `sk-estimator` class\n",
       "*/\n",
       "\n",
       "/* Pipeline and ColumnTransformer style (default) */\n",
       "\n",
       "#sk-container-id-1 div.sk-toggleable {\n",
       "  /* Default theme specific background. It is overwritten whether we have a\n",
       "  specific estimator or a Pipeline/ColumnTransformer */\n",
       "  background-color: var(--sklearn-color-background);\n",
       "}\n",
       "\n",
       "/* Toggleable label */\n",
       "#sk-container-id-1 label.sk-toggleable__label {\n",
       "  cursor: pointer;\n",
       "  display: block;\n",
       "  width: 100%;\n",
       "  margin-bottom: 0;\n",
       "  padding: 0.5em;\n",
       "  box-sizing: border-box;\n",
       "  text-align: center;\n",
       "}\n",
       "\n",
       "#sk-container-id-1 label.sk-toggleable__label-arrow:before {\n",
       "  /* Arrow on the left of the label */\n",
       "  content: \"▸\";\n",
       "  float: left;\n",
       "  margin-right: 0.25em;\n",
       "  color: var(--sklearn-color-icon);\n",
       "}\n",
       "\n",
       "#sk-container-id-1 label.sk-toggleable__label-arrow:hover:before {\n",
       "  color: var(--sklearn-color-text);\n",
       "}\n",
       "\n",
       "/* Toggleable content - dropdown */\n",
       "\n",
       "#sk-container-id-1 div.sk-toggleable__content {\n",
       "  max-height: 0;\n",
       "  max-width: 0;\n",
       "  overflow: hidden;\n",
       "  text-align: left;\n",
       "  /* unfitted */\n",
       "  background-color: var(--sklearn-color-unfitted-level-0);\n",
       "}\n",
       "\n",
       "#sk-container-id-1 div.sk-toggleable__content.fitted {\n",
       "  /* fitted */\n",
       "  background-color: var(--sklearn-color-fitted-level-0);\n",
       "}\n",
       "\n",
       "#sk-container-id-1 div.sk-toggleable__content pre {\n",
       "  margin: 0.2em;\n",
       "  border-radius: 0.25em;\n",
       "  color: var(--sklearn-color-text);\n",
       "  /* unfitted */\n",
       "  background-color: var(--sklearn-color-unfitted-level-0);\n",
       "}\n",
       "\n",
       "#sk-container-id-1 div.sk-toggleable__content.fitted pre {\n",
       "  /* unfitted */\n",
       "  background-color: var(--sklearn-color-fitted-level-0);\n",
       "}\n",
       "\n",
       "#sk-container-id-1 input.sk-toggleable__control:checked~div.sk-toggleable__content {\n",
       "  /* Expand drop-down */\n",
       "  max-height: 200px;\n",
       "  max-width: 100%;\n",
       "  overflow: auto;\n",
       "}\n",
       "\n",
       "#sk-container-id-1 input.sk-toggleable__control:checked~label.sk-toggleable__label-arrow:before {\n",
       "  content: \"▾\";\n",
       "}\n",
       "\n",
       "/* Pipeline/ColumnTransformer-specific style */\n",
       "\n",
       "#sk-container-id-1 div.sk-label input.sk-toggleable__control:checked~label.sk-toggleable__label {\n",
       "  color: var(--sklearn-color-text);\n",
       "  background-color: var(--sklearn-color-unfitted-level-2);\n",
       "}\n",
       "\n",
       "#sk-container-id-1 div.sk-label.fitted input.sk-toggleable__control:checked~label.sk-toggleable__label {\n",
       "  background-color: var(--sklearn-color-fitted-level-2);\n",
       "}\n",
       "\n",
       "/* Estimator-specific style */\n",
       "\n",
       "/* Colorize estimator box */\n",
       "#sk-container-id-1 div.sk-estimator input.sk-toggleable__control:checked~label.sk-toggleable__label {\n",
       "  /* unfitted */\n",
       "  background-color: var(--sklearn-color-unfitted-level-2);\n",
       "}\n",
       "\n",
       "#sk-container-id-1 div.sk-estimator.fitted input.sk-toggleable__control:checked~label.sk-toggleable__label {\n",
       "  /* fitted */\n",
       "  background-color: var(--sklearn-color-fitted-level-2);\n",
       "}\n",
       "\n",
       "#sk-container-id-1 div.sk-label label.sk-toggleable__label,\n",
       "#sk-container-id-1 div.sk-label label {\n",
       "  /* The background is the default theme color */\n",
       "  color: var(--sklearn-color-text-on-default-background);\n",
       "}\n",
       "\n",
       "/* On hover, darken the color of the background */\n",
       "#sk-container-id-1 div.sk-label:hover label.sk-toggleable__label {\n",
       "  color: var(--sklearn-color-text);\n",
       "  background-color: var(--sklearn-color-unfitted-level-2);\n",
       "}\n",
       "\n",
       "/* Label box, darken color on hover, fitted */\n",
       "#sk-container-id-1 div.sk-label.fitted:hover label.sk-toggleable__label.fitted {\n",
       "  color: var(--sklearn-color-text);\n",
       "  background-color: var(--sklearn-color-fitted-level-2);\n",
       "}\n",
       "\n",
       "/* Estimator label */\n",
       "\n",
       "#sk-container-id-1 div.sk-label label {\n",
       "  font-family: monospace;\n",
       "  font-weight: bold;\n",
       "  display: inline-block;\n",
       "  line-height: 1.2em;\n",
       "}\n",
       "\n",
       "#sk-container-id-1 div.sk-label-container {\n",
       "  text-align: center;\n",
       "}\n",
       "\n",
       "/* Estimator-specific */\n",
       "#sk-container-id-1 div.sk-estimator {\n",
       "  font-family: monospace;\n",
       "  border: 1px dotted var(--sklearn-color-border-box);\n",
       "  border-radius: 0.25em;\n",
       "  box-sizing: border-box;\n",
       "  margin-bottom: 0.5em;\n",
       "  /* unfitted */\n",
       "  background-color: var(--sklearn-color-unfitted-level-0);\n",
       "}\n",
       "\n",
       "#sk-container-id-1 div.sk-estimator.fitted {\n",
       "  /* fitted */\n",
       "  background-color: var(--sklearn-color-fitted-level-0);\n",
       "}\n",
       "\n",
       "/* on hover */\n",
       "#sk-container-id-1 div.sk-estimator:hover {\n",
       "  /* unfitted */\n",
       "  background-color: var(--sklearn-color-unfitted-level-2);\n",
       "}\n",
       "\n",
       "#sk-container-id-1 div.sk-estimator.fitted:hover {\n",
       "  /* fitted */\n",
       "  background-color: var(--sklearn-color-fitted-level-2);\n",
       "}\n",
       "\n",
       "/* Specification for estimator info (e.g. \"i\" and \"?\") */\n",
       "\n",
       "/* Common style for \"i\" and \"?\" */\n",
       "\n",
       ".sk-estimator-doc-link,\n",
       "a:link.sk-estimator-doc-link,\n",
       "a:visited.sk-estimator-doc-link {\n",
       "  float: right;\n",
       "  font-size: smaller;\n",
       "  line-height: 1em;\n",
       "  font-family: monospace;\n",
       "  background-color: var(--sklearn-color-background);\n",
       "  border-radius: 1em;\n",
       "  height: 1em;\n",
       "  width: 1em;\n",
       "  text-decoration: none !important;\n",
       "  margin-left: 1ex;\n",
       "  /* unfitted */\n",
       "  border: var(--sklearn-color-unfitted-level-1) 1pt solid;\n",
       "  color: var(--sklearn-color-unfitted-level-1);\n",
       "}\n",
       "\n",
       ".sk-estimator-doc-link.fitted,\n",
       "a:link.sk-estimator-doc-link.fitted,\n",
       "a:visited.sk-estimator-doc-link.fitted {\n",
       "  /* fitted */\n",
       "  border: var(--sklearn-color-fitted-level-1) 1pt solid;\n",
       "  color: var(--sklearn-color-fitted-level-1);\n",
       "}\n",
       "\n",
       "/* On hover */\n",
       "div.sk-estimator:hover .sk-estimator-doc-link:hover,\n",
       ".sk-estimator-doc-link:hover,\n",
       "div.sk-label-container:hover .sk-estimator-doc-link:hover,\n",
       ".sk-estimator-doc-link:hover {\n",
       "  /* unfitted */\n",
       "  background-color: var(--sklearn-color-unfitted-level-3);\n",
       "  color: var(--sklearn-color-background);\n",
       "  text-decoration: none;\n",
       "}\n",
       "\n",
       "div.sk-estimator.fitted:hover .sk-estimator-doc-link.fitted:hover,\n",
       ".sk-estimator-doc-link.fitted:hover,\n",
       "div.sk-label-container:hover .sk-estimator-doc-link.fitted:hover,\n",
       ".sk-estimator-doc-link.fitted:hover {\n",
       "  /* fitted */\n",
       "  background-color: var(--sklearn-color-fitted-level-3);\n",
       "  color: var(--sklearn-color-background);\n",
       "  text-decoration: none;\n",
       "}\n",
       "\n",
       "/* Span, style for the box shown on hovering the info icon */\n",
       ".sk-estimator-doc-link span {\n",
       "  display: none;\n",
       "  z-index: 9999;\n",
       "  position: relative;\n",
       "  font-weight: normal;\n",
       "  right: .2ex;\n",
       "  padding: .5ex;\n",
       "  margin: .5ex;\n",
       "  width: min-content;\n",
       "  min-width: 20ex;\n",
       "  max-width: 50ex;\n",
       "  color: var(--sklearn-color-text);\n",
       "  box-shadow: 2pt 2pt 4pt #999;\n",
       "  /* unfitted */\n",
       "  background: var(--sklearn-color-unfitted-level-0);\n",
       "  border: .5pt solid var(--sklearn-color-unfitted-level-3);\n",
       "}\n",
       "\n",
       ".sk-estimator-doc-link.fitted span {\n",
       "  /* fitted */\n",
       "  background: var(--sklearn-color-fitted-level-0);\n",
       "  border: var(--sklearn-color-fitted-level-3);\n",
       "}\n",
       "\n",
       ".sk-estimator-doc-link:hover span {\n",
       "  display: block;\n",
       "}\n",
       "\n",
       "/* \"?\"-specific style due to the `<a>` HTML tag */\n",
       "\n",
       "#sk-container-id-1 a.estimator_doc_link {\n",
       "  float: right;\n",
       "  font-size: 1rem;\n",
       "  line-height: 1em;\n",
       "  font-family: monospace;\n",
       "  background-color: var(--sklearn-color-background);\n",
       "  border-radius: 1rem;\n",
       "  height: 1rem;\n",
       "  width: 1rem;\n",
       "  text-decoration: none;\n",
       "  /* unfitted */\n",
       "  color: var(--sklearn-color-unfitted-level-1);\n",
       "  border: var(--sklearn-color-unfitted-level-1) 1pt solid;\n",
       "}\n",
       "\n",
       "#sk-container-id-1 a.estimator_doc_link.fitted {\n",
       "  /* fitted */\n",
       "  border: var(--sklearn-color-fitted-level-1) 1pt solid;\n",
       "  color: var(--sklearn-color-fitted-level-1);\n",
       "}\n",
       "\n",
       "/* On hover */\n",
       "#sk-container-id-1 a.estimator_doc_link:hover {\n",
       "  /* unfitted */\n",
       "  background-color: var(--sklearn-color-unfitted-level-3);\n",
       "  color: var(--sklearn-color-background);\n",
       "  text-decoration: none;\n",
       "}\n",
       "\n",
       "#sk-container-id-1 a.estimator_doc_link.fitted:hover {\n",
       "  /* fitted */\n",
       "  background-color: var(--sklearn-color-fitted-level-3);\n",
       "}\n",
       "</style><div id=\"sk-container-id-1\" class=\"sk-top-container\"><div class=\"sk-text-repr-fallback\"><pre>DecisionTreeClassifier(criterion=&#x27;entropy&#x27;, max_depth=5)</pre><b>In a Jupyter environment, please rerun this cell to show the HTML representation or trust the notebook. <br />On GitHub, the HTML representation is unable to render, please try loading this page with nbviewer.org.</b></div><div class=\"sk-container\" hidden><div class=\"sk-item\"><div class=\"sk-estimator fitted sk-toggleable\"><input class=\"sk-toggleable__control sk-hidden--visually\" id=\"sk-estimator-id-1\" type=\"checkbox\" checked><label for=\"sk-estimator-id-1\" class=\"sk-toggleable__label fitted sk-toggleable__label-arrow fitted\">&nbsp;&nbsp;DecisionTreeClassifier<a class=\"sk-estimator-doc-link fitted\" rel=\"noreferrer\" target=\"_blank\" href=\"https://scikit-learn.org/1.5/modules/generated/sklearn.tree.DecisionTreeClassifier.html\">?<span>Documentation for DecisionTreeClassifier</span></a><span class=\"sk-estimator-doc-link fitted\">i<span>Fitted</span></span></label><div class=\"sk-toggleable__content fitted\"><pre>DecisionTreeClassifier(criterion=&#x27;entropy&#x27;, max_depth=5)</pre></div> </div></div></div></div>"
      ],
      "text/plain": [
       "DecisionTreeClassifier(criterion='entropy', max_depth=5)"
      ]
     },
     "execution_count": 8,
     "metadata": {},
     "output_type": "execute_result"
    }
   ],
   "source": [
    "from sklearn.tree import DecisionTreeClassifier\n",
    "clf = DecisionTreeClassifier(criterion='entropy', max_depth=5)\n",
    "clf.fit(X, y)"
   ]
  },
  {
   "cell_type": "markdown",
   "id": "cf77783b-f2af-42a7-ad1e-bc148f84ddef",
   "metadata": {},
   "source": [
    "The accuracy is quite high. Remember that this applies to a very specific population."
   ]
  },
  {
   "cell_type": "code",
   "execution_count": 9,
   "id": "5a7afadd-4cd1-4e4f-9979-64a574ebd0c3",
   "metadata": {},
   "outputs": [
    {
     "data": {
      "text/plain": [
       "0.937"
      ]
     },
     "execution_count": 9,
     "metadata": {},
     "output_type": "execute_result"
    }
   ],
   "source": [
    "round(clf.score(X, y), 3)"
   ]
  },
  {
   "cell_type": "markdown",
   "id": "a6eb7473-f400-49ba-971b-99def09e5c15",
   "metadata": {},
   "source": [
    "Nevertheless, the confusion matrix shows us that the accuracy is not that high for the PCOS patients (83.5%)."
   ]
  },
  {
   "cell_type": "code",
   "execution_count": 10,
   "id": "19c50c57-2094-4946-9465-8b8a419390fa",
   "metadata": {},
   "outputs": [
    {
     "data": {
      "text/plain": [
       "array([[357,   5],\n",
       "       [ 29, 147]])"
      ]
     },
     "execution_count": 10,
     "metadata": {},
     "output_type": "execute_result"
    }
   ],
   "source": [
    "y_pred = clf.predict(X)\n",
    "from sklearn.metrics import confusion_matrix\n",
    "confusion_matrix(y, y_pred)"
   ]
  },
  {
   "cell_type": "markdown",
   "id": "9cdefc08-9fc5-4011-8957-afdfaad3a003",
   "metadata": {},
   "source": [
    "A report on the importance of the features involved in this tree can be obtained as in the preceding lecture."
   ]
  },
  {
   "cell_type": "code",
   "execution_count": 11,
   "id": "b35b30d1-4405-4511-bf80-352b76c9f17b",
   "metadata": {},
   "outputs": [
    {
     "data": {
      "text/plain": [
       "rfollicle      0.442\n",
       "hair_growth    0.109\n",
       "weight_gain    0.099\n",
       "lfollicle      0.084\n",
       "amh            0.048\n",
       "cyclelen       0.046\n",
       "lh             0.043\n",
       "lsize          0.036\n",
       "endometrium    0.020\n",
       "fastfood       0.019\n",
       "beta_hcg1      0.017\n",
       "weight         0.015\n",
       "age            0.013\n",
       "waist          0.008\n",
       "dtype: float64"
      ]
     },
     "execution_count": 11,
     "metadata": {},
     "output_type": "execute_result"
    }
   ],
   "source": [
    "importance = pd.Series(clf.feature_importances_, index=X.columns)\n",
    "importance[importance > 0].sort_values(ascending=False).round(3)"
   ]
  },
  {
   "cell_type": "markdown",
   "id": "9274a4f4-1ea2-4ec2-83af-ff46aba317f8",
   "metadata": {},
   "source": [
    "So far, it is pretty obvious which are the relevant features here."
   ]
  },
  {
   "cell_type": "markdown",
   "id": "b924f1c8-f447-4a85-8d9d-63197c535471",
   "metadata": {},
   "source": [
    "### Q2. Extra features"
   ]
  },
  {
   "cell_type": "markdown",
   "id": "6cd2411a-7a55-4e7c-b183-a330a68d6d4a",
   "metadata": {},
   "source": [
    "We add now the extra features suggested in question Q2 to the current features matrix."
   ]
  },
  {
   "cell_type": "code",
   "execution_count": 12,
   "id": "d803676d-1ec9-4d3e-9d47-654de6e37d01",
   "metadata": {},
   "outputs": [],
   "source": [
    "X['bmi'] = df['weight']/df['height']**2\n",
    "X['lh_fsh'] = df['lh']/df['fsh']\n",
    "X['hip_waist'] = df['hip']/df['waist']"
   ]
  },
  {
   "cell_type": "markdown",
   "id": "4a3490b5-f81f-446a-a9bb-6bb3f53b241b",
   "metadata": {},
   "source": [
    "We train again the decision tree classifier with the enlarged features matrix."
   ]
  },
  {
   "cell_type": "code",
   "execution_count": 13,
   "id": "b39983b0-4119-49d3-bea0-65e3aa85d6e2",
   "metadata": {},
   "outputs": [
    {
     "data": {
      "text/plain": [
       "0.942"
      ]
     },
     "execution_count": 13,
     "metadata": {},
     "output_type": "execute_result"
    }
   ],
   "source": [
    "clf.fit(X, y)\n",
    "round(clf.score(X, y), 3)"
   ]
  },
  {
   "cell_type": "markdown",
   "id": "f05f92f6-ec54-4842-9a9c-3c0b1edd92b9",
   "metadata": {},
   "source": [
    "So, the accuracy of the new model is a bit higher. The LH/FSH ratio seems to be responsible for the improvement."
   ]
  },
  {
   "cell_type": "code",
   "execution_count": 14,
   "id": "532acdd3-5fc5-4165-af8d-41a9caf29bdf",
   "metadata": {},
   "outputs": [
    {
     "data": {
      "text/plain": [
       "rfollicle      0.430\n",
       "hair_growth    0.106\n",
       "weight_gain    0.096\n",
       "lfollicle      0.082\n",
       "lh_fsh         0.046\n",
       "amh            0.040\n",
       "beta_hcg1      0.039\n",
       "lsize          0.035\n",
       "cyclelen       0.024\n",
       "endometrium    0.019\n",
       "fastfood       0.019\n",
       "weight         0.016\n",
       "bmi            0.015\n",
       "fsh            0.014\n",
       "lh             0.012\n",
       "age            0.008\n",
       "dtype: float64"
      ]
     },
     "execution_count": 14,
     "metadata": {},
     "output_type": "execute_result"
    }
   ],
   "source": [
    "importance = pd.Series(clf.feature_importances_, index=X.columns)\n",
    "importance[importance > 0].sort_values(ascending=False).round(3)"
   ]
  },
  {
   "cell_type": "markdown",
   "id": "c19aa1bb-943f-4726-aea2-1d5dc96c555d",
   "metadata": {},
   "source": [
    "### Q3. 3-fold cross-validation"
   ]
  },
  {
   "cell_type": "markdown",
   "id": "5a3d4a61-ffbe-4a61-8a8e-b230d8560b3b",
   "metadata": {},
   "source": [
    "We address now the validation of the decision tree classifier. We use the function `cross_val_score()`, from the subpackage `model_selection`. We use a 3-fold partition, as suggested."
   ]
  },
  {
   "cell_type": "code",
   "execution_count": 15,
   "id": "bfda4ed4-83f9-4f44-8268-b605b2e0beda",
   "metadata": {},
   "outputs": [
    {
     "data": {
      "text/plain": [
       "array([0.844, 0.732, 0.844])"
      ]
     },
     "execution_count": 15,
     "metadata": {},
     "output_type": "execute_result"
    }
   ],
   "source": [
    "from sklearn.model_selection import cross_val_score\n",
    "cross_val_score(clf, X, y, cv=3).round(3)"
   ]
  },
  {
   "cell_type": "markdown",
   "id": "55a7372c-5a34-4a79-b86d-8356bfb1c2a8",
   "metadata": {},
   "source": [
    "We have a clear case of **overfitting**. Let us try with a smaller tree."
   ]
  },
  {
   "cell_type": "markdown",
   "id": "36895b41-f5ca-4fc1-8a54-632d37a69877",
   "metadata": {},
   "source": [
    "### Q4. Reduce the size of the decision tree"
   ]
  },
  {
   "cell_type": "markdown",
   "id": "568115b5-cdd2-4086-a906-767482024063",
   "metadata": {},
   "source": [
    "We set now the maximum depth at 4, which will potentially halve the number of leaf nodes. The accuracy is just a bit lower."
   ]
  },
  {
   "cell_type": "code",
   "execution_count": 16,
   "id": "2e88a253-8150-4cd1-89ce-463a11dd344f",
   "metadata": {},
   "outputs": [
    {
     "data": {
      "text/plain": [
       "0.931"
      ]
     },
     "execution_count": 16,
     "metadata": {},
     "output_type": "execute_result"
    }
   ],
   "source": [
    "clf = DecisionTreeClassifier(max_depth=4)\n",
    "clf.fit(X, y)\n",
    "round(clf.score(X, y), 3)"
   ]
  },
  {
   "cell_type": "markdown",
   "id": "151dde04-6fd7-4d34-ac60-e4856758ac2b",
   "metadata": {},
   "source": [
    "So far, we still have an overfitting issue. Though the accuracy on the three folds is more homogeneous, which is good news."
   ]
  },
  {
   "cell_type": "code",
   "execution_count": 17,
   "id": "07276145-3c51-4a71-865d-08984697d222",
   "metadata": {},
   "outputs": [
    {
     "data": {
      "text/plain": [
       "array([0.861, 0.749, 0.832])"
      ]
     },
     "execution_count": 17,
     "metadata": {},
     "output_type": "execute_result"
    }
   ],
   "source": [
    "cross_val_score(clf, X, y, cv=3).round(3)"
   ]
  },
  {
   "cell_type": "markdown",
   "id": "3db11c96-c600-402b-b937-6be55c266ec3",
   "metadata": {},
   "source": [
    "The decision tree models trained so far have an average accuracy of 81.5% in the cross-validation analysis. Let us accept this and try a small tree, which will have the advantage of being easier to use as an **expert system**, to help the doctor's diagnosis. We try now a different approach to the control of the growth of the tree, based on the **maximum number of leaves**."
   ]
  },
  {
   "cell_type": "code",
   "execution_count": 18,
   "id": "af470ddf-3b99-45a7-ba77-df038b3111ef",
   "metadata": {},
   "outputs": [
    {
     "data": {
      "text/plain": [
       "0.859"
      ]
     },
     "execution_count": 18,
     "metadata": {},
     "output_type": "execute_result"
    }
   ],
   "source": [
    "clf = DecisionTreeClassifier(criterion='entropy', max_leaf_nodes=6)\n",
    "clf.fit(X, y)\n",
    "round(clf.score(X, y), 3)"
   ]
  },
  {
   "cell_type": "markdown",
   "id": "ac9a4545-efce-4a10-ab8e-ca9581d7c80e",
   "metadata": {},
   "source": [
    "This looks more realistic. The features involved in this tree are identified in the importance report."
   ]
  },
  {
   "cell_type": "code",
   "execution_count": 19,
   "id": "b0c4f13a-629a-4f0e-9144-a3d3a8e4b75f",
   "metadata": {},
   "outputs": [
    {
     "data": {
      "text/plain": [
       "rfollicle      0.613\n",
       "weight_gain    0.149\n",
       "hair_growth    0.120\n",
       "amh            0.061\n",
       "lfollicle      0.057\n",
       "dtype: float64"
      ]
     },
     "execution_count": 19,
     "metadata": {},
     "output_type": "execute_result"
    }
   ],
   "source": [
    "importance = pd.Series(clf.feature_importances_, index=X.columns)\n",
    "importance[importance > 0].sort_values(ascending=False).round(3)"
   ]
  },
  {
   "cell_type": "markdown",
   "id": "383c162f-5aaf-43b5-8adf-1544336022d8",
   "metadata": {},
   "source": [
    "The cross-validation does not give us a surprise. We have an average accuracy of 82%, and the three folds produce similar scores."
   ]
  },
  {
   "cell_type": "code",
   "execution_count": 20,
   "id": "3c3de5ee-17d0-4a57-a226-6bc8cb18c6ab",
   "metadata": {},
   "outputs": [
    {
     "data": {
      "text/plain": [
       "array([0.828, 0.821, 0.81 ])"
      ]
     },
     "execution_count": 20,
     "metadata": {},
     "output_type": "execute_result"
    }
   ],
   "source": [
    "cross_val_score(clf, X, y, cv=3).round(3)"
   ]
  },
  {
   "cell_type": "markdown",
   "id": "8d102bf5-765b-4416-b0f3-99973f14eef5",
   "metadata": {},
   "source": [
    "### Plotting the tree"
   ]
  },
  {
   "cell_type": "markdown",
   "id": "8cecf0d6-6647-46a7-b1b5-c0b6851dad91",
   "metadata": {},
   "source": [
    "The interpretability of such a simple model can be enhanced by plotting the tree as explained in lecture ML-03. The function `plot_tree` of the module `tree` can be combined with `matplotlib.pyplot` specifications."
   ]
  },
  {
   "cell_type": "code",
   "execution_count": 21,
   "id": "d61c17c0-458e-46b2-811f-ea9c1ff4fa47",
   "metadata": {},
   "outputs": [
    {
     "data": {
      "image/png": "[encoded data removed]",
      "text/plain": [
       "<Figure size 1300x700 with 1 Axes>"
      ]
     },
     "metadata": {},
     "output_type": "display_data"
    }
   ],
   "source": [
    "from matplotlib import pyplot as plt\n",
    "from sklearn.tree import plot_tree\n",
    "plt.figure(figsize=(13,7))\n",
    "plot_tree(clf, fontsize=10)\n",
    "plt.title('Figure 1. PCOS diagnosis tree', fontsize=16);"
   ]
  },
  {
   "cell_type": "markdown",
   "id": "ff45a872-4758-4c36-8e2a-4d799e4b96f3",
   "metadata": {},
   "source": [
    "### Homework"
   ]
  },
  {
   "cell_type": "markdown",
   "id": "3662fbae-3da1-46ed-9db2-7207d84be967",
   "metadata": {},
   "source": [
    "1. Calculate the confusion matrix for the last model, on the whole data set. Are the accuracies on the positive and the negative group more balanced? What would you prioritize here, the true positive rate or the false positive rate?\n",
    "\n",
    "2. Apply the same cross-validation approach to a logistic regression model. Do you get better results?\n",
    "\n",
    "3. Cross-validation in scikit-learn uses a non-random specific splitting strategy called `StratifiedKFold`. So you get the same results across calls of `cross_val_score`. You can change this easily by replacing `X` and `y` by \"shuffled\" versions, which can be created with the method `.sample()`. Try that and see what happens. Take care of shuffling `X` and `y` in the same way, by giving the same value to the parameter `random_state` of `.sample()`."
   ]
  }
 ],
 "metadata": {
  "kernelspec": {
   "display_name": "Python 3 (ipykernel)",
   "language": "python",
   "name": "python3"
  },
  "language_info": {
   "codemirror_mode": {
    "name": "ipython",
    "version": 3
   },
   "file_extension": ".py",
   "mimetype": "text/x-python",
   "name": "python",
   "nbconvert_exporter": "python",
   "pygments_lexer": "ipython3",
   "version": "3.12.7"
  }
 },
 "nbformat": 4,
 "nbformat_minor": 5
}
