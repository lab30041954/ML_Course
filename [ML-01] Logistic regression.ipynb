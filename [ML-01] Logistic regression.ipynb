{
 "cells": [
  {
   "cell_type": "markdown",
   "id": "21275a45-665e-4241-992a-e7c2184da6bf",
   "metadata": {
    "colab_type": "text",
    "id": "view-in-github"
   },
   "source": [
    "<a href=\"https://colab.research.google.com/github/lab30041954/ML_IESE_Course/blob/main/%5BML-06%5D%20Logistic%20regression.ipynb\" target=\"_parent\"><img src=\"https://colab.research.google.com/assets/colab-badge.svg\" alt=\"Open In Colab\"/></a>"
   ]
  },
  {
   "cell_type": "markdown",
   "metadata": {
    "id": "v-EXmBTIw-hb"
   },
   "source": [
    "# [ML-01] Logistic regression"
   ]
  },
  {
   "cell_type": "markdown",
   "metadata": {},
   "source": [
    "## What is machine learning?"
   ]
  },
  {
   "cell_type": "markdown",
   "metadata": {},
   "source": [
    "The objective of **artificial intelligence** (AI) is create agents that perform certain tasks in an \"intelligent\" way. An **AI agent** can be something physical, like a robot that sweeps the floor, or a software app, like a model that classifies the potential customers of a lending institution as good or bad creditors.\n",
    "\n",
    "**Machine learning** (ML) takes place when the AI agent learns from data how to perform its task. We operationalize the learning process as follows. We design a **model**, which can be as simple as a single equation, or as complex as **Gemini 2.5**. This model has a set of **parameters**. The number of parameters can be high (more than one trillion in some large language models), so it is often unclear what their specific role is. Then the learning process consists in using the data to find the **optimal values** for the parameters. \n",
    "\n",
    "Instead of talking about \"learning\", a statistician would say that he is **fitting** the model to the data, or **estimating** the parameters of the model. This terminology is used in one of the Python libraries used in this course, **scikit-learn**. \n",
    "\n",
    "Finding the optimal parameter values is also called **training**. The data used for training the model are then the **training data**. A major issue with training a model is that the parameter values that are optimal on the training data may be suboptimal on data that have not been involved in the training, so that the model underperforms in real applications. This is the **overfitting** problem.\n",
    "\n",
    "To assess the potential overfitting, the model is tested on different data, which are then called **test data**. This is **model validation**. Validation is needed for models whose complexity allows them to overfit the data. Overfitting is a fact of life for many ML algorithms, *e.g*. for those used to develop **neural network models**. So, validation is integrated in the learning process for these models.\n",
    "\n",
    "This course is restricted to **supervised learning**. Roughly speaking, this is what the statisticians call **prediction**, that is, the description of one variable ($Y$) in terms of other variables (the $X$'s). In the ML context, $Y$ is called the **target**, and the $X$'s are called the **features**. The units (they can be customers, products, etc) on which the features and the target are observed are called **samples** (this term has a different meaning in statistics).\n",
    "\n",
    "The term **regression** applies to the prediction of a (more or less continuous) numeric target, and the term **classification** to the prediction of a categorical target. In **binary classification**, there are only two target values or **classes**, while, in **multi-class classification**, there can be three or more. A **classifier**, or classification model, predicts a probability for every class.\n",
    "\n",
    "In an example of regression, we may try to predict the price of a house from a set of attributes of that house. In one of classification, whether a customer is going to quit our company, from his/her demographics plus some measures of customer activity.\n"
   ]
  },
  {
   "cell_type": "markdown",
   "metadata": {},
   "source": [
    "## What is scikit-learn?"
   ]
  },
  {
   "cell_type": "markdown",
   "metadata": {},
   "source": [
    "The package **scikit-learn** (`sklearn` in the code) is a machine learning toolkit, built on top of NumPy, SciPy and Matplotlib. To get an idea of the hierarchy and the contents of the various scikit-learn subpackages, the best source is the **scikit-learn API Reference** (`scikit-learn.org/stable/modules/classes.html`). Some of these subpackages are used in this course: `linear_model`, `tree`, `metrics`, `ensemble`, etc.\n",
    "\n",
    "The subpackages that we use for supervised learning contain a collection of **estimator classes**, which allow us to create and apply predictive models. In this course, we use a number of these classes: `LinearRegression()`, `LogisticRegression()`, `DecisionTreeClassifier()`, etc. In Python, a **class** is like an object constructor, or a \"blueprint\" for creating objects. Even if they may look intimidating at first sight, it is very easy, in practice, to pick a class from a Python package and create an object of that class, as you will see in the examples of this course.\n",
    "\n",
    "Working with scikit-learn, you may receive a **warning** from time to time. Note that a warning is not the same as an **error message**. An error message stops the execution of your command, while a warning does not. Most of the warnings will tell you nothing of interest, but a few ones contain relevant information, so it is recommended to take a look at them with the corner of your eye.\n",
    "\n",
    "To train a supervised learning method in scikit-learn, you have to specify a (1D) **target vector** `y` and a (2D) **feature matrix** `X`. In regression, both `X` and `y` have to be of numeric or Boolean type, but, in classification, `y` can be a string vector. Both NumPy arrays and Pandas data containers are accepted, but the scikit-learn methods always return NumPy arrays."
   ]
  },
  {
   "cell_type": "markdown",
   "metadata": {},
   "source": [
    "## Classification bascis"
   ]
  },
  {
   "cell_type": "markdown",
   "metadata": {},
   "source": [
    "**Classification** is the prediction of a **categorical target**. The target values are called **classes**, and they are indicated in the training data by **class labels**. In a classification model, the **predicted class** is obtained in two steps:\n",
    "\n",
    "* For every sample, the model calculates a set of **predicted class probabilities**, one for each class. The different types of models differ in the way in which they calculate these probabilities.\n",
    "\n",
    "* The **predicted class** is the one with higher probability.\n",
    "\n",
    "This is the **default prediction** method. When this approach is used, the class probabilities may be hidden, so the model is presented as if it were making the predictions directly. But departure from the default is not rare in many real-world applications.\n",
    "\n",
    "An important case is **class imbalance**. This occurs when the proportion of training units in one class is significantly different from the proportion of training units in the other classes. This will appear in the in this lecture in a casual way, and will be discussed more specifically later.\n",
    "\n",
    "In **binary classification**, there are two classes, typically called **positive** and **negative**. Use the names positive/negative so that they favor your intuition. Mind that, if you leave this to the computer, it may call positive what you regard as negative.\n",
    "\n",
    "In a binary setting, managing two complementary probabilities is redundant, so we can focus on the positive class probability. This probability, called the **predictive score**, is used for management purposes in many business applications (*e.g*. in credit scoring).\n",
    "\n",
    "In the default binary prediction, a sample would be classified as positive when its score exceeds 0.5. But you may wish to replace 0.5 by a different **threshold** value. In a business application, the choice of the threshold may be based on a **cost/benefit analysis**. It is not hard to (approximately) find the **optimal threshold** for a user-specified cost matrix."
   ]
  },
  {
   "cell_type": "markdown",
   "metadata": {},
   "source": [
    "## The confusion matrix"
   ]
  },
  {
   "cell_type": "markdown",
   "metadata": {},
   "source": [
    "The evaluation of a classifier is, explicitly or implicitly, based on a **confusion matrix**, obtained by cross tabulation of the actual classes and the predicted classes. There is not a universal consensus on what to place in the rows and what in the columns. We use the same convention as the scikit-learn manual, with the actual class in the rows and the predicted class in the columns.\n",
    "\n",
    "In a binary setting, a visual inspection of the confusion matrix is always recommended. It will probably help you to decide whether the model is going to be useful. In many cases, it is practical to examine the model performance separately on the actual positives and negatives.\n",
    "\n",
    "The four cells of the confusion matrix are referred to as **true positive** (actual positives predicted as positives), **false positive** (actual negatives predicted as positives), **true negative** (actual negatives predicted as negatives) and **false negative** (actual positives predicted as negatives).\n",
    "\n",
    "<br/>\n",
    "\n",
    "| | Predicted negative | Predicted positive |\n",
    "| --- | :---: | :---: |\n",
    "| **Actual negative** | TN | FP |\n",
    "| **Actual positive** | FN | TP |\n",
    "\n",
    "<br/>\n",
    "\n",
    "The proportion of samples classified in the right way, that is, those for which the actual and the predicted values coincide, is called the **accuracy**,\n",
    "\n",
    "$$\\textrm{Accuracy} = \\frac{\\textrm{TN}+\\textrm{TP}} {\\textrm{TN}+\\textrm{FP}+\\textrm{FN}+\\textrm{TP}}\\thinspace.$$\n",
    "\n",
    "The accuracy can be calculated directly, or extracted from the confusion matrix, as the sum of the diagonal terms divided by the sum of all terms. Although it looks as the obvious metric for the evaluation of a classifier, the accuracy is not always adequate, specially when the training data present class imbalance. For instance, if you have a 90% of negative training units, classifying all the training units as negative gives you 90% accuracy (you don't need machine learning for that!).\n",
    "\n",
    "In a business context, a visual inspection of the confusion matrix is always recommended. In many cases, it is useful to examine the performance of the classifier separately on the actual positives and the actual negatives. Various metrics can be extracted from the confusion matrix, but this course only uses two:\n",
    "\n",
    "* The **true positive rate** is the proportion of right classification among the actual positives,\n",
    "\n",
    "$$\\textrm{TP\\ rate} = \\frac{\\textrm{TP}} {\\textrm{TP}+\\textrm{FN}}\\thinspace.$$\n",
    "\n",
    "* The **false positive rate** is the proportion of wrong classification among the actual negatives,\n",
    "\n",
    "$$\\textrm{FP\\ rate} = \\frac{\\textrm{FP}} {\\textrm{FP}+\\textrm{TN}}\\thinspace.$$\n",
    "\n",
    "A good model should have both a high true positive rate and a low false positive rate low. The relative importance given to these statistics depends on the actual application. Their advantage is that they are still valid when the proportion of positives in the training data has been artificially inflated, because they are calculated separately on the actual positives and the actual negatives. This may look strange, but it is common practice under class imbalance. When the proportion of positives is inflated, the training data cannot be taken as representative of any population, and the accuracy derived from the confusion matrix cannot be extrapolated to the real world.\n"
   ]
  },
  {
   "cell_type": "markdown",
   "metadata": {},
   "source": [
    "## The maths of machine learning"
   ]
  },
  {
   "cell_type": "markdown",
   "metadata": {},
   "source": [
    "In machine learning, the parameter values learned are optimal, meaning that a certain **loss function** attains its minimum value. Typically, the loss function in a classification model is the **average cross-entropy**, a formula extracted from information theory. For every data unit, the cross-entropy is the negative logarithm of the predicted class probability of the actual class of that sample. scikit-learn uses binary logs, as in information theory, but other libraries, like **Keras**, use natural logs. You should not be concerned by this, because you don't really use these cross-entropy values, they are just part of mathematical apparatus.\n",
    "\n",
    "Let us show, explicitly, how the cross-entropy is calculated in a binary setting, using natural logs:\n",
    "\n",
    "* Take a positive sample whose predicted class probabilities are $0.2$ (for the negative class) and $0.8$ (for the positive class). Then, the cross-entropy for this sample is $-\\log\\thinspace 0.8 = 0.2231$. \n",
    "\n",
    "* Take a negative sample whose class probabilities are $0.7$ and $0.3$, respectively. Then, the cross-entropy for this sample is $-\\log\\thinspace 0.7 = 0.3567$. \n",
    "\n",
    "The average of these values for the all the training units is the loss. What is the logic of using this loss function? As shown in Figure 1, the negative log function is decreasing , with the minimum value $-\\log\\thinspace 1 = 0$, so that by minimizing the cross-entropy, we are pushing the class probabilities of the negative units towards the pair $(1, 0)$ and those of the positive units towards the pair $(0, 1)$, that would be the perfect predictions.\n",
    "\n",
    "![](https://raw.githubusercontent.com/lab30041954/Figures/main/neglog.png)\n",
    "\n",
    "We don't have a closed formula to calculate the optimal parameter values. The optimal parameter values are obtained by means of an **optimization algorithm**, called the **solver**, which starts with a set of random parameter values and changes these values in a sequence of steps or **iterations**, decreasing the loss at every step. The iterative process goes on until the loss falls below a certain **tolerance** or until a **maximum number of iterations** has been attained. Then we say that the process has achieved **convergence**. When the feature scales are diverse, this process is slower, and the number of iterations needed to converge is higher. We will see this in the examples.\n"
   ]
  },
  {
   "cell_type": "markdown",
   "metadata": {},
   "source": [
    "## Logistic regression"
   ]
  },
  {
   "cell_type": "markdown",
   "metadata": {},
   "source": [
    "**Logistic regression** is one of the simplest classification methods. In spite of its name, it is a classification method, not a regression method. The explanation is that logistic regression was created by statisticians, and regression does not mean the same in statistics as in machine learning.\n",
    "\n",
    "The class probabilities are calculated as follows. Suppose that $k$ numeric features $X_1, \\dots, X_k$ are used to predict a target with $m$ classes. The logistic regression model is based on a set of linear equations, \n",
    "\n",
    "$$z = b_0 + b_1X_1 + b_2X_2 + \\cdots + b_kX_k,$$\n",
    "\n",
    "one for each class. The values $z_1, \\dots, z_m$, which are called **logits**, are transformed in class probabilities $p_1, \\dots, p_m$ by means of the **softmap function**\n",
    "\n",
    "$$p_i = \\frac{\\exp(z_i)}{\\exp(z_1) + \\cdots + \\exp(z_m)}.$$\n",
    "\n",
    "Note that, since $p_1 + \\cdots + p_m = 1$, one of the equations can be obtained from the rest, so the weights, and consequently the logits are not uniquely determined. Don't worry about this, Python will take care and, in practice, the logits are never extracted explicitly."
   ]
  },
  {
   "cell_type": "markdown",
   "metadata": {},
   "source": [
    "## Example - The churn model"
   ]
  },
  {
   "cell_type": "markdown",
   "metadata": {},
   "source": [
    "### Introduction"
   ]
  },
  {
   "cell_type": "markdown",
   "metadata": {},
   "source": [
    "The term **churn** is used in marketing to refer to a customer leaving the company in favor of a competitor. Churning is a common concern of **Customer Relationship Management** (CRM). A key step in proactive churn management is to predict whether a customer is likely to churn, since an early detection of the potential churners helps to plan the retention campaigns.\n",
    "\n",
    "This example presents a churn model based on a **logistic regression model**, for a company called *Omicron Mobile*, which provides mobile phone services. The data set is based on a random sample of 5,000 customers whose accounts were still alive by September 30, and have been monitored during the fourth quarter. 968 of those customers churned during the fourth quarter, a **churning rate** of 19.4%."
   ]
  },
  {
   "cell_type": "markdown",
   "metadata": {},
   "source": [
    "### The data set"
   ]
  },
  {
   "cell_type": "markdown",
   "metadata": {},
   "source": [
    "The variables included in the data set (file `churn.csv`) are:\n",
    "\n",
    "* `id`, a customer ID (the phone number).\n",
    "\n",
    "* `aclentgh`, the number of days the account has been active at the beginning of the period monitored.\n",
    "\n",
    "* `intplan`, a dummy for having an international plan.\n",
    "\n",
    "* `dataplan`, a dummy for having a data plan.\n",
    "\n",
    "* `ommin`, the total minutes call to any Omicron mobile phone number, voicemail or national landline.\n",
    "\n",
    "* `omcall`, the total number of calls to any Omicron mobile phone number, voicemail or national landline.\n",
    "\n",
    "* `otmin`, the total minutes call to other mobile networks.\n",
    "\n",
    "* `otcall`, the total number of calls to other networks.\n",
    "\n",
    "* `ngmin`, the total minutes call to nongeographic numbers. Nongeographic numbers, such as UK numbers 0844 or 0871, are often helplines for organizations like banks, insurance companies, utilities and charities.\n",
    "\n",
    "* `ngcall`, the total number of calls to nongeographic numbers.\n",
    "\n",
    "* `imin`, the total minutes in international calls.\n",
    "\n",
    "* `icall`, the total international calls.\n",
    "\n",
    "* `cuscall`, the number of calls to customer service.\n",
    "\n",
    "* `churn`, a dummy for churning.\n",
    "\n",
    "All the data are from the third quarter except the last variable.\n",
    "\n",
    "Source: MA Canela, I Alegre & A Ibarra (2019), *Quantitative Methods for Management*, Springer."
   ]
  },
  {
   "cell_type": "markdown",
   "metadata": {},
   "source": [
    "### Questions"
   ]
  },
  {
   "cell_type": "markdown",
   "metadata": {},
   "source": [
    "Q1. Develop a logistic regression model to calculate a **churn score**, that is, an estimate of the probability of churning, for each customer.\n",
    "\n",
    "Q2. How is the distribution of churn scores? Is it different for the churners and the non-churners?\n",
    "\n",
    "Q3. Set an adequate **threshold** for the churn score and apply it to decide which customers are potential churners. What is the **true positive rate**? And the **false positive rate**?"
   ]
  },
  {
   "cell_type": "markdown",
   "metadata": {
    "id": "IdF-IBvFxBaI"
   },
   "source": [
    "### Importing the data"
   ]
  },
  {
   "cell_type": "markdown",
   "metadata": {},
   "source": [
    "We manage the data set as a **Pandas data frame**. First, we import Pandas in the usual way:"
   ]
  },
  {
   "cell_type": "code",
   "execution_count": 1,
   "metadata": {
    "id": "lP_LdOvFxPzQ"
   },
   "outputs": [],
   "source": [
    "import pandas as pd"
   ]
  },
  {
   "cell_type": "markdown",
   "metadata": {},
   "source": [
    "In this course, we use remote data sources. The source files are stored in a GitHub repository. In Pandas, remote source files work the same as local files, the only difference being in the path. For the source files of our examples, the path is:"
   ]
  },
  {
   "cell_type": "code",
   "execution_count": 2,
   "metadata": {},
   "outputs": [],
   "source": [
    "path = 'https://raw.githubusercontent.com/lab30041954/Data/main/'"
   ]
  },
  {
   "cell_type": "markdown",
   "metadata": {},
   "source": [
    "This path can be joined to the file name, as path + filename (in Python, the plus sign + can be used to concatenate strings). Now, we import the data, as a Pandas data frame, with the Pandas function read_csv(). We take the first column in the source file (`id`) as the index (with the argument `index_col=0`). Don't forget that the path must match the current location of the data source file, either local or remote."
   ]
  },
  {
   "cell_type": "code",
   "execution_count": 3,
   "metadata": {},
   "outputs": [],
   "source": [
    "df = pd.read_csv(path + 'churn.csv', index_col=0)"
   ]
  },
  {
   "cell_type": "markdown",
   "metadata": {
    "id": "LAmxhUPCxYk3"
   },
   "source": [
    "### Exploring the data"
   ]
  },
  {
   "cell_type": "markdown",
   "metadata": {},
   "source": [
    "`df` is a Pandas data frame. In the report printed by the method `.info()`, we don't find anything unexpected. There are no missing values."
   ]
  },
  {
   "cell_type": "code",
   "execution_count": 4,
   "metadata": {
    "id": "NCqX_SkixcTb"
   },
   "outputs": [
    {
     "name": "stdout",
     "output_type": "stream",
     "text": [
      "<class 'pandas.core.frame.DataFrame'>\n",
      "Index: 5000 entries, 409-8978 to 444-8504\n",
      "Data columns (total 13 columns):\n",
      " #   Column    Non-Null Count  Dtype  \n",
      "---  ------    --------------  -----  \n",
      " 0   aclength  5000 non-null   int64  \n",
      " 1   intplan   5000 non-null   int64  \n",
      " 2   dataplan  5000 non-null   int64  \n",
      " 3   ommin     5000 non-null   float64\n",
      " 4   omcall    5000 non-null   int64  \n",
      " 5   otmin     5000 non-null   float64\n",
      " 6   otcall    5000 non-null   int64  \n",
      " 7   ngmin     5000 non-null   float64\n",
      " 8   ngcall    5000 non-null   int64  \n",
      " 9   imin      5000 non-null   float64\n",
      " 10  icall     5000 non-null   int64  \n",
      " 11  cuscall   5000 non-null   int64  \n",
      " 12  churn     5000 non-null   int64  \n",
      "dtypes: float64(4), int64(9)\n",
      "memory usage: 546.9+ KB\n"
     ]
    }
   ],
   "source": [
    "df.info()"
   ]
  },
  {
   "cell_type": "markdown",
   "metadata": {
    "id": "oXDXg8EZxifO"
   },
   "source": [
    "### Q1. Logistic regression model"
   ]
  },
  {
   "cell_type": "markdown",
   "metadata": {},
   "source": [
    "We use scikit-learn to obtain our logistic regression model. We start by creating a **target vector** `y` and a **feature matrix** `X`. In this example, the target vector is the last column (`churn`), and the feature matrix is made of the other columns."
   ]
  },
  {
   "cell_type": "code",
   "execution_count": 5,
   "metadata": {
    "id": "xUHKSBehxlnE"
   },
   "outputs": [],
   "source": [
    "y = df['churn']\n",
    "X = df.drop(columns='churn')"
   ]
  },
  {
   "cell_type": "markdown",
   "metadata": {},
   "source": [
    "In this example, we use the class `LogisticRegression()`, from the scikit-learn subpackage `linear_model`. "
   ]
  },
  {
   "cell_type": "code",
   "execution_count": 6,
   "metadata": {
    "id": "QQWjmHM1xpu1"
   },
   "outputs": [],
   "source": [
    "from sklearn.linear_model import LogisticRegression"
   ]
  },
  {
   "cell_type": "markdown",
   "metadata": {},
   "source": [
    "Our estimator will be an **instance** of this class, that is, an object which applies the logistic regression technique. We call this estimator `clf` (to remind us that it is a classifier). Instead of accepting the default parameter values, we increase the **maximum number of iterations**. Using the default `max_iter=100` would have raised a warning indicating that the optimization process has not converged."
   ]
  },
  {
   "cell_type": "code",
   "execution_count": 7,
   "metadata": {},
   "outputs": [],
   "source": [
    "clf = LogisticRegression(max_iter=2000)"
   ]
  },
  {
   "cell_type": "markdown",
   "metadata": {},
   "source": [
    "In scikit-learn, irrespective of the type of estimator, three basic methods, namely `.fit()`, `.predict()` and `.score()`, are available. The method `.fit()` performs the **training**, that is, it finds the logistic regression model that works best for the data. In practice, this means that the parameter values are those for which the loss (the average cross-entropy) is minimum."
   ]
  },
  {
   "cell_type": "code",
   "execution_count": 8,
   "metadata": {
    "id": "GcT2v0JsxsH-"
   },
   "outputs": [
    {
     "data": {
      "text/html": [
       "<style>#sk-container-id-1 {\n",
       "  /* Definition of color scheme common for light and dark mode */\n",
       "  --sklearn-color-text: #000;\n",
       "  --sklearn-color-text-muted: #666;\n",
       "  --sklearn-color-line: gray;\n",
       "  /* Definition of color scheme for unfitted estimators */\n",
       "  --sklearn-color-unfitted-level-0: #fff5e6;\n",
       "  --sklearn-color-unfitted-level-1: #f6e4d2;\n",
       "  --sklearn-color-unfitted-level-2: #ffe0b3;\n",
       "  --sklearn-color-unfitted-level-3: chocolate;\n",
       "  /* Definition of color scheme for fitted estimators */\n",
       "  --sklearn-color-fitted-level-0: #f0f8ff;\n",
       "  --sklearn-color-fitted-level-1: #d4ebff;\n",
       "  --sklearn-color-fitted-level-2: #b3dbfd;\n",
       "  --sklearn-color-fitted-level-3: cornflowerblue;\n",
       "\n",
       "  /* Specific color for light theme */\n",
       "  --sklearn-color-text-on-default-background: var(--sg-text-color, var(--theme-code-foreground, var(--jp-content-font-color1, black)));\n",
       "  --sklearn-color-background: var(--sg-background-color, var(--theme-background, var(--jp-layout-color0, white)));\n",
       "  --sklearn-color-border-box: var(--sg-text-color, var(--theme-code-foreground, var(--jp-content-font-color1, black)));\n",
       "  --sklearn-color-icon: #696969;\n",
       "\n",
       "  @media (prefers-color-scheme: dark) {\n",
       "    /* Redefinition of color scheme for dark theme */\n",
       "    --sklearn-color-text-on-default-background: var(--sg-text-color, var(--theme-code-foreground, var(--jp-content-font-color1, white)));\n",
       "    --sklearn-color-background: var(--sg-background-color, var(--theme-background, var(--jp-layout-color0, #111)));\n",
       "    --sklearn-color-border-box: var(--sg-text-color, var(--theme-code-foreground, var(--jp-content-font-color1, white)));\n",
       "    --sklearn-color-icon: #878787;\n",
       "  }\n",
       "}\n",
       "\n",
       "#sk-container-id-1 {\n",
       "  color: var(--sklearn-color-text);\n",
       "}\n",
       "\n",
       "#sk-container-id-1 pre {\n",
       "  padding: 0;\n",
       "}\n",
       "\n",
       "#sk-container-id-1 input.sk-hidden--visually {\n",
       "  border: 0;\n",
       "  clip: rect(1px 1px 1px 1px);\n",
       "  clip: rect(1px, 1px, 1px, 1px);\n",
       "  height: 1px;\n",
       "  margin: -1px;\n",
       "  overflow: hidden;\n",
       "  padding: 0;\n",
       "  position: absolute;\n",
       "  width: 1px;\n",
       "}\n",
       "\n",
       "#sk-container-id-1 div.sk-dashed-wrapped {\n",
       "  border: 1px dashed var(--sklearn-color-line);\n",
       "  margin: 0 0.4em 0.5em 0.4em;\n",
       "  box-sizing: border-box;\n",
       "  padding-bottom: 0.4em;\n",
       "  background-color: var(--sklearn-color-background);\n",
       "}\n",
       "\n",
       "#sk-container-id-1 div.sk-container {\n",
       "  /* jupyter's `normalize.less` sets `[hidden] { display: none; }`\n",
       "     but bootstrap.min.css set `[hidden] { display: none !important; }`\n",
       "     so we also need the `!important` here to be able to override the\n",
       "     default hidden behavior on the sphinx rendered scikit-learn.org.\n",
       "     See: https://github.com/scikit-learn/scikit-learn/issues/21755 */\n",
       "  display: inline-block !important;\n",
       "  position: relative;\n",
       "}\n",
       "\n",
       "#sk-container-id-1 div.sk-text-repr-fallback {\n",
       "  display: none;\n",
       "}\n",
       "\n",
       "div.sk-parallel-item,\n",
       "div.sk-serial,\n",
       "div.sk-item {\n",
       "  /* draw centered vertical line to link estimators */\n",
       "  background-image: linear-gradient(var(--sklearn-color-text-on-default-background), var(--sklearn-color-text-on-default-background));\n",
       "  background-size: 2px 100%;\n",
       "  background-repeat: no-repeat;\n",
       "  background-position: center center;\n",
       "}\n",
       "\n",
       "/* Parallel-specific style estimator block */\n",
       "\n",
       "#sk-container-id-1 div.sk-parallel-item::after {\n",
       "  content: \"\";\n",
       "  width: 100%;\n",
       "  border-bottom: 2px solid var(--sklearn-color-text-on-default-background);\n",
       "  flex-grow: 1;\n",
       "}\n",
       "\n",
       "#sk-container-id-1 div.sk-parallel {\n",
       "  display: flex;\n",
       "  align-items: stretch;\n",
       "  justify-content: center;\n",
       "  background-color: var(--sklearn-color-background);\n",
       "  position: relative;\n",
       "}\n",
       "\n",
       "#sk-container-id-1 div.sk-parallel-item {\n",
       "  display: flex;\n",
       "  flex-direction: column;\n",
       "}\n",
       "\n",
       "#sk-container-id-1 div.sk-parallel-item:first-child::after {\n",
       "  align-self: flex-end;\n",
       "  width: 50%;\n",
       "}\n",
       "\n",
       "#sk-container-id-1 div.sk-parallel-item:last-child::after {\n",
       "  align-self: flex-start;\n",
       "  width: 50%;\n",
       "}\n",
       "\n",
       "#sk-container-id-1 div.sk-parallel-item:only-child::after {\n",
       "  width: 0;\n",
       "}\n",
       "\n",
       "/* Serial-specific style estimator block */\n",
       "\n",
       "#sk-container-id-1 div.sk-serial {\n",
       "  display: flex;\n",
       "  flex-direction: column;\n",
       "  align-items: center;\n",
       "  background-color: var(--sklearn-color-background);\n",
       "  padding-right: 1em;\n",
       "  padding-left: 1em;\n",
       "}\n",
       "\n",
       "\n",
       "/* Toggleable style: style used for estimator/Pipeline/ColumnTransformer box that is\n",
       "clickable and can be expanded/collapsed.\n",
       "- Pipeline and ColumnTransformer use this feature and define the default style\n",
       "- Estimators will overwrite some part of the style using the `sk-estimator` class\n",
       "*/\n",
       "\n",
       "/* Pipeline and ColumnTransformer style (default) */\n",
       "\n",
       "#sk-container-id-1 div.sk-toggleable {\n",
       "  /* Default theme specific background. It is overwritten whether we have a\n",
       "  specific estimator or a Pipeline/ColumnTransformer */\n",
       "  background-color: var(--sklearn-color-background);\n",
       "}\n",
       "\n",
       "/* Toggleable label */\n",
       "#sk-container-id-1 label.sk-toggleable__label {\n",
       "  cursor: pointer;\n",
       "  display: flex;\n",
       "  width: 100%;\n",
       "  margin-bottom: 0;\n",
       "  padding: 0.5em;\n",
       "  box-sizing: border-box;\n",
       "  text-align: center;\n",
       "  align-items: start;\n",
       "  justify-content: space-between;\n",
       "  gap: 0.5em;\n",
       "}\n",
       "\n",
       "#sk-container-id-1 label.sk-toggleable__label .caption {\n",
       "  font-size: 0.6rem;\n",
       "  font-weight: lighter;\n",
       "  color: var(--sklearn-color-text-muted);\n",
       "}\n",
       "\n",
       "#sk-container-id-1 label.sk-toggleable__label-arrow:before {\n",
       "  /* Arrow on the left of the label */\n",
       "  content: \"▸\";\n",
       "  float: left;\n",
       "  margin-right: 0.25em;\n",
       "  color: var(--sklearn-color-icon);\n",
       "}\n",
       "\n",
       "#sk-container-id-1 label.sk-toggleable__label-arrow:hover:before {\n",
       "  color: var(--sklearn-color-text);\n",
       "}\n",
       "\n",
       "/* Toggleable content - dropdown */\n",
       "\n",
       "#sk-container-id-1 div.sk-toggleable__content {\n",
       "  max-height: 0;\n",
       "  max-width: 0;\n",
       "  overflow: hidden;\n",
       "  text-align: left;\n",
       "  /* unfitted */\n",
       "  background-color: var(--sklearn-color-unfitted-level-0);\n",
       "}\n",
       "\n",
       "#sk-container-id-1 div.sk-toggleable__content.fitted {\n",
       "  /* fitted */\n",
       "  background-color: var(--sklearn-color-fitted-level-0);\n",
       "}\n",
       "\n",
       "#sk-container-id-1 div.sk-toggleable__content pre {\n",
       "  margin: 0.2em;\n",
       "  border-radius: 0.25em;\n",
       "  color: var(--sklearn-color-text);\n",
       "  /* unfitted */\n",
       "  background-color: var(--sklearn-color-unfitted-level-0);\n",
       "}\n",
       "\n",
       "#sk-container-id-1 div.sk-toggleable__content.fitted pre {\n",
       "  /* unfitted */\n",
       "  background-color: var(--sklearn-color-fitted-level-0);\n",
       "}\n",
       "\n",
       "#sk-container-id-1 input.sk-toggleable__control:checked~div.sk-toggleable__content {\n",
       "  /* Expand drop-down */\n",
       "  max-height: 200px;\n",
       "  max-width: 100%;\n",
       "  overflow: auto;\n",
       "}\n",
       "\n",
       "#sk-container-id-1 input.sk-toggleable__control:checked~label.sk-toggleable__label-arrow:before {\n",
       "  content: \"▾\";\n",
       "}\n",
       "\n",
       "/* Pipeline/ColumnTransformer-specific style */\n",
       "\n",
       "#sk-container-id-1 div.sk-label input.sk-toggleable__control:checked~label.sk-toggleable__label {\n",
       "  color: var(--sklearn-color-text);\n",
       "  background-color: var(--sklearn-color-unfitted-level-2);\n",
       "}\n",
       "\n",
       "#sk-container-id-1 div.sk-label.fitted input.sk-toggleable__control:checked~label.sk-toggleable__label {\n",
       "  background-color: var(--sklearn-color-fitted-level-2);\n",
       "}\n",
       "\n",
       "/* Estimator-specific style */\n",
       "\n",
       "/* Colorize estimator box */\n",
       "#sk-container-id-1 div.sk-estimator input.sk-toggleable__control:checked~label.sk-toggleable__label {\n",
       "  /* unfitted */\n",
       "  background-color: var(--sklearn-color-unfitted-level-2);\n",
       "}\n",
       "\n",
       "#sk-container-id-1 div.sk-estimator.fitted input.sk-toggleable__control:checked~label.sk-toggleable__label {\n",
       "  /* fitted */\n",
       "  background-color: var(--sklearn-color-fitted-level-2);\n",
       "}\n",
       "\n",
       "#sk-container-id-1 div.sk-label label.sk-toggleable__label,\n",
       "#sk-container-id-1 div.sk-label label {\n",
       "  /* The background is the default theme color */\n",
       "  color: var(--sklearn-color-text-on-default-background);\n",
       "}\n",
       "\n",
       "/* On hover, darken the color of the background */\n",
       "#sk-container-id-1 div.sk-label:hover label.sk-toggleable__label {\n",
       "  color: var(--sklearn-color-text);\n",
       "  background-color: var(--sklearn-color-unfitted-level-2);\n",
       "}\n",
       "\n",
       "/* Label box, darken color on hover, fitted */\n",
       "#sk-container-id-1 div.sk-label.fitted:hover label.sk-toggleable__label.fitted {\n",
       "  color: var(--sklearn-color-text);\n",
       "  background-color: var(--sklearn-color-fitted-level-2);\n",
       "}\n",
       "\n",
       "/* Estimator label */\n",
       "\n",
       "#sk-container-id-1 div.sk-label label {\n",
       "  font-family: monospace;\n",
       "  font-weight: bold;\n",
       "  display: inline-block;\n",
       "  line-height: 1.2em;\n",
       "}\n",
       "\n",
       "#sk-container-id-1 div.sk-label-container {\n",
       "  text-align: center;\n",
       "}\n",
       "\n",
       "/* Estimator-specific */\n",
       "#sk-container-id-1 div.sk-estimator {\n",
       "  font-family: monospace;\n",
       "  border: 1px dotted var(--sklearn-color-border-box);\n",
       "  border-radius: 0.25em;\n",
       "  box-sizing: border-box;\n",
       "  margin-bottom: 0.5em;\n",
       "  /* unfitted */\n",
       "  background-color: var(--sklearn-color-unfitted-level-0);\n",
       "}\n",
       "\n",
       "#sk-container-id-1 div.sk-estimator.fitted {\n",
       "  /* fitted */\n",
       "  background-color: var(--sklearn-color-fitted-level-0);\n",
       "}\n",
       "\n",
       "/* on hover */\n",
       "#sk-container-id-1 div.sk-estimator:hover {\n",
       "  /* unfitted */\n",
       "  background-color: var(--sklearn-color-unfitted-level-2);\n",
       "}\n",
       "\n",
       "#sk-container-id-1 div.sk-estimator.fitted:hover {\n",
       "  /* fitted */\n",
       "  background-color: var(--sklearn-color-fitted-level-2);\n",
       "}\n",
       "\n",
       "/* Specification for estimator info (e.g. \"i\" and \"?\") */\n",
       "\n",
       "/* Common style for \"i\" and \"?\" */\n",
       "\n",
       ".sk-estimator-doc-link,\n",
       "a:link.sk-estimator-doc-link,\n",
       "a:visited.sk-estimator-doc-link {\n",
       "  float: right;\n",
       "  font-size: smaller;\n",
       "  line-height: 1em;\n",
       "  font-family: monospace;\n",
       "  background-color: var(--sklearn-color-background);\n",
       "  border-radius: 1em;\n",
       "  height: 1em;\n",
       "  width: 1em;\n",
       "  text-decoration: none !important;\n",
       "  margin-left: 0.5em;\n",
       "  text-align: center;\n",
       "  /* unfitted */\n",
       "  border: var(--sklearn-color-unfitted-level-1) 1pt solid;\n",
       "  color: var(--sklearn-color-unfitted-level-1);\n",
       "}\n",
       "\n",
       ".sk-estimator-doc-link.fitted,\n",
       "a:link.sk-estimator-doc-link.fitted,\n",
       "a:visited.sk-estimator-doc-link.fitted {\n",
       "  /* fitted */\n",
       "  border: var(--sklearn-color-fitted-level-1) 1pt solid;\n",
       "  color: var(--sklearn-color-fitted-level-1);\n",
       "}\n",
       "\n",
       "/* On hover */\n",
       "div.sk-estimator:hover .sk-estimator-doc-link:hover,\n",
       ".sk-estimator-doc-link:hover,\n",
       "div.sk-label-container:hover .sk-estimator-doc-link:hover,\n",
       ".sk-estimator-doc-link:hover {\n",
       "  /* unfitted */\n",
       "  background-color: var(--sklearn-color-unfitted-level-3);\n",
       "  color: var(--sklearn-color-background);\n",
       "  text-decoration: none;\n",
       "}\n",
       "\n",
       "div.sk-estimator.fitted:hover .sk-estimator-doc-link.fitted:hover,\n",
       ".sk-estimator-doc-link.fitted:hover,\n",
       "div.sk-label-container:hover .sk-estimator-doc-link.fitted:hover,\n",
       ".sk-estimator-doc-link.fitted:hover {\n",
       "  /* fitted */\n",
       "  background-color: var(--sklearn-color-fitted-level-3);\n",
       "  color: var(--sklearn-color-background);\n",
       "  text-decoration: none;\n",
       "}\n",
       "\n",
       "/* Span, style for the box shown on hovering the info icon */\n",
       ".sk-estimator-doc-link span {\n",
       "  display: none;\n",
       "  z-index: 9999;\n",
       "  position: relative;\n",
       "  font-weight: normal;\n",
       "  right: .2ex;\n",
       "  padding: .5ex;\n",
       "  margin: .5ex;\n",
       "  width: min-content;\n",
       "  min-width: 20ex;\n",
       "  max-width: 50ex;\n",
       "  color: var(--sklearn-color-text);\n",
       "  box-shadow: 2pt 2pt 4pt #999;\n",
       "  /* unfitted */\n",
       "  background: var(--sklearn-color-unfitted-level-0);\n",
       "  border: .5pt solid var(--sklearn-color-unfitted-level-3);\n",
       "}\n",
       "\n",
       ".sk-estimator-doc-link.fitted span {\n",
       "  /* fitted */\n",
       "  background: var(--sklearn-color-fitted-level-0);\n",
       "  border: var(--sklearn-color-fitted-level-3);\n",
       "}\n",
       "\n",
       ".sk-estimator-doc-link:hover span {\n",
       "  display: block;\n",
       "}\n",
       "\n",
       "/* \"?\"-specific style due to the `<a>` HTML tag */\n",
       "\n",
       "#sk-container-id-1 a.estimator_doc_link {\n",
       "  float: right;\n",
       "  font-size: 1rem;\n",
       "  line-height: 1em;\n",
       "  font-family: monospace;\n",
       "  background-color: var(--sklearn-color-background);\n",
       "  border-radius: 1rem;\n",
       "  height: 1rem;\n",
       "  width: 1rem;\n",
       "  text-decoration: none;\n",
       "  /* unfitted */\n",
       "  color: var(--sklearn-color-unfitted-level-1);\n",
       "  border: var(--sklearn-color-unfitted-level-1) 1pt solid;\n",
       "}\n",
       "\n",
       "#sk-container-id-1 a.estimator_doc_link.fitted {\n",
       "  /* fitted */\n",
       "  border: var(--sklearn-color-fitted-level-1) 1pt solid;\n",
       "  color: var(--sklearn-color-fitted-level-1);\n",
       "}\n",
       "\n",
       "/* On hover */\n",
       "#sk-container-id-1 a.estimator_doc_link:hover {\n",
       "  /* unfitted */\n",
       "  background-color: var(--sklearn-color-unfitted-level-3);\n",
       "  color: var(--sklearn-color-background);\n",
       "  text-decoration: none;\n",
       "}\n",
       "\n",
       "#sk-container-id-1 a.estimator_doc_link.fitted:hover {\n",
       "  /* fitted */\n",
       "  background-color: var(--sklearn-color-fitted-level-3);\n",
       "}\n",
       "</style><div id=\"sk-container-id-1\" class=\"sk-top-container\"><div class=\"sk-text-repr-fallback\"><pre>LogisticRegression(max_iter=2000)</pre><b>In a Jupyter environment, please rerun this cell to show the HTML representation or trust the notebook. <br />On GitHub, the HTML representation is unable to render, please try loading this page with nbviewer.org.</b></div><div class=\"sk-container\" hidden><div class=\"sk-item\"><div class=\"sk-estimator fitted sk-toggleable\"><input class=\"sk-toggleable__control sk-hidden--visually\" id=\"sk-estimator-id-1\" type=\"checkbox\" checked><label for=\"sk-estimator-id-1\" class=\"sk-toggleable__label fitted sk-toggleable__label-arrow\"><div><div>LogisticRegression</div></div><div><a class=\"sk-estimator-doc-link fitted\" rel=\"noreferrer\" target=\"_blank\" href=\"https://scikit-learn.org/1.6/modules/generated/sklearn.linear_model.LogisticRegression.html\">?<span>Documentation for LogisticRegression</span></a><span class=\"sk-estimator-doc-link fitted\">i<span>Fitted</span></span></div></label><div class=\"sk-toggleable__content fitted\"><pre>LogisticRegression(max_iter=2000)</pre></div> </div></div></div></div>"
      ],
      "text/plain": [
       "LogisticRegression(max_iter=2000)"
      ]
     },
     "execution_count": 8,
     "metadata": {},
     "output_type": "execute_result"
    }
   ],
   "source": [
    "clf.fit(X, y)"
   ]
  },
  {
   "cell_type": "markdown",
   "metadata": {},
   "source": [
    "The method `.score()` performs an overall evaluation of the model. For a classification model, this is the accuracy. We round it to three digits."
   ]
  },
  {
   "cell_type": "code",
   "execution_count": 9,
   "metadata": {
    "id": "RvRCViU5xuB6"
   },
   "outputs": [
    {
     "data": {
      "text/plain": [
       "0.842"
      ]
     },
     "execution_count": 9,
     "metadata": {},
     "output_type": "execute_result"
    }
   ],
   "source": [
    "round(clf.score(X, y), 3)"
   ]
  },
  {
   "cell_type": "markdown",
   "metadata": {},
   "source": [
    "At first sight, 84.2% of right prediction may look like a feat, but not so if we take into account, the degree of **class imbalance** in these data. With only 19.4% positive cases, 80.6% accuracy can be obtained in a trivial way. So let us take a closer look at the performance of this model.\n",
    "\n",
    "As given by the method `.predict()`, the **predicted target values** are obtained as discussed in our general introduction to classification models. In this example, this means that two complementary class probabilities are calculated for every customer, one for churning (`y == 1`) and one for not churning (`y == 0`). These probabilities can be extracted with the method `.predict_proba()`:"
   ]
  },
  {
   "cell_type": "code",
   "execution_count": 10,
   "metadata": {
    "id": "hkdouwalxw4A"
   },
   "outputs": [
    {
     "data": {
      "text/plain": [
       "array([[0.9527001 , 0.0472999 ],\n",
       "       [0.96875544, 0.03124456],\n",
       "       [0.72551191, 0.27448809],\n",
       "       ...,\n",
       "       [0.871238  , 0.128762  ],\n",
       "       [0.40603354, 0.59396646],\n",
       "       [0.17404007, 0.82595993]])"
      ]
     },
     "execution_count": 10,
     "metadata": {},
     "output_type": "execute_result"
    }
   ],
   "source": [
    "clf.predict_proba(X)"
   ]
  },
  {
   "cell_type": "markdown",
   "metadata": {},
   "source": [
    "Mind that Python sorts the classes alphabetically. In the binary case, this means that the negative class comes first. The probability of the positive class is taken as a **predictive score** (as in credit scoring). Then the predicted class is chosen based on a **threshold value**: the predicted class is positive when the score exceeds the threshold, and negative otherwise. \n",
    "\n",
    "The scores are extracted as:"
   ]
  },
  {
   "cell_type": "code",
   "execution_count": 11,
   "metadata": {
    "id": "KjIQU48bx4c-"
   },
   "outputs": [],
   "source": [
    "df['score'] = clf.predict_proba(X)[:, 1]"
   ]
  },
  {
   "cell_type": "markdown",
   "metadata": {},
   "source": [
    "Note that we have added the scores as a column to our data set, which is just an option, since we can also manage it as a separate vector. The actual class and the predictive score are now the last two columns in `df`."
   ]
  },
  {
   "cell_type": "code",
   "execution_count": 12,
   "metadata": {
    "id": "YtZNK74Ux7eN"
   },
   "outputs": [
    {
     "data": {
      "text/html": [
       "<div>\n",
       "<style scoped>\n",
       "    .dataframe tbody tr th:only-of-type {\n",
       "        vertical-align: middle;\n",
       "    }\n",
       "\n",
       "    .dataframe tbody tr th {\n",
       "        vertical-align: top;\n",
       "    }\n",
       "\n",
       "    .dataframe thead th {\n",
       "        text-align: right;\n",
       "    }\n",
       "</style>\n",
       "<table border=\"1\" class=\"dataframe\">\n",
       "  <thead>\n",
       "    <tr style=\"text-align: right;\">\n",
       "      <th></th>\n",
       "      <th>churn</th>\n",
       "      <th>score</th>\n",
       "    </tr>\n",
       "    <tr>\n",
       "      <th>id</th>\n",
       "      <th></th>\n",
       "      <th></th>\n",
       "    </tr>\n",
       "  </thead>\n",
       "  <tbody>\n",
       "    <tr>\n",
       "      <th>409-8978</th>\n",
       "      <td>0</td>\n",
       "      <td>0.047300</td>\n",
       "    </tr>\n",
       "    <tr>\n",
       "      <th>444-7077</th>\n",
       "      <td>0</td>\n",
       "      <td>0.031245</td>\n",
       "    </tr>\n",
       "    <tr>\n",
       "      <th>401-9132</th>\n",
       "      <td>0</td>\n",
       "      <td>0.274488</td>\n",
       "    </tr>\n",
       "    <tr>\n",
       "      <th>409-2971</th>\n",
       "      <td>0</td>\n",
       "      <td>0.131657</td>\n",
       "    </tr>\n",
       "    <tr>\n",
       "      <th>431-5175</th>\n",
       "      <td>0</td>\n",
       "      <td>0.069270</td>\n",
       "    </tr>\n",
       "    <tr>\n",
       "      <th>...</th>\n",
       "      <td>...</td>\n",
       "      <td>...</td>\n",
       "    </tr>\n",
       "    <tr>\n",
       "      <th>390-2408</th>\n",
       "      <td>0</td>\n",
       "      <td>0.572826</td>\n",
       "    </tr>\n",
       "    <tr>\n",
       "      <th>407-6398</th>\n",
       "      <td>0</td>\n",
       "      <td>0.267134</td>\n",
       "    </tr>\n",
       "    <tr>\n",
       "      <th>444-7620</th>\n",
       "      <td>1</td>\n",
       "      <td>0.128762</td>\n",
       "    </tr>\n",
       "    <tr>\n",
       "      <th>352-4885</th>\n",
       "      <td>1</td>\n",
       "      <td>0.593966</td>\n",
       "    </tr>\n",
       "    <tr>\n",
       "      <th>444-8504</th>\n",
       "      <td>1</td>\n",
       "      <td>0.825960</td>\n",
       "    </tr>\n",
       "  </tbody>\n",
       "</table>\n",
       "<p>5000 rows × 2 columns</p>\n",
       "</div>"
      ],
      "text/plain": [
       "          churn     score\n",
       "id                       \n",
       "409-8978      0  0.047300\n",
       "444-7077      0  0.031245\n",
       "401-9132      0  0.274488\n",
       "409-2971      0  0.131657\n",
       "431-5175      0  0.069270\n",
       "...         ...       ...\n",
       "390-2408      0  0.572826\n",
       "407-6398      0  0.267134\n",
       "444-7620      1  0.128762\n",
       "352-4885      1  0.593966\n",
       "444-8504      1  0.825960\n",
       "\n",
       "[5000 rows x 2 columns]"
      ]
     },
     "execution_count": 12,
     "metadata": {},
     "output_type": "execute_result"
    }
   ],
   "source": [
    "df[['churn', 'score']]"
   ]
  },
  {
   "cell_type": "markdown",
   "metadata": {
    "id": "AWe7LFaIx970"
   },
   "source": [
    "### Q2. Distribution of the churn scores"
   ]
  },
  {
   "cell_type": "markdown",
   "metadata": {},
   "source": [
    "We can visualize the distribution of the predictive scores through a histogram. In this case, we plot separately the scores for the churners (968) and the non-churners (4,032). To do this, we use the module `pyplot` of the library **Matplotlib**. We import it as:"
   ]
  },
  {
   "cell_type": "code",
   "execution_count": 13,
   "metadata": {
    "id": "sZJ7c2xLyEvc"
   },
   "outputs": [],
   "source": [
    "from matplotlib import pyplot as plt"
   ]
  },
  {
   "cell_type": "markdown",
   "metadata": {},
   "source": [
    "You can see below a code chunk for plotting the two histograms side-by-side. The `plt.figure()` line specifies the total size of the figure. Then, `plt.subplot(1, 2, 1)` and `plt.subplot(1, 2, 2)` start the two parts of this code chunk, one for each subplot. These parts are easy to read after our previous experience with the histogram in example ML-04. The argument `range=(0,1)` is used to get intervals of length 0.1 (the default of ´.hist()´ splits the range of the data in 10 intervals), which are easier to read. The argument `edgecolor=white` improves the picture. \n",
    "\n",
    "Note that `plt.subplot(1, 2, i)` refers to the $i$-th subplot in a grid of one row and two columns. The subplots are ordered by row, from left to righ and from top to bottom."
   ]
  },
  {
   "cell_type": "code",
   "execution_count": 14,
   "metadata": {
    "id": "VWA3qEmYyG1Z"
   },
   "outputs": [
    {
     "data": {
      "image/png": "[encoded data removed]",
      "text/plain": [
       "<Figure size 1200x500 with 2 Axes>"
      ]
     },
     "metadata": {},
     "output_type": "display_data"
    }
   ],
   "source": [
    "# Set the size of the figure\n",
    "plt.figure(figsize=(12,5))\n",
    "# First subplot\n",
    "plt.subplot(1, 2, 1)\n",
    "plt.hist(df['score'][y == 1], range=(0,1), color='gray', edgecolor='white')\n",
    "plt.title('Figure 1.a. Scores (churners)')\n",
    "plt.xlabel('Churn score')\n",
    "# Second subplot\n",
    "plt.subplot(1, 2, 2)\n",
    "plt.hist(df['score'][y == 0], range=(0,1), color='gray', edgecolor='white')\n",
    "plt.title('Figure 1.b. Scores (non-churners)')\n",
    "plt.xlabel('Churn score');"
   ]
  },
  {
   "cell_type": "markdown",
   "metadata": {},
   "source": [
    "You can now imagine the threshold as a vertical line, and move it, right or left from the default threshold value 0.5. The customers falling on the right of that vertical line would be classified as positive, and those falling on the left as negative."
   ]
  },
  {
   "cell_type": "markdown",
   "metadata": {
    "id": "vRUGhl_PyIzP"
   },
   "source": [
    "### Q3. Set a threshold for the churn scores"
   ]
  },
  {
   "cell_type": "markdown",
   "metadata": {},
   "source": [
    "The method `.predict()` uses the default threshold 0.5. It is plainly seen in Figure 1.a, that, in this way, we are missing more than one half of the churners. So, in spite of its accuracy, our model would not be adequate for the actual business application."
   ]
  },
  {
   "cell_type": "code",
   "execution_count": 15,
   "metadata": {
    "id": "jxCzxCJFyNDl"
   },
   "outputs": [],
   "source": [
    "y_pred = clf.predict(X)"
   ]
  },
  {
   "cell_type": "markdown",
   "metadata": {},
   "source": [
    "The **confusion matrix**, resulting from the cross tabulation of the actual and the predicted target values, confirms this visual intuition. Confusion matrices can be obtained in many ways. For instance, with the function `confusion_matrix` of the scikit-learn subpackage `metrics`:"
   ]
  },
  {
   "cell_type": "code",
   "execution_count": 16,
   "metadata": {
    "id": "7bTgWJq7yQ0e"
   },
   "outputs": [
    {
     "data": {
      "text/plain": [
       "array([[3896,  136],\n",
       "       [ 656,  312]])"
      ]
     },
     "execution_count": 16,
     "metadata": {},
     "output_type": "execute_result"
    }
   ],
   "source": [
    "from sklearn.metrics import confusion_matrix\n",
    "confusion_matrix(y, y_pred)"
   ]
  },
  {
   "cell_type": "markdown",
   "metadata": {},
   "source": [
    "The accuracy returned by the method `.score()` is the sum of the diagonal terms of this matrix divided by the sum of all terms of the matrix."
   ]
  },
  {
   "cell_type": "markdown",
   "metadata": {},
   "source": [
    "As we guessed from the histogram, our churn model is not capturing enough churners (304/968) for a business application. To predict more positives, we have to lower the threshold. Figure 1.a suggests that we have to go down to about 0.2 to make a real difference, while Figure 1.b warns us against lowering it further. So, let us try 0.2. The new vector of predicted clases can then be obtained as:"
   ]
  },
  {
   "cell_type": "code",
   "execution_count": 18,
   "metadata": {
    "id": "gg6mvS2fyaId"
   },
   "outputs": [],
   "source": [
    "y_pred = (df['score'] > 0.2).astype(int)"
   ]
  },
  {
   "cell_type": "markdown",
   "metadata": {},
   "source": [
    "The new confusion matrix is:"
   ]
  },
  {
   "cell_type": "code",
   "execution_count": 19,
   "metadata": {
    "id": "V7MMqdAhycnr"
   },
   "outputs": [
    {
     "data": {
      "text/plain": [
       "array([[3166,  866],\n",
       "       [ 343,  625]])"
      ]
     },
     "execution_count": 19,
     "metadata": {},
     "output_type": "execute_result"
    }
   ],
   "source": [
    "confusion_matrix(y, y_pred)"
   ]
  },
  {
   "cell_type": "markdown",
   "metadata": {},
   "source": [
    "Indeed, we are capturing now about 2/3 of the churners. This comes at the price of raising the false positives to 866, which affects the accuracy (now, it is 0.758)."
   ]
  },
  {
   "cell_type": "markdown",
   "metadata": {},
   "source": [
    "A clear way to summarize the evaluation of the model comes through the true positive and false positive rates. They can be extracted from the confusion matrix or calculated directly. The true positive rate is the proportion of predicted positives among the actual positives (0.646). The false positive rate is the proportion of predicted positives among the actual negatives (0.215)."
   ]
  },
  {
   "cell_type": "markdown",
   "metadata": {},
   "source": [
    "### Homework"
   ]
  },
  {
   "cell_type": "markdown",
   "metadata": {},
   "source": [
    "1. In this data set, there is a mix of scales, twhich can be visualized with the method `.describe()`. This slowns down the convergence in the  method `.fit()`, so we had to increase the parameter `max_iter`. This is not relevant in a model as simple as the one used in this example, but it will be in the complex that will appear later in this course, such the **neural network models**. Try different values for `max_iter` in the specification of the `LogisticRegression()` and examine how the maximum number of iterations affects the model accuracy in this case.\n",
    "\n",
    "2. Rescale all the features which are not dummies and train the logistic regression classifier with the default number of iterations. Do you get a warning about non-convergence now?\n",
    "\n",
    "3. Assume that the Omicron management plans to offer a **20% discount** to the customers that the model classifies as potential churners, and that this offer is going to have a 100% success, so the company will retain all the churners detected. Evaluate the benefit produced by this **retention policy** with the two models presented in this example.\n",
    "\n",
    "4. Write a Python function which gives the benefit in terms of the threshold and find an **optimal threshold** for this retention policy."
   ]
  }
 ],
 "metadata": {
  "colab": {
   "authorship_tag": "ABX9TyNSVw47V+iRHUcutocULKgd",
   "provenance": []
  },
  "kernelspec": {
   "display_name": "Python 3 (ipykernel)",
   "language": "python",
   "name": "python3"
  },
  "language_info": {
   "codemirror_mode": {
    "name": "ipython",
    "version": 3
   },
   "file_extension": ".py",
   "mimetype": "text/x-python",
   "name": "python",
   "nbconvert_exporter": "python",
   "pygments_lexer": "ipython3",
   "version": "3.13.5"
  }
 },
 "nbformat": 4,
 "nbformat_minor": 4
}
