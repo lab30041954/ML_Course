{
 "cells": [
  {
   "cell_type": "markdown",
   "id": "f864a856-b0ab-4c2c-a879-c1bed06beb37",
   "metadata": {},
   "source": [
    "# [ML-02] Imbalanced learning"
   ]
  },
  {
   "cell_type": "markdown",
   "id": "3811c63f-3710-42b4-a4d3-40889d4b6103",
   "metadata": {},
   "source": [
    "## Class imbalance"
   ]
  },
  {
   "cell_type": "markdown",
   "id": "1747d31b-a9e6-4919-9840-eec986b946e5",
   "metadata": {},
   "source": [
    "In classification, the target is a categorical variable with a (typically small) collection of values, which we call **classes**. When the data collection is driven by the availability of data, it is not rare for the proportion of training units of one class to be significantly different from the proportion of units of the other classes. This is called **class imbalance**. Though it does not receive enough attention in learning materials, class imbalance is quite frequent in applications. Examples are **credit scoring** or **fraud detection**. It also occurs in **direct marketing**, since **conversion rates** are typically low.\n",
    "\n",
    "To simplify, let us assume a binary classification context, with two classes, positive and negative. Typically, class imbalance happens because the positive training units are much less frequent than the negative ones. Imbalance can be extreme in some applications. For instance, for fraud detection in credit card transactions, the proportion of fraudulent transactions is typically below 1%. \n",
    "\n",
    "In such a extreme situation, many recommended metrics for model evaluation don't make sense. The accuracy, for instance. The **total accuracy** value that we see in the evaluation report of a classification model is the weighted average of the accuracy in the positive class and the accuracy in the negative class. If the positive class is much smaller than the negative class, the accuracy in the positive class has practically no influence in the total accuracy. So, a model can have a very good total accuracy but a poor accuracy in the positive class. Moreover, it may be that the learning process pushes the model selection in that direction.\n",
    "\n",
    "Various approaches have been proposed to address the class imbalance problem. They constitute the so called **imbalanced learning**. This lecture is a short introduction to this methodology.\n"
   ]
  },
  {
   "cell_type": "markdown",
   "id": "4a96b073-f657-4171-bf67-7ed8c2adbb31",
   "metadata": {},
   "source": [
    "## The scoring approach"
   ]
  },
  {
   "cell_type": "markdown",
   "id": "f759e893-b24a-4108-b8e7-cd7ffd168315",
   "metadata": {},
   "source": [
    "A classification model predicts a set of **class probabilities** for every data unit. In scikit-learn, this is given by the method `.predict_proba()`. In the default prediction, the predicted class is the one with the highest probability. In scikit-learn, this is what the method `.predict()` does. One way of dealing with class imbalance is to step back to the class probabilities, using them directly.\n",
    "\n",
    "In binary classification, the two class probabilities are complementary, so we focus on the positive class probability, which we call **predictive score**. In terms of these scores, the default prediction consists in predicting as positive those units for which the score exceeds 0.5. One way of coping with imbalance is to lower this threshold to a value closer to the actual proportion of positive training units. This is simple and easy to manage under moderate class imbalance. \n",
    "\n",
    "Nevertheless, under extreme class imbalance, the predicted class may be too sensitive to small changes in the threshold. Because of this, and also because users find that the scores are more \"managerial\" that the binary prediction, using the scores in business is common practice, in particular in fields like credit scoring or fraud detection. Decisions may be based on the scores, without an explicit pre-specified threshold.\n",
    "\n",
    "The scoring approach popped up in the preceding lecture, and it is illustrated again in the example of this lecture. Alternative approaches, based on resampling the training data, are explained below, though the practice is left for the homework."
   ]
  },
  {
   "cell_type": "markdown",
   "id": "0a2aa6c7-b128-47ed-817b-268fba174b4c",
   "metadata": {},
   "source": [
    "## Resampling"
   ]
  },
  {
   "cell_type": "markdown",
   "id": "aaf973da-85dd-402e-9b17-e678a9896ea6",
   "metadata": {},
   "source": [
    "In a **resampling** approach, we train the model on a modified data set, in which the class imbalance has been artificially corrected. A **random sampling** process is sometimes associated to these methods. There are various resampling methods, but we can summarize them as: \n",
    "\n",
    "* **Undersampling**: we reduce the number of negative training units to match the number of positive training units.\n",
    "\n",
    "* **Oversampling**: we increase the number of positive training units to match the number of negative training units.\n",
    "\n",
    "A specialized package, `imblearn`, complements scikit-learn with a resampling toolkit. But, instead of `imblearn`, we propose here the Pandas method `.sample()`, which makes everything obvious."
   ]
  },
  {
   "cell_type": "markdown",
   "id": "9cf74695-9f13-452c-b277-bf817829d27e",
   "metadata": {},
   "source": [
    "## Undersampling"
   ]
  },
  {
   "cell_type": "markdown",
   "id": "4b0d1be2-1abb-4388-b694-56fab813cb95",
   "metadata": {},
   "source": [
    "Undersampling typically proceeds by randomly dropping as many negative units as needed to match the positive units. So, we end up with a perfectly balanced data set. Let us suppose that the training data are stored in a Pandas data frame `df`, in which the target column is a dummy named `class`, so we have `class=1` for the positive units and `class=0` for the negative units:\n",
    "\n",
    "We split the training data in two subsets as:\n",
    "\n",
    "```\n",
    "df0, df1 = df[df['class'] == 0], df[df['class'] == 1]\n",
    "```\n",
    "\n",
    "The number of negative and positive units are:\n",
    "\n",
    "```\n",
    "n0, n1 = df0.shape[0], df1.shape[0]\n",
    "```\n",
    "\n",
    "Class imbalance means that `n0` is much bigger than `n1`. We extract from `df0` a random subset, with `n1` rows:\n",
    "\n",
    "```\n",
    "df0_under = df0.sample(n1)\n",
    "```\n",
    "\n",
    "Then, we join this reduced data set to the positive training subset.\n",
    "\n",
    "```\n",
    "df_under = pd.concat([df0_under, df1])\n",
    "```\n",
    "\n",
    "Now, `df_under` is balanced, with `n1` positive units and `n1` negative units."
   ]
  },
  {
   "cell_type": "markdown",
   "id": "64147813-5ca0-4d04-b415-eef32da24887",
   "metadata": {},
   "source": [
    "## Oversampling"
   ]
  },
  {
   "cell_type": "markdown",
   "id": "af4f5621-7ade-4bb1-9890-18fa2ac117d7",
   "metadata": {},
   "source": [
    "Oversampling adds extra positive units, so we end up with a pefectly balanced data set. These additional positive units can be obtained either by replicating existing positive units or by generating artificial, nonexisting units by interpolation. The top popular method for interpolation is **SMOTE** (Synthetic Minority Oversampling TEchnique).\n",
    "\n",
    "We only consider the first approach here. The Python code would be similar to that used for undersampling. Once the training data set has been split, we apply the method `.sample()` to `df1` with the argument `replace=True` (the default is `replace=True`). This extracts from `df1`a random sample of rows, with some units eventually repeated.\n",
    "\n",
    " ```\n",
    "df1_over = df1.sample(n0 - n1, replace=True)\n",
    "```\n",
    "\n",
    "We add then the extra units to the original data set.\n",
    "\n",
    "```\n",
    "df_over = pd.concat([df, df1_over])\n",
    "```\n",
    "\n",
    "Now, `df_over` is balanced, with `n0` positive units and `n0` negative units."
   ]
  },
  {
   "cell_type": "markdown",
   "id": "b7d1da0b-fb68-4c13-a33a-ebc7fab1fc4d",
   "metadata": {},
   "source": [
    "## Example - Direct marketing of term deposits"
   ]
  },
  {
   "cell_type": "markdown",
   "id": "ce0fc7a8-010f-40ee-b101-3d1ffc4cd0f9",
   "metadata": {},
   "source": [
    "### Introduction"
   ]
  },
  {
   "cell_type": "markdown",
   "id": "d556066b-e53d-4b03-b434-ca6e46749278",
   "metadata": {},
   "source": [
    "There are two main approaches for companies to promote products and/or services: through **mass campaigns**, targeting a general indiscriminate public, or through **direct marketing**, targeting a specific set of contacts. Nowadays, in a global competitive world, positive responses to mass campaigns are typically very low. Alternatively, direct marketing focuses on targets that assumably will be keener to that specific product/service, making these campaigns more efficient. But the increasingly vast number of marketing campaigns has reduced their effect on the general public. Furthermore, economical pressures and competition has led marketing managers to invest on direct campaigns with a strict and rigorous selection of contacts.\n",
    "\n",
    "Ten years ago, due to the internal competition and the current financial crisis, there were huge pressures for European banks to increase their financial assets. One strategy is to offer attractive **long-term deposit** applications with good interest rates, in particular through direct marketing. A Portuguese institution had been offering term deposits to its clients for the last two years, but in a way that the board finds disorganized and inefficient. Too many contacts were made for the subscriptions obtained.\n",
    "\n",
    "The bank had been using its own contact-center to carry out direct marketing campaigns. The telephone was the dominant marketing channel, sometimes with the help of the Internet online banking channel (*e.g*. by showing information to a specific targeted client). Furthermore, each campaign was managed in an integrated fashion and the results for all channels were outputted together.\n",
    "\n",
    "The manager in charge of the next campaign was expected to optimize the effort. His objective was to derive, from the data of the preceding campaign  a **predictive model** for the success of a contact, *i.e*. whether the client subscribes the deposit. That model would increase the campaign's efficiency by identifying the main characteristics that affected success, helping in a better management of the available resources (*e.g*. human effort, phone calls and time) and the selection of a high quality and affordable set of potential clients. To be useful for the direct campaign, a predictive model must allow reducing the number of calls in a relevant way, without losing a relevant number of subscribers."
   ]
  },
  {
   "cell_type": "markdown",
   "id": "8284d846-f6da-446f-8458-553c4d92d8fd",
   "metadata": {},
   "source": [
    "### The data set"
   ]
  },
  {
   "cell_type": "markdown",
   "id": "7b07237f-a529-4898-b474-e673c579f616",
   "metadata": {},
   "source": [
    "The data for this example come from the previous phone campaign of the bank, which involved a total of 45,211 contacts. During that campaign, an attractive long-term deposit application, with good interest rates, was offered. The contacts led to 5,289 subscriptions, a 11.7% **conversion rate**.\n",
    "\n",
    "The data set combines demographic data with data about the interaction of the client and the bank. Some of the categorical variables (the type of job, the marital status, etc) have been transformed into **dummy variables** (1/0) so they can enter an equation:\n",
    "\n",
    "* The client's account number (`accnum`).\n",
    "\n",
    "* The client's  age in years (`age`).\n",
    "\n",
    "* The client's type of job (`job`). The values are 'admin', 'blue-collar', 'entrepreneur', 'housemaid', 'management', 'retired', 'self-employed', 'student', 'technician', 'unknown' and 'unemployed'. Converted to twelve dummies.\n",
    "\n",
    "* The client's marital status (`marital`). The values are 'married', 'divorced' and 'single'. Converted to three dummies.\n",
    "\n",
    "* The client's education level (`education`). The values are 'unknown', 'secondary', 'primary' and 'tertiary'. Converted to four dummies.\n",
    "\n",
    "* Whether the client had credit in default (`default`). The values are 'yes' and 'no'. Converted to a dummy (1 = yes, 0 = no).\n",
    "\n",
    "* The client's average yearly balance in euros (`balance`).\n",
    "\n",
    "* Whether the client had a housing loan (`housing`). The values are 'yes' and 'no'. Converted to a dummy (1 = yes, 0 = no).\n",
    "\n",
    "* Whether the client had a personal loan (`loan`). The values are 'yes' and 'no'. Converted to a dummy (1 = yes, 0 = no).\n",
    "\n",
    "* The usual communication channel with the client (`contact`). The values are 'unknown', 'telephone' and 'cellular'. Converted to three dummies.\n",
    "\n",
    "* The duration of the last contact with the client before the campaign in seconds (`duration`). \n",
    "\n",
    "* The number of days passed by after the client was last contacted from a previous campaign (`pdays`). The entry is -1 when the client had not been previously contacted.\n",
    "\n",
    "* The number of contacts performed before this campaign and for this client (`previous`).\n",
    "\n",
    "* The outcome of the previous marketing campaign with the client (`poutcome`). The values are 'unknown', 'other', 'failure' and 'success'. Converted to four dummies.\n",
    "\n",
    "* Whether the client had subscribed a term deposit (`deposit`). The values are 'yes' and 'no'. Converted to a dummy (1 = yes, 0 = no). This is the target of the predictive model to be developed.\n",
    "\n",
    "Source: S Moro, P Cortez & P Rita (2014), A data-driven approach to predict the success of bank telemarketing, *Decision Support Systems* **62**, 22-31."
   ]
  },
  {
   "cell_type": "markdown",
   "id": "52f22844-148a-4ac2-a351-f61c56f42f44",
   "metadata": {},
   "source": [
    "### Questions"
   ]
  },
  {
   "cell_type": "markdown",
   "id": "ad6c3e05-7bfd-454a-9c09-663bba0df872",
   "metadata": {},
   "source": [
    "Q1. Develop a **logistic regression model** to predict the response to the campaign (`deposit`) from the other variables.\n",
    "\n",
    "Q2. Use your model to assign, to every client, a **predictive score** for subscribing the deposit. How is the distribution of the scores? Is it different for the subscribers and the non-subscribers?\n",
    "\n",
    "Q3. Set a **threshold** for the scores to adequate the model to your business purpose.\n",
    "\n",
    "Q4. Based on your model, if a **target** of 4,000 subscriptions has been set, how many calls would be needed to hit the target?\n",
    "\n",
    "Q5. Setting a **budget** of 10,000 calls, how would you select the clients to be called? How many subscriptions would be achieved?"
   ]
  },
  {
   "cell_type": "markdown",
   "id": "6daa0f3d-ec2b-47a2-be18-aac37e4ed865",
   "metadata": {},
   "source": [
    "### Importing the data"
   ]
  },
  {
   "cell_type": "markdown",
   "id": "b3f6f237-db8f-477f-bdc4-5c439d69eef3",
   "metadata": {},
   "source": [
    "As in the preceding lecture, we use the Pandas funcion `read_csv()` to import the data from a GitHub repository. We take the column `accnum` as the index (`index_col=0`)."
   ]
  },
  {
   "cell_type": "code",
   "execution_count": 1,
   "id": "5a8b5606-d6c0-4412-8bb0-ec7626e703ac",
   "metadata": {},
   "outputs": [],
   "source": [
    "import pandas as pd\n",
    "path = 'https://raw.githubusercontent.com/lab30041954/Data/main/'\n",
    "df = pd.read_csv(path + 'deposit.csv', index_col=0)"
   ]
  },
  {
   "cell_type": "markdown",
   "id": "4bee56c3-8511-4786-8811-350cba24a9f3",
   "metadata": {},
   "source": [
    "### Exploring the data"
   ]
  },
  {
   "cell_type": "markdown",
   "id": "c28225cc-03e1-4baf-8a3b-6f995e156ec6",
   "metadata": {},
   "source": [
    "We print a report of the content of `df` with the method `.info()`. Everything comes as expected, so far. There are no missing values."
   ]
  },
  {
   "cell_type": "code",
   "execution_count": 2,
   "id": "30081f58-1ec4-4f15-ac4f-a050fa261551",
   "metadata": {},
   "outputs": [
    {
     "name": "stdout",
     "output_type": "stream",
     "text": [
      "<class 'pandas.core.frame.DataFrame'>\n",
      "Index: 45211 entries, 2065031284 to 2086934257\n",
      "Data columns (total 35 columns):\n",
      " #   Column               Non-Null Count  Dtype\n",
      "---  ------               --------------  -----\n",
      " 0   age                  45211 non-null  int64\n",
      " 1   job_admin            45211 non-null  int64\n",
      " 2   job_blue-collar      45211 non-null  int64\n",
      " 3   job_entrepreneur     45211 non-null  int64\n",
      " 4   job_housemaid        45211 non-null  int64\n",
      " 5   job_management       45211 non-null  int64\n",
      " 6   job_retired          45211 non-null  int64\n",
      " 7   job_self-employed    45211 non-null  int64\n",
      " 8   job_services         45211 non-null  int64\n",
      " 9   job_student          45211 non-null  int64\n",
      " 10  job_technician       45211 non-null  int64\n",
      " 11  job_unemployed       45211 non-null  int64\n",
      " 12  job_unknown          45211 non-null  int64\n",
      " 13  marital_divorced     45211 non-null  int64\n",
      " 14  marital_married      45211 non-null  int64\n",
      " 15  marital_single       45211 non-null  int64\n",
      " 16  education_primary    45211 non-null  int64\n",
      " 17  education_secondary  45211 non-null  int64\n",
      " 18  education_tertiary   45211 non-null  int64\n",
      " 19  education_unknown    45211 non-null  int64\n",
      " 20  default              45211 non-null  int64\n",
      " 21  balance              45211 non-null  int64\n",
      " 22  housing              45211 non-null  int64\n",
      " 23  loan                 45211 non-null  int64\n",
      " 24  channel_cellular     45211 non-null  int64\n",
      " 25  channel_telephone    45211 non-null  int64\n",
      " 26  channel_unknown      45211 non-null  int64\n",
      " 27  duration             45211 non-null  int64\n",
      " 28  pdays                45211 non-null  int64\n",
      " 29  previous             45211 non-null  int64\n",
      " 30  poutcome_failure     45211 non-null  int64\n",
      " 31  poutcome_other       45211 non-null  int64\n",
      " 32  poutcome_success     45211 non-null  int64\n",
      " 33  poutcome_unknown     45211 non-null  int64\n",
      " 34  deposit              45211 non-null  int64\n",
      "dtypes: int64(35)\n",
      "memory usage: 12.4 MB\n"
     ]
    }
   ],
   "source": [
    "df.info()"
   ]
  },
  {
   "cell_type": "markdown",
   "id": "fdd3bc4a-96cc-4621-85fc-6e20bc04cc36",
   "metadata": {},
   "source": [
    "We also display the first five rows:"
   ]
  },
  {
   "cell_type": "code",
   "execution_count": 3,
   "id": "ad15fa47-4119-4f44-94f3-ff81affb1532",
   "metadata": {},
   "outputs": [
    {
     "data": {
      "text/html": [
       "<div>\n",
       "<style scoped>\n",
       "    .dataframe tbody tr th:only-of-type {\n",
       "        vertical-align: middle;\n",
       "    }\n",
       "\n",
       "    .dataframe tbody tr th {\n",
       "        vertical-align: top;\n",
       "    }\n",
       "\n",
       "    .dataframe thead th {\n",
       "        text-align: right;\n",
       "    }\n",
       "</style>\n",
       "<table border=\"1\" class=\"dataframe\">\n",
       "  <thead>\n",
       "    <tr style=\"text-align: right;\">\n",
       "      <th></th>\n",
       "      <th>age</th>\n",
       "      <th>job_admin</th>\n",
       "      <th>job_blue-collar</th>\n",
       "      <th>job_entrepreneur</th>\n",
       "      <th>job_housemaid</th>\n",
       "      <th>job_management</th>\n",
       "      <th>job_retired</th>\n",
       "      <th>job_self-employed</th>\n",
       "      <th>job_services</th>\n",
       "      <th>job_student</th>\n",
       "      <th>...</th>\n",
       "      <th>channel_telephone</th>\n",
       "      <th>channel_unknown</th>\n",
       "      <th>duration</th>\n",
       "      <th>pdays</th>\n",
       "      <th>previous</th>\n",
       "      <th>poutcome_failure</th>\n",
       "      <th>poutcome_other</th>\n",
       "      <th>poutcome_success</th>\n",
       "      <th>poutcome_unknown</th>\n",
       "      <th>deposit</th>\n",
       "    </tr>\n",
       "    <tr>\n",
       "      <th>accnum</th>\n",
       "      <th></th>\n",
       "      <th></th>\n",
       "      <th></th>\n",
       "      <th></th>\n",
       "      <th></th>\n",
       "      <th></th>\n",
       "      <th></th>\n",
       "      <th></th>\n",
       "      <th></th>\n",
       "      <th></th>\n",
       "      <th></th>\n",
       "      <th></th>\n",
       "      <th></th>\n",
       "      <th></th>\n",
       "      <th></th>\n",
       "      <th></th>\n",
       "      <th></th>\n",
       "      <th></th>\n",
       "      <th></th>\n",
       "      <th></th>\n",
       "      <th></th>\n",
       "    </tr>\n",
       "  </thead>\n",
       "  <tbody>\n",
       "    <tr>\n",
       "      <th>2065031284</th>\n",
       "      <td>58</td>\n",
       "      <td>0</td>\n",
       "      <td>0</td>\n",
       "      <td>0</td>\n",
       "      <td>0</td>\n",
       "      <td>1</td>\n",
       "      <td>0</td>\n",
       "      <td>0</td>\n",
       "      <td>0</td>\n",
       "      <td>0</td>\n",
       "      <td>...</td>\n",
       "      <td>0</td>\n",
       "      <td>1</td>\n",
       "      <td>261</td>\n",
       "      <td>-1</td>\n",
       "      <td>0</td>\n",
       "      <td>0</td>\n",
       "      <td>0</td>\n",
       "      <td>0</td>\n",
       "      <td>1</td>\n",
       "      <td>0</td>\n",
       "    </tr>\n",
       "    <tr>\n",
       "      <th>2051283096</th>\n",
       "      <td>44</td>\n",
       "      <td>0</td>\n",
       "      <td>0</td>\n",
       "      <td>0</td>\n",
       "      <td>0</td>\n",
       "      <td>0</td>\n",
       "      <td>0</td>\n",
       "      <td>0</td>\n",
       "      <td>0</td>\n",
       "      <td>0</td>\n",
       "      <td>...</td>\n",
       "      <td>0</td>\n",
       "      <td>1</td>\n",
       "      <td>151</td>\n",
       "      <td>-1</td>\n",
       "      <td>0</td>\n",
       "      <td>0</td>\n",
       "      <td>0</td>\n",
       "      <td>0</td>\n",
       "      <td>1</td>\n",
       "      <td>0</td>\n",
       "    </tr>\n",
       "    <tr>\n",
       "      <th>2029034586</th>\n",
       "      <td>33</td>\n",
       "      <td>0</td>\n",
       "      <td>0</td>\n",
       "      <td>1</td>\n",
       "      <td>0</td>\n",
       "      <td>0</td>\n",
       "      <td>0</td>\n",
       "      <td>0</td>\n",
       "      <td>0</td>\n",
       "      <td>0</td>\n",
       "      <td>...</td>\n",
       "      <td>0</td>\n",
       "      <td>1</td>\n",
       "      <td>76</td>\n",
       "      <td>-1</td>\n",
       "      <td>0</td>\n",
       "      <td>0</td>\n",
       "      <td>0</td>\n",
       "      <td>0</td>\n",
       "      <td>1</td>\n",
       "      <td>0</td>\n",
       "    </tr>\n",
       "    <tr>\n",
       "      <th>2070859436</th>\n",
       "      <td>47</td>\n",
       "      <td>0</td>\n",
       "      <td>1</td>\n",
       "      <td>0</td>\n",
       "      <td>0</td>\n",
       "      <td>0</td>\n",
       "      <td>0</td>\n",
       "      <td>0</td>\n",
       "      <td>0</td>\n",
       "      <td>0</td>\n",
       "      <td>...</td>\n",
       "      <td>0</td>\n",
       "      <td>1</td>\n",
       "      <td>92</td>\n",
       "      <td>-1</td>\n",
       "      <td>0</td>\n",
       "      <td>0</td>\n",
       "      <td>0</td>\n",
       "      <td>0</td>\n",
       "      <td>1</td>\n",
       "      <td>0</td>\n",
       "    </tr>\n",
       "    <tr>\n",
       "      <th>2098635102</th>\n",
       "      <td>33</td>\n",
       "      <td>0</td>\n",
       "      <td>0</td>\n",
       "      <td>0</td>\n",
       "      <td>0</td>\n",
       "      <td>0</td>\n",
       "      <td>0</td>\n",
       "      <td>0</td>\n",
       "      <td>0</td>\n",
       "      <td>0</td>\n",
       "      <td>...</td>\n",
       "      <td>0</td>\n",
       "      <td>1</td>\n",
       "      <td>198</td>\n",
       "      <td>-1</td>\n",
       "      <td>0</td>\n",
       "      <td>0</td>\n",
       "      <td>0</td>\n",
       "      <td>0</td>\n",
       "      <td>1</td>\n",
       "      <td>0</td>\n",
       "    </tr>\n",
       "  </tbody>\n",
       "</table>\n",
       "<p>5 rows × 35 columns</p>\n",
       "</div>"
      ],
      "text/plain": [
       "            age  job_admin  job_blue-collar  job_entrepreneur  job_housemaid  \\\n",
       "accnum                                                                         \n",
       "2065031284   58          0                0                 0              0   \n",
       "2051283096   44          0                0                 0              0   \n",
       "2029034586   33          0                0                 1              0   \n",
       "2070859436   47          0                1                 0              0   \n",
       "2098635102   33          0                0                 0              0   \n",
       "\n",
       "            job_management  job_retired  job_self-employed  job_services  \\\n",
       "accnum                                                                     \n",
       "2065031284               1            0                  0             0   \n",
       "2051283096               0            0                  0             0   \n",
       "2029034586               0            0                  0             0   \n",
       "2070859436               0            0                  0             0   \n",
       "2098635102               0            0                  0             0   \n",
       "\n",
       "            job_student  ...  channel_telephone  channel_unknown  duration  \\\n",
       "accnum                   ...                                                 \n",
       "2065031284            0  ...                  0                1       261   \n",
       "2051283096            0  ...                  0                1       151   \n",
       "2029034586            0  ...                  0                1        76   \n",
       "2070859436            0  ...                  0                1        92   \n",
       "2098635102            0  ...                  0                1       198   \n",
       "\n",
       "            pdays  previous  poutcome_failure  poutcome_other  \\\n",
       "accnum                                                          \n",
       "2065031284     -1         0                 0               0   \n",
       "2051283096     -1         0                 0               0   \n",
       "2029034586     -1         0                 0               0   \n",
       "2070859436     -1         0                 0               0   \n",
       "2098635102     -1         0                 0               0   \n",
       "\n",
       "            poutcome_success  poutcome_unknown  deposit  \n",
       "accnum                                                   \n",
       "2065031284                 0                 1        0  \n",
       "2051283096                 0                 1        0  \n",
       "2029034586                 0                 1        0  \n",
       "2070859436                 0                 1        0  \n",
       "2098635102                 0                 1        0  \n",
       "\n",
       "[5 rows x 35 columns]"
      ]
     },
     "execution_count": 3,
     "metadata": {},
     "output_type": "execute_result"
    }
   ],
   "source": [
    "df.head()"
   ]
  },
  {
   "cell_type": "markdown",
   "id": "efdf4fc5-6e8a-4620-b15e-05b557890b65",
   "metadata": {},
   "source": [
    "Finally, we check the conversion rate:"
   ]
  },
  {
   "cell_type": "code",
   "execution_count": 4,
   "id": "b21f9b58-8024-4531-8362-bf33e0096659",
   "metadata": {},
   "outputs": [
    {
     "data": {
      "text/plain": [
       "0.117"
      ]
     },
     "execution_count": 4,
     "metadata": {},
     "output_type": "execute_result"
    }
   ],
   "source": [
    "df['deposit'].mean().round(3)"
   ]
  },
  {
   "cell_type": "markdown",
   "id": "d8efea0c-58de-409b-9f9d-7c293e594a19",
   "metadata": {},
   "source": [
    "*Note*. The value -1 in the column `pdays`, when a client has not been previously contacted, may look strange, but it is irrelevant in this case, since this situation is covered by the dummy `poutcome_unknown`. It can be proved, with a bit of algebra, that replacing the imputed value -1 by a different choice would lead to a model with exactly the same predicted values."
   ]
  },
  {
   "cell_type": "markdown",
   "id": "2447c9fd-5469-4a35-80ae-353ea8780754",
   "metadata": {},
   "source": [
    "### Q1. Logistic regression model"
   ]
  },
  {
   "cell_type": "markdown",
   "id": "e4bc12bc-434d-4b8d-b72e-87a5a815f998",
   "metadata": {},
   "source": [
    "\n",
    "We create a target vector and a features matrix. The target vector is the last column (`deposit`) and the features matrix integrates the other columns."
   ]
  },
  {
   "cell_type": "code",
   "execution_count": 5,
   "id": "4eb64b08-d04a-4a91-ac46-c4bf9bafb8ac",
   "metadata": {},
   "outputs": [],
   "source": [
    "y = df['deposit']\n",
    "X = df.drop(columns='deposit')"
   ]
  },
  {
   "cell_type": "markdown",
   "id": "f6c4b23c-11ce-483a-ac73-cd558be577e3",
   "metadata": {},
   "source": [
    "To develop our logistic regression model with scikit-learn, we instantiate an estimator from the class `LogisticRegression()`, from the subpackage `linear_model`, applying the method `.fit()` as in the preceding lecture. We also increase here the maximum number of iterations."
   ]
  },
  {
   "cell_type": "code",
   "execution_count": 6,
   "id": "cb435325-80e4-49a2-83de-56bad1861ca0",
   "metadata": {},
   "outputs": [
    {
     "data": {
      "text/html": [
       "<style>#sk-container-id-1 {\n",
       "  /* Definition of color scheme common for light and dark mode */\n",
       "  --sklearn-color-text: black;\n",
       "  --sklearn-color-line: gray;\n",
       "  /* Definition of color scheme for unfitted estimators */\n",
       "  --sklearn-color-unfitted-level-0: #fff5e6;\n",
       "  --sklearn-color-unfitted-level-1: #f6e4d2;\n",
       "  --sklearn-color-unfitted-level-2: #ffe0b3;\n",
       "  --sklearn-color-unfitted-level-3: chocolate;\n",
       "  /* Definition of color scheme for fitted estimators */\n",
       "  --sklearn-color-fitted-level-0: #f0f8ff;\n",
       "  --sklearn-color-fitted-level-1: #d4ebff;\n",
       "  --sklearn-color-fitted-level-2: #b3dbfd;\n",
       "  --sklearn-color-fitted-level-3: cornflowerblue;\n",
       "\n",
       "  /* Specific color for light theme */\n",
       "  --sklearn-color-text-on-default-background: var(--sg-text-color, var(--theme-code-foreground, var(--jp-content-font-color1, black)));\n",
       "  --sklearn-color-background: var(--sg-background-color, var(--theme-background, var(--jp-layout-color0, white)));\n",
       "  --sklearn-color-border-box: var(--sg-text-color, var(--theme-code-foreground, var(--jp-content-font-color1, black)));\n",
       "  --sklearn-color-icon: #696969;\n",
       "\n",
       "  @media (prefers-color-scheme: dark) {\n",
       "    /* Redefinition of color scheme for dark theme */\n",
       "    --sklearn-color-text-on-default-background: var(--sg-text-color, var(--theme-code-foreground, var(--jp-content-font-color1, white)));\n",
       "    --sklearn-color-background: var(--sg-background-color, var(--theme-background, var(--jp-layout-color0, #111)));\n",
       "    --sklearn-color-border-box: var(--sg-text-color, var(--theme-code-foreground, var(--jp-content-font-color1, white)));\n",
       "    --sklearn-color-icon: #878787;\n",
       "  }\n",
       "}\n",
       "\n",
       "#sk-container-id-1 {\n",
       "  color: var(--sklearn-color-text);\n",
       "}\n",
       "\n",
       "#sk-container-id-1 pre {\n",
       "  padding: 0;\n",
       "}\n",
       "\n",
       "#sk-container-id-1 input.sk-hidden--visually {\n",
       "  border: 0;\n",
       "  clip: rect(1px 1px 1px 1px);\n",
       "  clip: rect(1px, 1px, 1px, 1px);\n",
       "  height: 1px;\n",
       "  margin: -1px;\n",
       "  overflow: hidden;\n",
       "  padding: 0;\n",
       "  position: absolute;\n",
       "  width: 1px;\n",
       "}\n",
       "\n",
       "#sk-container-id-1 div.sk-dashed-wrapped {\n",
       "  border: 1px dashed var(--sklearn-color-line);\n",
       "  margin: 0 0.4em 0.5em 0.4em;\n",
       "  box-sizing: border-box;\n",
       "  padding-bottom: 0.4em;\n",
       "  background-color: var(--sklearn-color-background);\n",
       "}\n",
       "\n",
       "#sk-container-id-1 div.sk-container {\n",
       "  /* jupyter's `normalize.less` sets `[hidden] { display: none; }`\n",
       "     but bootstrap.min.css set `[hidden] { display: none !important; }`\n",
       "     so we also need the `!important` here to be able to override the\n",
       "     default hidden behavior on the sphinx rendered scikit-learn.org.\n",
       "     See: https://github.com/scikit-learn/scikit-learn/issues/21755 */\n",
       "  display: inline-block !important;\n",
       "  position: relative;\n",
       "}\n",
       "\n",
       "#sk-container-id-1 div.sk-text-repr-fallback {\n",
       "  display: none;\n",
       "}\n",
       "\n",
       "div.sk-parallel-item,\n",
       "div.sk-serial,\n",
       "div.sk-item {\n",
       "  /* draw centered vertical line to link estimators */\n",
       "  background-image: linear-gradient(var(--sklearn-color-text-on-default-background), var(--sklearn-color-text-on-default-background));\n",
       "  background-size: 2px 100%;\n",
       "  background-repeat: no-repeat;\n",
       "  background-position: center center;\n",
       "}\n",
       "\n",
       "/* Parallel-specific style estimator block */\n",
       "\n",
       "#sk-container-id-1 div.sk-parallel-item::after {\n",
       "  content: \"\";\n",
       "  width: 100%;\n",
       "  border-bottom: 2px solid var(--sklearn-color-text-on-default-background);\n",
       "  flex-grow: 1;\n",
       "}\n",
       "\n",
       "#sk-container-id-1 div.sk-parallel {\n",
       "  display: flex;\n",
       "  align-items: stretch;\n",
       "  justify-content: center;\n",
       "  background-color: var(--sklearn-color-background);\n",
       "  position: relative;\n",
       "}\n",
       "\n",
       "#sk-container-id-1 div.sk-parallel-item {\n",
       "  display: flex;\n",
       "  flex-direction: column;\n",
       "}\n",
       "\n",
       "#sk-container-id-1 div.sk-parallel-item:first-child::after {\n",
       "  align-self: flex-end;\n",
       "  width: 50%;\n",
       "}\n",
       "\n",
       "#sk-container-id-1 div.sk-parallel-item:last-child::after {\n",
       "  align-self: flex-start;\n",
       "  width: 50%;\n",
       "}\n",
       "\n",
       "#sk-container-id-1 div.sk-parallel-item:only-child::after {\n",
       "  width: 0;\n",
       "}\n",
       "\n",
       "/* Serial-specific style estimator block */\n",
       "\n",
       "#sk-container-id-1 div.sk-serial {\n",
       "  display: flex;\n",
       "  flex-direction: column;\n",
       "  align-items: center;\n",
       "  background-color: var(--sklearn-color-background);\n",
       "  padding-right: 1em;\n",
       "  padding-left: 1em;\n",
       "}\n",
       "\n",
       "\n",
       "/* Toggleable style: style used for estimator/Pipeline/ColumnTransformer box that is\n",
       "clickable and can be expanded/collapsed.\n",
       "- Pipeline and ColumnTransformer use this feature and define the default style\n",
       "- Estimators will overwrite some part of the style using the `sk-estimator` class\n",
       "*/\n",
       "\n",
       "/* Pipeline and ColumnTransformer style (default) */\n",
       "\n",
       "#sk-container-id-1 div.sk-toggleable {\n",
       "  /* Default theme specific background. It is overwritten whether we have a\n",
       "  specific estimator or a Pipeline/ColumnTransformer */\n",
       "  background-color: var(--sklearn-color-background);\n",
       "}\n",
       "\n",
       "/* Toggleable label */\n",
       "#sk-container-id-1 label.sk-toggleable__label {\n",
       "  cursor: pointer;\n",
       "  display: block;\n",
       "  width: 100%;\n",
       "  margin-bottom: 0;\n",
       "  padding: 0.5em;\n",
       "  box-sizing: border-box;\n",
       "  text-align: center;\n",
       "}\n",
       "\n",
       "#sk-container-id-1 label.sk-toggleable__label-arrow:before {\n",
       "  /* Arrow on the left of the label */\n",
       "  content: \"▸\";\n",
       "  float: left;\n",
       "  margin-right: 0.25em;\n",
       "  color: var(--sklearn-color-icon);\n",
       "}\n",
       "\n",
       "#sk-container-id-1 label.sk-toggleable__label-arrow:hover:before {\n",
       "  color: var(--sklearn-color-text);\n",
       "}\n",
       "\n",
       "/* Toggleable content - dropdown */\n",
       "\n",
       "#sk-container-id-1 div.sk-toggleable__content {\n",
       "  max-height: 0;\n",
       "  max-width: 0;\n",
       "  overflow: hidden;\n",
       "  text-align: left;\n",
       "  /* unfitted */\n",
       "  background-color: var(--sklearn-color-unfitted-level-0);\n",
       "}\n",
       "\n",
       "#sk-container-id-1 div.sk-toggleable__content.fitted {\n",
       "  /* fitted */\n",
       "  background-color: var(--sklearn-color-fitted-level-0);\n",
       "}\n",
       "\n",
       "#sk-container-id-1 div.sk-toggleable__content pre {\n",
       "  margin: 0.2em;\n",
       "  border-radius: 0.25em;\n",
       "  color: var(--sklearn-color-text);\n",
       "  /* unfitted */\n",
       "  background-color: var(--sklearn-color-unfitted-level-0);\n",
       "}\n",
       "\n",
       "#sk-container-id-1 div.sk-toggleable__content.fitted pre {\n",
       "  /* unfitted */\n",
       "  background-color: var(--sklearn-color-fitted-level-0);\n",
       "}\n",
       "\n",
       "#sk-container-id-1 input.sk-toggleable__control:checked~div.sk-toggleable__content {\n",
       "  /* Expand drop-down */\n",
       "  max-height: 200px;\n",
       "  max-width: 100%;\n",
       "  overflow: auto;\n",
       "}\n",
       "\n",
       "#sk-container-id-1 input.sk-toggleable__control:checked~label.sk-toggleable__label-arrow:before {\n",
       "  content: \"▾\";\n",
       "}\n",
       "\n",
       "/* Pipeline/ColumnTransformer-specific style */\n",
       "\n",
       "#sk-container-id-1 div.sk-label input.sk-toggleable__control:checked~label.sk-toggleable__label {\n",
       "  color: var(--sklearn-color-text);\n",
       "  background-color: var(--sklearn-color-unfitted-level-2);\n",
       "}\n",
       "\n",
       "#sk-container-id-1 div.sk-label.fitted input.sk-toggleable__control:checked~label.sk-toggleable__label {\n",
       "  background-color: var(--sklearn-color-fitted-level-2);\n",
       "}\n",
       "\n",
       "/* Estimator-specific style */\n",
       "\n",
       "/* Colorize estimator box */\n",
       "#sk-container-id-1 div.sk-estimator input.sk-toggleable__control:checked~label.sk-toggleable__label {\n",
       "  /* unfitted */\n",
       "  background-color: var(--sklearn-color-unfitted-level-2);\n",
       "}\n",
       "\n",
       "#sk-container-id-1 div.sk-estimator.fitted input.sk-toggleable__control:checked~label.sk-toggleable__label {\n",
       "  /* fitted */\n",
       "  background-color: var(--sklearn-color-fitted-level-2);\n",
       "}\n",
       "\n",
       "#sk-container-id-1 div.sk-label label.sk-toggleable__label,\n",
       "#sk-container-id-1 div.sk-label label {\n",
       "  /* The background is the default theme color */\n",
       "  color: var(--sklearn-color-text-on-default-background);\n",
       "}\n",
       "\n",
       "/* On hover, darken the color of the background */\n",
       "#sk-container-id-1 div.sk-label:hover label.sk-toggleable__label {\n",
       "  color: var(--sklearn-color-text);\n",
       "  background-color: var(--sklearn-color-unfitted-level-2);\n",
       "}\n",
       "\n",
       "/* Label box, darken color on hover, fitted */\n",
       "#sk-container-id-1 div.sk-label.fitted:hover label.sk-toggleable__label.fitted {\n",
       "  color: var(--sklearn-color-text);\n",
       "  background-color: var(--sklearn-color-fitted-level-2);\n",
       "}\n",
       "\n",
       "/* Estimator label */\n",
       "\n",
       "#sk-container-id-1 div.sk-label label {\n",
       "  font-family: monospace;\n",
       "  font-weight: bold;\n",
       "  display: inline-block;\n",
       "  line-height: 1.2em;\n",
       "}\n",
       "\n",
       "#sk-container-id-1 div.sk-label-container {\n",
       "  text-align: center;\n",
       "}\n",
       "\n",
       "/* Estimator-specific */\n",
       "#sk-container-id-1 div.sk-estimator {\n",
       "  font-family: monospace;\n",
       "  border: 1px dotted var(--sklearn-color-border-box);\n",
       "  border-radius: 0.25em;\n",
       "  box-sizing: border-box;\n",
       "  margin-bottom: 0.5em;\n",
       "  /* unfitted */\n",
       "  background-color: var(--sklearn-color-unfitted-level-0);\n",
       "}\n",
       "\n",
       "#sk-container-id-1 div.sk-estimator.fitted {\n",
       "  /* fitted */\n",
       "  background-color: var(--sklearn-color-fitted-level-0);\n",
       "}\n",
       "\n",
       "/* on hover */\n",
       "#sk-container-id-1 div.sk-estimator:hover {\n",
       "  /* unfitted */\n",
       "  background-color: var(--sklearn-color-unfitted-level-2);\n",
       "}\n",
       "\n",
       "#sk-container-id-1 div.sk-estimator.fitted:hover {\n",
       "  /* fitted */\n",
       "  background-color: var(--sklearn-color-fitted-level-2);\n",
       "}\n",
       "\n",
       "/* Specification for estimator info (e.g. \"i\" and \"?\") */\n",
       "\n",
       "/* Common style for \"i\" and \"?\" */\n",
       "\n",
       ".sk-estimator-doc-link,\n",
       "a:link.sk-estimator-doc-link,\n",
       "a:visited.sk-estimator-doc-link {\n",
       "  float: right;\n",
       "  font-size: smaller;\n",
       "  line-height: 1em;\n",
       "  font-family: monospace;\n",
       "  background-color: var(--sklearn-color-background);\n",
       "  border-radius: 1em;\n",
       "  height: 1em;\n",
       "  width: 1em;\n",
       "  text-decoration: none !important;\n",
       "  margin-left: 1ex;\n",
       "  /* unfitted */\n",
       "  border: var(--sklearn-color-unfitted-level-1) 1pt solid;\n",
       "  color: var(--sklearn-color-unfitted-level-1);\n",
       "}\n",
       "\n",
       ".sk-estimator-doc-link.fitted,\n",
       "a:link.sk-estimator-doc-link.fitted,\n",
       "a:visited.sk-estimator-doc-link.fitted {\n",
       "  /* fitted */\n",
       "  border: var(--sklearn-color-fitted-level-1) 1pt solid;\n",
       "  color: var(--sklearn-color-fitted-level-1);\n",
       "}\n",
       "\n",
       "/* On hover */\n",
       "div.sk-estimator:hover .sk-estimator-doc-link:hover,\n",
       ".sk-estimator-doc-link:hover,\n",
       "div.sk-label-container:hover .sk-estimator-doc-link:hover,\n",
       ".sk-estimator-doc-link:hover {\n",
       "  /* unfitted */\n",
       "  background-color: var(--sklearn-color-unfitted-level-3);\n",
       "  color: var(--sklearn-color-background);\n",
       "  text-decoration: none;\n",
       "}\n",
       "\n",
       "div.sk-estimator.fitted:hover .sk-estimator-doc-link.fitted:hover,\n",
       ".sk-estimator-doc-link.fitted:hover,\n",
       "div.sk-label-container:hover .sk-estimator-doc-link.fitted:hover,\n",
       ".sk-estimator-doc-link.fitted:hover {\n",
       "  /* fitted */\n",
       "  background-color: var(--sklearn-color-fitted-level-3);\n",
       "  color: var(--sklearn-color-background);\n",
       "  text-decoration: none;\n",
       "}\n",
       "\n",
       "/* Span, style for the box shown on hovering the info icon */\n",
       ".sk-estimator-doc-link span {\n",
       "  display: none;\n",
       "  z-index: 9999;\n",
       "  position: relative;\n",
       "  font-weight: normal;\n",
       "  right: .2ex;\n",
       "  padding: .5ex;\n",
       "  margin: .5ex;\n",
       "  width: min-content;\n",
       "  min-width: 20ex;\n",
       "  max-width: 50ex;\n",
       "  color: var(--sklearn-color-text);\n",
       "  box-shadow: 2pt 2pt 4pt #999;\n",
       "  /* unfitted */\n",
       "  background: var(--sklearn-color-unfitted-level-0);\n",
       "  border: .5pt solid var(--sklearn-color-unfitted-level-3);\n",
       "}\n",
       "\n",
       ".sk-estimator-doc-link.fitted span {\n",
       "  /* fitted */\n",
       "  background: var(--sklearn-color-fitted-level-0);\n",
       "  border: var(--sklearn-color-fitted-level-3);\n",
       "}\n",
       "\n",
       ".sk-estimator-doc-link:hover span {\n",
       "  display: block;\n",
       "}\n",
       "\n",
       "/* \"?\"-specific style due to the `<a>` HTML tag */\n",
       "\n",
       "#sk-container-id-1 a.estimator_doc_link {\n",
       "  float: right;\n",
       "  font-size: 1rem;\n",
       "  line-height: 1em;\n",
       "  font-family: monospace;\n",
       "  background-color: var(--sklearn-color-background);\n",
       "  border-radius: 1rem;\n",
       "  height: 1rem;\n",
       "  width: 1rem;\n",
       "  text-decoration: none;\n",
       "  /* unfitted */\n",
       "  color: var(--sklearn-color-unfitted-level-1);\n",
       "  border: var(--sklearn-color-unfitted-level-1) 1pt solid;\n",
       "}\n",
       "\n",
       "#sk-container-id-1 a.estimator_doc_link.fitted {\n",
       "  /* fitted */\n",
       "  border: var(--sklearn-color-fitted-level-1) 1pt solid;\n",
       "  color: var(--sklearn-color-fitted-level-1);\n",
       "}\n",
       "\n",
       "/* On hover */\n",
       "#sk-container-id-1 a.estimator_doc_link:hover {\n",
       "  /* unfitted */\n",
       "  background-color: var(--sklearn-color-unfitted-level-3);\n",
       "  color: var(--sklearn-color-background);\n",
       "  text-decoration: none;\n",
       "}\n",
       "\n",
       "#sk-container-id-1 a.estimator_doc_link.fitted:hover {\n",
       "  /* fitted */\n",
       "  background-color: var(--sklearn-color-fitted-level-3);\n",
       "}\n",
       "</style><div id=\"sk-container-id-1\" class=\"sk-top-container\"><div class=\"sk-text-repr-fallback\"><pre>LogisticRegression(max_iter=4000)</pre><b>In a Jupyter environment, please rerun this cell to show the HTML representation or trust the notebook. <br />On GitHub, the HTML representation is unable to render, please try loading this page with nbviewer.org.</b></div><div class=\"sk-container\" hidden><div class=\"sk-item\"><div class=\"sk-estimator fitted sk-toggleable\"><input class=\"sk-toggleable__control sk-hidden--visually\" id=\"sk-estimator-id-1\" type=\"checkbox\" checked><label for=\"sk-estimator-id-1\" class=\"sk-toggleable__label fitted sk-toggleable__label-arrow fitted\">&nbsp;&nbsp;LogisticRegression<a class=\"sk-estimator-doc-link fitted\" rel=\"noreferrer\" target=\"_blank\" href=\"https://scikit-learn.org/1.5/modules/generated/sklearn.linear_model.LogisticRegression.html\">?<span>Documentation for LogisticRegression</span></a><span class=\"sk-estimator-doc-link fitted\">i<span>Fitted</span></span></label><div class=\"sk-toggleable__content fitted\"><pre>LogisticRegression(max_iter=4000)</pre></div> </div></div></div></div>"
      ],
      "text/plain": [
       "LogisticRegression(max_iter=4000)"
      ]
     },
     "execution_count": 6,
     "metadata": {},
     "output_type": "execute_result"
    }
   ],
   "source": [
    "from sklearn.linear_model import LogisticRegression\n",
    "clf = LogisticRegression(max_iter=4000)\n",
    "clf.fit(X, y)"
   ]
  },
  {
   "cell_type": "markdown",
   "id": "87b157fe-f0b5-450d-984e-98d3aecdc5d7",
   "metadata": {},
   "source": [
    "The default predictions and the corresponding confusion matrix are obtained as in the preceding lecture."
   ]
  },
  {
   "cell_type": "code",
   "execution_count": 7,
   "id": "0a6d287a-118f-48c3-8a93-35966b1dcd4b",
   "metadata": {},
   "outputs": [
    {
     "data": {
      "text/plain": [
       "array([[38989,   933],\n",
       "       [ 3602,  1687]])"
      ]
     },
     "execution_count": 7,
     "metadata": {},
     "output_type": "execute_result"
    }
   ],
   "source": [
    "y_pred = clf.predict(X)\n",
    "from sklearn.metrics import confusion_matrix\n",
    "confusion_matrix(y, y_pred)"
   ]
  },
  {
   "cell_type": "markdown",
   "id": "8fab5681-3f68-41dd-babe-7bac9b854387",
   "metadata": {},
   "source": [
    "On one side, these results look fine, since, with this model, we will call only 2,673 clients, capturing 1,719 subscriptions (64.3% conversion rate). On the other side, we are missing 3,570 potential subscribers (70.9%). The total accuracy can be extracted from the confusion matrix, or calculated directly:"
   ]
  },
  {
   "cell_type": "code",
   "execution_count": 8,
   "id": "fd76c47d-8646-4fa3-9722-537d7a682643",
   "metadata": {},
   "outputs": [],
   "source": [
    "acc = (y == y_pred).mean().round(3)"
   ]
  },
  {
   "cell_type": "markdown",
   "id": "62fd1049-a874-4dc2-8250-9eaa64f425b3",
   "metadata": {},
   "source": [
    "The accuracies on the two groups are:"
   ]
  },
  {
   "cell_type": "code",
   "execution_count": 9,
   "id": "136b3a20-cf28-451a-b70b-67aa07087b78",
   "metadata": {},
   "outputs": [],
   "source": [
    "acc1 = y_pred[y == 1].mean().round(3)\n",
    "acc0 = (1 - y_pred[y == 0]).mean().round(3)"
   ]
  },
  {
   "cell_type": "markdown",
   "id": "a60c23c4-2f2a-4efa-964b-8b9dfa4f59e1",
   "metadata": {},
   "source": [
    "We can print them together as:"
   ]
  },
  {
   "cell_type": "code",
   "execution_count": 10,
   "id": "7cc5652f-3222-48f4-b585-58198943a1a8",
   "metadata": {},
   "outputs": [
    {
     "data": {
      "text/plain": [
       "(0.9, 0.319, 0.977)"
      ]
     },
     "execution_count": 10,
     "metadata": {},
     "output_type": "execute_result"
    }
   ],
   "source": [
    "acc, acc1, acc0"
   ]
  },
  {
   "cell_type": "markdown",
   "id": "dccad6e0-d60c-482a-875e-5b5a10764ec2",
   "metadata": {},
   "source": [
    "So, we have a very high accuracy on the negative group, but a poor accuracy on the positive group. This is typical of imbalanced training data. Let us see how this may change if we use the predictive scores."
   ]
  },
  {
   "cell_type": "markdown",
   "id": "7979850a-9b8b-4e2d-8db7-078e62dfe12f",
   "metadata": {},
   "source": [
    "### Q2. Predictive scores"
   ]
  },
  {
   "cell_type": "markdown",
   "id": "31eaa6ac-d061-45bd-862a-38d306f036ae",
   "metadata": {},
   "source": [
    "The predictive scores come as the second column of the 2D array returned by the method `.predict_proba()`. We add them to the current data set."
   ]
  },
  {
   "cell_type": "code",
   "execution_count": 11,
   "id": "03a3b653-af5b-4d9e-bdfc-c44c9f2a2df6",
   "metadata": {},
   "outputs": [
    {
     "data": {
      "text/html": [
       "<div>\n",
       "<style scoped>\n",
       "    .dataframe tbody tr th:only-of-type {\n",
       "        vertical-align: middle;\n",
       "    }\n",
       "\n",
       "    .dataframe tbody tr th {\n",
       "        vertical-align: top;\n",
       "    }\n",
       "\n",
       "    .dataframe thead th {\n",
       "        text-align: right;\n",
       "    }\n",
       "</style>\n",
       "<table border=\"1\" class=\"dataframe\">\n",
       "  <thead>\n",
       "    <tr style=\"text-align: right;\">\n",
       "      <th></th>\n",
       "      <th>deposit</th>\n",
       "      <th>score</th>\n",
       "    </tr>\n",
       "    <tr>\n",
       "      <th>accnum</th>\n",
       "      <th></th>\n",
       "      <th></th>\n",
       "    </tr>\n",
       "  </thead>\n",
       "  <tbody>\n",
       "    <tr>\n",
       "      <th>2065031284</th>\n",
       "      <td>0</td>\n",
       "      <td>0.021595</td>\n",
       "    </tr>\n",
       "    <tr>\n",
       "      <th>2051283096</th>\n",
       "      <td>0</td>\n",
       "      <td>0.013961</td>\n",
       "    </tr>\n",
       "    <tr>\n",
       "      <th>2029034586</th>\n",
       "      <td>0</td>\n",
       "      <td>0.003413</td>\n",
       "    </tr>\n",
       "    <tr>\n",
       "      <th>2070859436</th>\n",
       "      <td>0</td>\n",
       "      <td>0.008147</td>\n",
       "    </tr>\n",
       "    <tr>\n",
       "      <th>2098635102</th>\n",
       "      <td>0</td>\n",
       "      <td>0.039772</td>\n",
       "    </tr>\n",
       "  </tbody>\n",
       "</table>\n",
       "</div>"
      ],
      "text/plain": [
       "            deposit     score\n",
       "accnum                       \n",
       "2065031284        0  0.021595\n",
       "2051283096        0  0.013961\n",
       "2029034586        0  0.003413\n",
       "2070859436        0  0.008147\n",
       "2098635102        0  0.039772"
      ]
     },
     "execution_count": 11,
     "metadata": {},
     "output_type": "execute_result"
    }
   ],
   "source": [
    "df['score'] = clf.predict_proba(X)[:, 1]\n",
    "df[['deposit', 'score']].head()"
   ]
  },
  {
   "cell_type": "markdown",
   "id": "2576fe94-cc4a-496d-93b4-364470270326",
   "metadata": {},
   "source": [
    "On average, the scores are correct, and have a skewed distribution (nothing wrong with this), as shown in the statistical summary."
   ]
  },
  {
   "cell_type": "code",
   "execution_count": 12,
   "id": "d3cacdb5-214b-4a4c-8cca-6354c70ca2b0",
   "metadata": {},
   "outputs": [
    {
     "data": {
      "text/plain": [
       "count    45211.000000\n",
       "mean         0.116995\n",
       "std          0.177737\n",
       "min          0.002186\n",
       "25%          0.023696\n",
       "50%          0.052332\n",
       "75%          0.114036\n",
       "max          1.000000\n",
       "Name: score, dtype: float64"
      ]
     },
     "execution_count": 12,
     "metadata": {},
     "output_type": "execute_result"
    }
   ],
   "source": [
    "df['score'].describe()"
   ]
  },
  {
   "cell_type": "markdown",
   "id": "a323de94-3448-4518-a358-0dbc590c94e9",
   "metadata": {},
   "source": [
    "As in the preceding lecture, we get a better view with separate histograms. The code is the same."
   ]
  },
  {
   "cell_type": "code",
   "execution_count": 13,
   "id": "26506e91-10f7-4877-a0f5-3b660507ff68",
   "metadata": {},
   "outputs": [
    {
     "data": {
      "image/png": "[encoded data removed]",
      "text/plain": [
       "<Figure size 1200x500 with 2 Axes>"
      ]
     },
     "metadata": {},
     "output_type": "display_data"
    }
   ],
   "source": [
    "from matplotlib import pyplot as plt\n",
    "# Set the size of the figure\n",
    "plt.figure(figsize=(12,5))\n",
    "# First subplot\n",
    "plt.subplot(1, 2, 1)\n",
    "plt.hist(df['score'][y == 1], color='gray', edgecolor='white')\n",
    "plt.title('Figure 1.a. Scores (subscribers)')\n",
    "plt.xlabel('Subscription score')\n",
    "# Second subplot\n",
    "plt.subplot(1, 2, 2)\n",
    "plt.hist(df['score'][y == 0], color='gray', edgecolor='white')\n",
    "plt.title('Figure 1.b. Scores (non-subscribers)')\n",
    "plt.xlabel('Subscription score');"
   ]
  },
  {
   "cell_type": "markdown",
   "id": "a479c7cf-8543-491e-ab49-9b9703df0815",
   "metadata": {},
   "source": [
    "These figures show what is wrong with the threshold 0.5. In order to capture at least 2/3 of the potential subscribers, we have to set the threshold within the range 10-20%."
   ]
  },
  {
   "cell_type": "markdown",
   "id": "c736e1cb-e273-437d-a33d-9b46481dab2c",
   "metadata": {},
   "source": [
    "### Q3. Set a threshold for the scores"
   ]
  },
  {
   "cell_type": "markdown",
   "id": "a535313f-e053-40e7-b88a-1e16b088604d",
   "metadata": {},
   "source": [
    "Let us take the actual conversion rate (rounded) as the threshold."
   ]
  },
  {
   "cell_type": "code",
   "execution_count": 14,
   "id": "70992065-669f-4a8c-a622-d6a6b2ded0a1",
   "metadata": {},
   "outputs": [],
   "source": [
    "y_pred = (df['score'] > 0.11).astype(int)"
   ]
  },
  {
   "cell_type": "markdown",
   "id": "6d0875d5-7802-4785-969c-8231abe1f980",
   "metadata": {},
   "source": [
    "The  new confusion matrix is:"
   ]
  },
  {
   "cell_type": "code",
   "execution_count": 15,
   "id": "40fda6b7-1c59-45ac-96f3-348b8fbd154d",
   "metadata": {},
   "outputs": [
    {
     "data": {
      "text/plain": [
       "array([[32515,  7407],\n",
       "       [  992,  4297]])"
      ]
     },
     "execution_count": 15,
     "metadata": {},
     "output_type": "execute_result"
    }
   ],
   "source": [
    "confusion_matrix(y, y_pred)"
   ]
  },
  {
   "cell_type": "markdown",
   "id": "54bb378d-27ae-4ea3-b845-ca44bea0d1f0",
   "metadata": {},
   "source": [
    "Based on this threshold, we would call 11,493 clients, getting 4,267 subscriptions (a 37.1% conversion rate), which represents 4/5 of the potential subscriptions. The accuracies are now similar for the two groups:"
   ]
  },
  {
   "cell_type": "code",
   "execution_count": 16,
   "id": "3043dd62-634c-427f-868c-8491058ea475",
   "metadata": {},
   "outputs": [
    {
     "data": {
      "text/plain": [
       "(0.814, 0.812, 0.814)"
      ]
     },
     "execution_count": 16,
     "metadata": {},
     "output_type": "execute_result"
    }
   ],
   "source": [
    "acc = (y == y_pred).mean().round(3)\n",
    "acc1 = y_pred[y == 1].mean().round(3)\n",
    "acc0 = (1 - y_pred[y == 0]).mean().round(3)\n",
    "acc, acc1, acc0"
   ]
  },
  {
   "cell_type": "markdown",
   "id": "64ba6724-b674-4b50-ba60-1693a8e9e0b1",
   "metadata": {},
   "source": [
    "### Q4. Target of 4,000 subscriptions"
   ]
  },
  {
   "cell_type": "markdown",
   "id": "3fe097bf-09b0-44b5-9355-4e6f8c32fb43",
   "metadata": {},
   "source": [
    "Let us suppose that the manager has set a target of of 4,000 subscriptions and uses the scores to select the clients to be contacted. This can be managed easily in a spreadsheet, though we continue here with Python.\n",
    "\n",
    "We sort the data by the scores, in descending order:"
   ]
  },
  {
   "cell_type": "code",
   "execution_count": 17,
   "id": "bef307c9-586a-405c-be33-3c3154f7c4ae",
   "metadata": {},
   "outputs": [
    {
     "data": {
      "text/html": [
       "<div>\n",
       "<style scoped>\n",
       "    .dataframe tbody tr th:only-of-type {\n",
       "        vertical-align: middle;\n",
       "    }\n",
       "\n",
       "    .dataframe tbody tr th {\n",
       "        vertical-align: top;\n",
       "    }\n",
       "\n",
       "    .dataframe thead th {\n",
       "        text-align: right;\n",
       "    }\n",
       "</style>\n",
       "<table border=\"1\" class=\"dataframe\">\n",
       "  <thead>\n",
       "    <tr style=\"text-align: right;\">\n",
       "      <th></th>\n",
       "      <th>deposit</th>\n",
       "      <th>score</th>\n",
       "    </tr>\n",
       "    <tr>\n",
       "      <th>accnum</th>\n",
       "      <th></th>\n",
       "      <th></th>\n",
       "    </tr>\n",
       "  </thead>\n",
       "  <tbody>\n",
       "    <tr>\n",
       "      <th>2084617209</th>\n",
       "      <td>0</td>\n",
       "      <td>1.000000</td>\n",
       "    </tr>\n",
       "    <tr>\n",
       "      <th>2096318570</th>\n",
       "      <td>1</td>\n",
       "      <td>0.999988</td>\n",
       "    </tr>\n",
       "    <tr>\n",
       "      <th>2054970681</th>\n",
       "      <td>0</td>\n",
       "      <td>0.999986</td>\n",
       "    </tr>\n",
       "    <tr>\n",
       "      <th>2064903718</th>\n",
       "      <td>0</td>\n",
       "      <td>0.999965</td>\n",
       "    </tr>\n",
       "    <tr>\n",
       "      <th>2078910432</th>\n",
       "      <td>0</td>\n",
       "      <td>0.999960</td>\n",
       "    </tr>\n",
       "    <tr>\n",
       "      <th>...</th>\n",
       "      <td>...</td>\n",
       "      <td>...</td>\n",
       "    </tr>\n",
       "    <tr>\n",
       "      <th>2014356089</th>\n",
       "      <td>0</td>\n",
       "      <td>0.002558</td>\n",
       "    </tr>\n",
       "    <tr>\n",
       "      <th>2038624917</th>\n",
       "      <td>0</td>\n",
       "      <td>0.002504</td>\n",
       "    </tr>\n",
       "    <tr>\n",
       "      <th>2009467351</th>\n",
       "      <td>0</td>\n",
       "      <td>0.002488</td>\n",
       "    </tr>\n",
       "    <tr>\n",
       "      <th>2032496851</th>\n",
       "      <td>0</td>\n",
       "      <td>0.002420</td>\n",
       "    </tr>\n",
       "    <tr>\n",
       "      <th>2092631740</th>\n",
       "      <td>0</td>\n",
       "      <td>0.002186</td>\n",
       "    </tr>\n",
       "  </tbody>\n",
       "</table>\n",
       "<p>45211 rows × 2 columns</p>\n",
       "</div>"
      ],
      "text/plain": [
       "            deposit     score\n",
       "accnum                       \n",
       "2084617209        0  1.000000\n",
       "2096318570        1  0.999988\n",
       "2054970681        0  0.999986\n",
       "2064903718        0  0.999965\n",
       "2078910432        0  0.999960\n",
       "...             ...       ...\n",
       "2014356089        0  0.002558\n",
       "2038624917        0  0.002504\n",
       "2009467351        0  0.002488\n",
       "2032496851        0  0.002420\n",
       "2092631740        0  0.002186\n",
       "\n",
       "[45211 rows x 2 columns]"
      ]
     },
     "execution_count": 17,
     "metadata": {},
     "output_type": "execute_result"
    }
   ],
   "source": [
    "df = df.sort_values('score', ascending=False)\n",
    "df[['deposit', 'score']]"
   ]
  },
  {
   "cell_type": "markdown",
   "id": "501abcaf-f6e4-464c-be61-b19f5deae0b6",
   "metadata": {},
   "source": [
    "The bank would start contacting the top scored clients, until getting the desired 4,000 subscriptions. This could be controlled by adding a column with the cumulative number of subscriptions, which can be created with the method `.cumsum()`."
   ]
  },
  {
   "cell_type": "code",
   "execution_count": 18,
   "id": "e7f2e320-35a1-4ae1-95bc-38d84d13c407",
   "metadata": {},
   "outputs": [
    {
     "data": {
      "text/html": [
       "<div>\n",
       "<style scoped>\n",
       "    .dataframe tbody tr th:only-of-type {\n",
       "        vertical-align: middle;\n",
       "    }\n",
       "\n",
       "    .dataframe tbody tr th {\n",
       "        vertical-align: top;\n",
       "    }\n",
       "\n",
       "    .dataframe thead th {\n",
       "        text-align: right;\n",
       "    }\n",
       "</style>\n",
       "<table border=\"1\" class=\"dataframe\">\n",
       "  <thead>\n",
       "    <tr style=\"text-align: right;\">\n",
       "      <th></th>\n",
       "      <th>deposit</th>\n",
       "      <th>score</th>\n",
       "      <th>cum_subscription</th>\n",
       "    </tr>\n",
       "    <tr>\n",
       "      <th>accnum</th>\n",
       "      <th></th>\n",
       "      <th></th>\n",
       "      <th></th>\n",
       "    </tr>\n",
       "  </thead>\n",
       "  <tbody>\n",
       "    <tr>\n",
       "      <th>2084617209</th>\n",
       "      <td>0</td>\n",
       "      <td>1.000000</td>\n",
       "      <td>0</td>\n",
       "    </tr>\n",
       "    <tr>\n",
       "      <th>2096318570</th>\n",
       "      <td>1</td>\n",
       "      <td>0.999988</td>\n",
       "      <td>1</td>\n",
       "    </tr>\n",
       "    <tr>\n",
       "      <th>2054970681</th>\n",
       "      <td>0</td>\n",
       "      <td>0.999986</td>\n",
       "      <td>1</td>\n",
       "    </tr>\n",
       "    <tr>\n",
       "      <th>2064903718</th>\n",
       "      <td>0</td>\n",
       "      <td>0.999965</td>\n",
       "      <td>1</td>\n",
       "    </tr>\n",
       "    <tr>\n",
       "      <th>2078910432</th>\n",
       "      <td>0</td>\n",
       "      <td>0.999960</td>\n",
       "      <td>1</td>\n",
       "    </tr>\n",
       "    <tr>\n",
       "      <th>...</th>\n",
       "      <td>...</td>\n",
       "      <td>...</td>\n",
       "      <td>...</td>\n",
       "    </tr>\n",
       "    <tr>\n",
       "      <th>2014356089</th>\n",
       "      <td>0</td>\n",
       "      <td>0.002558</td>\n",
       "      <td>5289</td>\n",
       "    </tr>\n",
       "    <tr>\n",
       "      <th>2038624917</th>\n",
       "      <td>0</td>\n",
       "      <td>0.002504</td>\n",
       "      <td>5289</td>\n",
       "    </tr>\n",
       "    <tr>\n",
       "      <th>2009467351</th>\n",
       "      <td>0</td>\n",
       "      <td>0.002488</td>\n",
       "      <td>5289</td>\n",
       "    </tr>\n",
       "    <tr>\n",
       "      <th>2032496851</th>\n",
       "      <td>0</td>\n",
       "      <td>0.002420</td>\n",
       "      <td>5289</td>\n",
       "    </tr>\n",
       "    <tr>\n",
       "      <th>2092631740</th>\n",
       "      <td>0</td>\n",
       "      <td>0.002186</td>\n",
       "      <td>5289</td>\n",
       "    </tr>\n",
       "  </tbody>\n",
       "</table>\n",
       "<p>45211 rows × 3 columns</p>\n",
       "</div>"
      ],
      "text/plain": [
       "            deposit     score  cum_subscription\n",
       "accnum                                         \n",
       "2084617209        0  1.000000                 0\n",
       "2096318570        1  0.999988                 1\n",
       "2054970681        0  0.999986                 1\n",
       "2064903718        0  0.999965                 1\n",
       "2078910432        0  0.999960                 1\n",
       "...             ...       ...               ...\n",
       "2014356089        0  0.002558              5289\n",
       "2038624917        0  0.002504              5289\n",
       "2009467351        0  0.002488              5289\n",
       "2032496851        0  0.002420              5289\n",
       "2092631740        0  0.002186              5289\n",
       "\n",
       "[45211 rows x 3 columns]"
      ]
     },
     "execution_count": 18,
     "metadata": {},
     "output_type": "execute_result"
    }
   ],
   "source": [
    "df['cum_subscription'] = df['deposit'].cumsum()\n",
    "df[['deposit', 'score', 'cum_subscription']]"
   ]
  },
  {
   "cell_type": "markdown",
   "id": "635e53ac-a9fd-4b92-8bd0-9d54aaded051",
   "metadata": {},
   "source": [
    "The first row in which the column `cum_subscription` attains the target value 40,000 corresponds to the last client contacted. In total, \n",
    "this gives 9,788 clients."
   ]
  },
  {
   "cell_type": "code",
   "execution_count": 19,
   "id": "c5472364-206b-4fcf-a558-7500ebeea865",
   "metadata": {},
   "outputs": [
    {
     "data": {
      "text/plain": [
       "9857"
      ]
     },
     "execution_count": 19,
     "metadata": {},
     "output_type": "execute_result"
    }
   ],
   "source": [
    "(df['cum_subscription'] < 4000).sum() + 1"
   ]
  },
  {
   "cell_type": "markdown",
   "id": "a238e313-0d55-4a56-8d79-e9b5afc01905",
   "metadata": {},
   "source": [
    "# Q5. Budget of 10,000 calls"
   ]
  },
  {
   "cell_type": "markdown",
   "id": "88eba58b-e554-4fbb-8f53-8e5567a4576b",
   "metadata": {},
   "source": [
    "Suppose now that, instead of setting an objective, the budget for the campaign allows for a pre-specified number of contacts, for instance 10,000. We would pick then the first 10,000 rows of the data set. The account numbers of the selected clients would be provided by the index labels:"
   ]
  },
  {
   "cell_type": "code",
   "execution_count": 20,
   "id": "6450f60d-0993-412a-b653-3cac1ed25744",
   "metadata": {},
   "outputs": [
    {
     "data": {
      "text/plain": [
       "Index([2084617209, 2096318570, 2054970681, 2064903718, 2078910432, 2041730862,\n",
       "       2071098526, 2037940512, 2032450716, 2008541793,\n",
       "       ...\n",
       "       2023547980, 2072695310, 2079163540, 2026589413, 2026849375, 2025910843,\n",
       "       2024935187, 2045907168, 2028350197, 2002618495],\n",
       "      dtype='int64', name='accnum', length=10000)"
      ]
     },
     "execution_count": 20,
     "metadata": {},
     "output_type": "execute_result"
    }
   ],
   "source": [
    "call_list = df.index[:10000]\n",
    "call_list"
   ]
  },
  {
   "cell_type": "markdown",
   "id": "4ba2ea51-d52a-49e0-95e8-b6a939fd7f5e",
   "metadata": {},
   "source": [
    "The last of these account numbers would be the label `call_list[9999]` (2051370426). The number of subscriptions achieved would be:"
   ]
  },
  {
   "cell_type": "code",
   "execution_count": 21,
   "id": "2776dcbc-12a0-458c-8f66-f59a3e87b12d",
   "metadata": {},
   "outputs": [
    {
     "data": {
      "text/plain": [
       "4019"
      ]
     },
     "execution_count": 21,
     "metadata": {},
     "output_type": "execute_result"
    }
   ],
   "source": [
    "df['cum_subscription'][call_list[9999]]"
   ]
  },
  {
   "cell_type": "markdown",
   "id": "ca142a85-9741-4946-8b2a-3bfab43640f4",
   "metadata": {},
   "source": [
    "### Homework"
   ]
  },
  {
   "cell_type": "markdown",
   "id": "bd2cfd74-cd4d-4b10-ba42-62bc9949080c",
   "metadata": {},
   "source": [
    "1. **Undersample** the data, by randomly dropping as many negative units as needed to match the positive units, so that you end up with a pefectly balanced (but smaller) training data set. Train a logistic regression model on this undersampled training data set and evaluate it, based on a confusion matrix. \n",
    "\n",
    "2. **Oversample** the data, by randomly adding as many duplicates of the positive units as needed to match the negative units, so that you end up with a pefectly balanced (but larger) training data set. Train a logistic regression model on this oversampled training data set and evaluate it, based on a confusion matrix."
   ]
  }
 ],
 "metadata": {
  "kernelspec": {
   "display_name": "Python [conda env:base] *",
   "language": "python",
   "name": "conda-base-py"
  },
  "language_info": {
   "codemirror_mode": {
    "name": "ipython",
    "version": 3
   },
   "file_extension": ".py",
   "mimetype": "text/x-python",
   "name": "python",
   "nbconvert_exporter": "python",
   "pygments_lexer": "ipython3",
   "version": "3.13.5"
  }
 },
 "nbformat": 4,
 "nbformat_minor": 5
}
