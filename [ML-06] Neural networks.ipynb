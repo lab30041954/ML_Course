{
 "cells": [
  {
   "cell_type": "markdown",
   "id": "21275a45-665e-4241-992a-e7c2184da6bf",
   "metadata": {
    "colab_type": "text",
    "id": "view-in-github"
   },
   "source": [
    "<a href=\"https://colab.research.google.com/github/lab30041954/ML_IESE_Course/blob/main/%5BML-06%5D%20Neural%20networks.ipynb\" target=\"_parent\"><img src=\"https://colab.research.google.com/assets/colab-badge.svg\" alt=\"Open In Colab\"/></a>"
   ]
  },
  {
   "cell_type": "markdown",
   "id": "38a62669-8740-4cf2-9ad1-7b3026ca9717",
   "metadata": {
    "id": "38a62669-8740-4cf2-9ad1-7b3026ca9717"
   },
   "source": [
    "# [ML-06] Neural networks"
   ]
  },
  {
   "cell_type": "markdown",
   "id": "92e8a58c-4af7-4db5-90be-afea96be21bf",
   "metadata": {
    "id": "92e8a58c-4af7-4db5-90be-afea96be21bf"
   },
   "source": [
    "## What is a neural network?"
   ]
  },
  {
   "cell_type": "markdown",
   "id": "5729299d-2e92-40b8-b366-1e2c751606fd",
   "metadata": {
    "id": "5729299d-2e92-40b8-b366-1e2c751606fd"
   },
   "source": [
    "**Neural networks** are as old as artificial intelligence itself, and the expectations about what neural networks could do have experimented up and downs along 60 years. Right now, they are very high. Neural networks and, more specifically, a special type of neural network models, the **transformer**, are taking over machine learning. As more use cases are reported for the new models, expectations about the power of artificial intelligence keep growing.  \n",
    "\n",
    "A neural network can be thought as an interconnected set of computational **nodes** or neurons, organized in **layers**. In the network, every connection of a node to another node has a **weight**. Machine learning happens when these weights are learned from data. The way the nodes are connected in a neural network was initially inspired by ideas about neurons work together in the brain. Though this is no longer true in most nueral network models, in particular in transformers, the discussion about the similarities between the two domains is still alive.\n",
    "\n",
    "There are many types of neural networks. This lecture is restricted to the **multilayer perceptron** (MLP) model, which has been the standard approach for many years. In the next lecture, we will introduce more complex architectures, which are usually presented as **deep learning** models.\n",
    "\n",
    "Even if the idea of the neural network as a mathematical model for the brain (which it is not) was attractive, we regard nowadays a neural network as a mathematical function, which takes an input and returns an output. Both the input and the output are **tensors**. A tensor is the same as a NumPy array (though in Python they are different types of objects). So, a 0D tensor is a scalar (a number), a 1D tensor is a vector, a 2D tensor is a matrix, etc. Most of the operations performed with the tensors in a neural network are just linear algebra."
   ]
  },
  {
   "cell_type": "markdown",
   "id": "7048e217-b3d8-427b-b33a-de483afd9e87",
   "metadata": {
    "id": "7048e217-b3d8-427b-b33a-de483afd9e87"
   },
   "source": [
    "## Basics of the MLP model"
   ]
  },
  {
   "cell_type": "markdown",
   "id": "6e4739cf-511c-4b54-933e-e5fd6103294e",
   "metadata": {
    "id": "6e4739cf-511c-4b54-933e-e5fd6103294e"
   },
   "source": [
    "A multilayer perceptron network is formed by:\n",
    "\n",
    "* The **input layer**, whose nodes are the features used for the prediction.\n",
    "\n",
    "* The **output layer**. In regression models, it has a unique node, which is the target (as in the above figure), while, in classification models, it has one node for every target value.\n",
    "\n",
    "* A sequence of **hidden layers**, placed between the input and the output layers. If the network is **fully-connected**, that is, if every node of a layer is connected to all the nodes of the following layer, the **network architecture** is completely specified by the number of hidden layers and the number of nodes in each hidden layer.\n",
    "\n",
    "So the MLP model transforms a 1D tensor of features into either a 0D tensor (regression) or a 1D tensor of class probabilities. These tensors are the input and the output, respectively. How is the transformation performed? Suppose first that $Z$ is a hidden node and $U_1, U_2, \\dots, U_k$ are the nodes of the preceding layer. Then, the values of $Z$ are calculated as\n",
    "\n",
    "$$Z = F\\big(w_0 + w_1U_1 + w_2U_2 + \\cdots + w_kU_k\\big).$$\n",
    "\n",
    "In this context, the slope coefficients $w_1, w_2, \\dots, w_k$  are called weights, and the intercept $w_0$ is called **bias**. $F()$ is the **activation function**.\n",
    "\n",
    "The multilayer perceptron could be seen as if the samples were circulating through the network one-by-one. The feature values are entered in the input nodes, which send them to the nodes of the first hidden layer. At each hidden node, they are combined using the corresponding weights, and the result is transformed by means of the activation function. The hidden nodes send the resulting values to the nodes of the next layer, where they are combined. And so on, until arriving to the output layer."
   ]
  },
  {
   "cell_type": "markdown",
   "id": "a492258f-5640-455b-9a1f-216bc03d99ec",
   "metadata": {
    "id": "a492258f-5640-455b-9a1f-216bc03d99ec"
   },
   "source": [
    "## A graphical example"
   ]
  },
  {
   "cell_type": "markdown",
   "id": "2c25c58b-da19-4061-aa91-c115245a7ac8",
   "metadata": {
    "id": "2c25c58b-da19-4061-aa91-c115245a7ac8"
   },
   "source": [
    "Let us help our intuition with the graphical representation of a small network. The model of the figure below is an MLP regressor with one hidden layer of two nodes. The diagram is just a graphical representation of a set of three equations, two for the hidden nodes and one for the output node. The equation of node $A$ combines $X_1$, $X_2$ and $X_3$ with weights $w_{1A}$, $w_{2A}$ and $w_{3A}$, while the equation in node $B$ combines them with weights $w_{1B}$, $w_{2B}$ and $w_{3B}$. The biases are $w_{0A}$ and $w_{0B}$, respectively.\n",
    "\n",
    "![](https://raw.githubusercontent.com/lab30041954/Figures/main/nn.png)\n",
    "\n",
    "At the hidden nodes, the **activation function** is applied to the values given by these equations. Once the activation has been applied, the outcomes of the two hidden nodes are combined in the third equation, with weights $w_{AY}$ and $w_{BY}$ and bias $w_{0Y}$, to obtain the predicted value of $Y$. This model has a total of 11 parameters."
   ]
  },
  {
   "cell_type": "markdown",
   "id": "d5218790-5d5d-4c01-b2c3-df2fb828f58c",
   "metadata": {
    "id": "d5218790-5d5d-4c01-b2c3-df2fb828f58c"
   },
   "source": [
    "## The activation function"
   ]
  },
  {
   "cell_type": "markdown",
   "id": "627ceca8-b763-45bd-a59c-2a7feade770c",
   "metadata": {
    "id": "627ceca8-b763-45bd-a59c-2a7feade770c"
   },
   "source": [
    "The choice of the activation function is based on performance, since we do not have any serious theory that could explain why a specific mathematical formula works better than others. Just a few years ago, the **logistic function** was the recommended activation function in the hidden layers, although some preferred a similar formula called the **hyperbolic tangent** function. The current trend favors the **rectified linear unit function** ($\\hbox{ReLU}$). $\\hbox{ReLU}(x)$ is equal to $x$ when $x>0$ and equal to $0$ otherwise. So, the default activation in the hidden layers consists in turning the negative incoming values into zeros.\n",
    "\n",
    "In a MLP regressor (as in the figure), there is no activation at the (single) output node, so the equation predicting the values at that node is linear. In a MLP classifier, there are as many output nodes as target values. A **softmax activation** is applied to the whole set of incoming values, turning them into a set of **class probabilities**. In mathematical terms, this is the same as logistic regression applied to the output of the last hidden layer."
   ]
  },
  {
   "cell_type": "markdown",
   "id": "1975ec9e-ed2c-4e86-b0bf-5f4fa063b633",
   "metadata": {
    "id": "1975ec9e-ed2c-4e86-b0bf-5f4fa063b633"
   },
   "source": [
    "## Other technicalities"
   ]
  },
  {
   "cell_type": "markdown",
   "id": "f3407e7f-dd91-4f88-9e7b-58fc7258f8b4",
   "metadata": {
    "id": "f3407e7f-dd91-4f88-9e7b-58fc7258f8b4"
   },
   "source": [
    "* *How to find the optimal weights*. Initially, the weights are randomly assigned. Then, an iterative process starts. At every step, the prediction is performed with the current weights, the value of a **loss function** is calculated, and the weights are adjusted in order to reduce the loss. The process is expected to converge to an optimal solution, but, in practice, a maximum number of passes is pre-specified. In regression, the loss is usually the MSE, while, in classification, it is the average cross-entropy (Keras uses natural logs to calculate it). The adjustment of the weights starts at the last layer, and continues backwards until the input layer. This is called **backpropagation**.\n",
    "\n",
    "* *The optimization method*, called **solver** in scikit-learn and **optimizer** in the Keras API. The current trend favors the **stochastic gradient descent** (SGD) method, which has many variants. Though you may find in books or tutorials the variant `optimizer='rmsprop'`, we use here `optimizer='adam'`, which is faster.\n",
    "\n",
    "* *The number of iterations*, that is, the number of times every sample passes through the network is controlled in Keras with the parameter **epochs**. The default is `epochs=1`. In SGD, the samples don't pass all at once, but in **random batches** (see below).\n",
    "\n",
    "* *The batch size*. In the SGD method, the training data are randomly partitioned in batches in every iteration. The batches are tried one-by-one and the weights are modified every time that a batch is tried. The Keras default is `batch_size=32`. We don't change this in the examples of this course.\n",
    "\n",
    "* *The learning rate*, which we have already found in gradient boosting models, is a parameter which rules how fast the adjustment of the weights is done. If it is too low, there is no convergence to the optimal solution. If it is too high, you can overshoot the optimal solution. Modern ML software allows setting an initial learning rate and decrease it as the learning process goes on. The Keras default is `learning_rate=0.001`.\n",
    "\n",
    "* *Normalization*. Optimization methods are sensitive to feature scaling, so it is highly recommended to scale your data. In the old data mining suites, normalization was applied as a part of the algorithm, and the output was scaled back to the original range. It is not so in the Python ML toolbox."
   ]
  },
  {
   "cell_type": "markdown",
   "id": "1f6b4a1e-b1e2-4654-afdd-c50029b8706b",
   "metadata": {
    "id": "1f6b4a1e-b1e2-4654-afdd-c50029b8706b"
   },
   "source": [
    "## TensorFlow, Torch and Keras"
   ]
  },
  {
   "cell_type": "markdown",
   "id": "8c5f711c-f520-492d-8c43-52d517646da6",
   "metadata": {
    "id": "8c5f711c-f520-492d-8c43-52d517646da6"
   },
   "source": [
    "A number of attempts have been made to implement the mathematics of neural networks. Many of them are just history nowadays. The library **TensorFlow**, developed at Google Brain and released in 2015, has been for years the top popular choice, though the field seems to be divided right now between TensorFlow and **Torch** (PyTorch in Python).\n",
    "\n",
    "**Keras** is a deep learning framework for Python (there is also a version for R), which provides a convenient way to define and train neural network models. The documentation is available at `https://keras.io`. Keras does not handle itself low-level operations such as tensor manipulation and differentiation. Instead, it relies on a specialized tensor library to do so. That library serves as the **backend** engine of Keras.\n",
    "\n",
    "Keras was organized in a modular way, so several different backend engines could be plugged seamlessly into Keras. Keras 1 worked with three backend implementations, TensorFlow, Theano and CNTK. Given the dominance of TensorFlow, the last two options were dropped, so Keras 2 was no longer multi-backend, becoming just an API for TensorFlow. In November 2023, Keras 3 came again multi-backend, the optional backends being TensorFlow, Torch and JAX (a new Google development).\n",
    "\n",
    "Just to give you an idea why Keras is popular, it has been said that the number of keystrokes needed to specify a deep learning model in Keras is one half of what was needed in old TensorFlow. Another advantage is that the code written in Keras by a developer using TensorFlow can be reused without change by another developer using Torch. Even if Torch tensors and TensorFlow tensors are different types of objects in Python, Keras takes care of that, and input and output tensors appear as NumPy arrays, which is the only thing you have to manage in Keras.\n",
    "\n",
    "This course uses Keras with the default backend, which is TensorFlow. To use this notebook in your computer, you have to install Keras and TensorFlow. You can do that by entering in either the shell or a Jupyter app the command\n",
    "\n",
    "```\n",
    "pip install keras tensorflow\n",
    "```\n",
    "\n",
    "This is not needed in Google Colab, where everything is ready for the Keras/TensorFlow combo. When this is written, TensorFlow has not been updated for Python 3.13, which is the version coming with the current Anaconda distribution (there is no problem if you are still using Python 3.12 or older). You can skip this potential trouble running the notebook in Colab. The code used in the example will be explained there step-by-step.\n",
    "\n",
    "*Note*. MLP models for regression and classification are available in scikit-learn, in the classes `MLPRegressor()` and `MLPClassifier()` of the subpackage `neural_networks`, but scikit-learn does not cover the advanced methodology needed in this part of the course."
   ]
  },
  {
   "cell_type": "markdown",
   "id": "b3b7d43a-fa55-4ca6-ba17-5141fc293413",
   "metadata": {
    "id": "b3b7d43a-fa55-4ca6-ba17-5141fc293413"
   },
   "source": [
    "## Example - The MNIST data"
   ]
  },
  {
   "cell_type": "markdown",
   "id": "f7541389-25ba-4302-85e2-1b1d73073785",
   "metadata": {
    "id": "f7541389-25ba-4302-85e2-1b1d73073785"
   },
   "source": [
    "### Introduction"
   ]
  },
  {
   "cell_type": "markdown",
   "id": "9737b3a7-6622-45db-908f-ef9e64092901",
   "metadata": {
    "id": "9737b3a7-6622-45db-908f-ef9e64092901"
   },
   "source": [
    "This example deals with the classification of grayscale images of handwritten digits (resolution 28 $\\times$ 28), into 10 classes (0 to 9). The data are the famous **MNIST data**, a classic in the ML community, which have been around for almost as long as the field itself and have been very intensively studied.\n",
    "\n",
    "The MNIST data set contains 60,000 training images, plus 10,000 test images, assembled by the National Institute of Standards and Technology (NIST) in the 1980s. They have been extensively used for benchmarking. You can think of \"solving\" MNIST as the \"Hello World\" of deep learning. As you become an ML practitioner, the MNIST data come up over and over again, in scientific papers, blog posts, and so on."
   ]
  },
  {
   "cell_type": "markdown",
   "id": "8680ab7b-db99-45f2-8db7-98a0b0cbfedd",
   "metadata": {
    "id": "8680ab7b-db99-45f2-8db7-98a0b0cbfedd"
   },
   "source": [
    "## The data set"
   ]
  },
  {
   "cell_type": "markdown",
   "id": "fc15b246-f095-4aed-9c24-224c26297a24",
   "metadata": {
    "id": "fc15b246-f095-4aed-9c24-224c26297a24"
   },
   "source": [
    "The data of the 70,000 images come together in the file `mnist.csv` (zipped). Every row stands for an image. The first column is a label identifying the digit (0-9). The other 784 columns correspond to the image pixels (28 $\\times$ 28 = 784). The column name `ixj` must be read as the gray intensity of the pixel in row $i$ and column $j$ (in the images). These intensities are integers from 0 = Black to 255 = White (8-bit grayscale)."
   ]
  },
  {
   "cell_type": "markdown",
   "id": "27e56555-b023-456c-8d4f-f2b6ab6a7b5d",
   "metadata": {
    "id": "27e56555-b023-456c-8d4f-f2b6ab6a7b5d"
   },
   "source": [
    "### Questions"
   ]
  },
  {
   "cell_type": "markdown",
   "id": "6d412391-059e-4e64-b6d1-5d4502fc9939",
   "metadata": {
    "id": "6d412391-059e-4e64-b6d1-5d4502fc9939"
   },
   "source": [
    "Q1. Pick the first digit image (row 1). The 784 entries on the right of the label, from `1x1` to `28x28`, are the pixels' gray intensities. Pack these numbers as a vector and reshape that vector as a matrix of 28 rows and 28 columns. Plot the corresponding image with the `matplotlib.pyplot` function `imshow()`. This function will be using default colors which do not help here, so you can turn everything to gray scale by executing the function `gray()`. Your plot will have then black background, with the number drawn in white. Guess how to reverse this, so the image looks like white paper with a number drawn in black ink.\n",
    "\n",
    "Q2. Repeat the exercise with other images. You don't need the function `gray()` anymore.\n",
    "\n",
    "Q3. Split the data in a training set with 60,000 data units and a test set with 10,000 units.\n",
    "\n",
    "Q4. Train and test a **decision tree classifier** and a **random forest classifier** on these data, controlling the growth of the trees with the argument `max_leaf_nodes=128`.\n",
    "\n",
    "Q5. Train and test a MLP model, with a hidden layer of 32 nodes, using that split.\n",
    "\n",
    "Q6. How does the MLP model make predictions?\n",
    "\n",
    "Q7. Convert the gray scale to the 0-1 range (0 = Black, 1 = White), and try again with the same MLP architecture."
   ]
  },
  {
   "cell_type": "markdown",
   "id": "cb953da4-3352-49fb-a42e-86b0600bc61a",
   "metadata": {
    "id": "cb953da4-3352-49fb-a42e-86b0600bc61a"
   },
   "source": [
    "### Importing the data"
   ]
  },
  {
   "cell_type": "markdown",
   "id": "e65414bb-8447-42c0-85cc-34553b0209f8",
   "metadata": {
    "id": "e65414bb-8447-42c0-85cc-34553b0209f8"
   },
   "source": [
    "As in the preceding examples, we use the Pandas function `read_csv()` to import the data from a GitHub repository. Since the images do not have an identifier, we leave Pandas to create a `RangeIndex`. The source file is zipped, but `read_csv()` can manage this without a specific argument, based on the file extension `.zip`."
   ]
  },
  {
   "cell_type": "code",
   "execution_count": 1,
   "id": "fa0681e1-e301-49a5-8d27-f18c58e97adc",
   "metadata": {
    "id": "fa0681e1-e301-49a5-8d27-f18c58e97adc"
   },
   "outputs": [],
   "source": [
    "import numpy as np, pandas as pd\n",
    "path = 'https://raw.githubusercontent.com/lab30041954/Data/main/'\n",
    "df = pd.read_csv(path + 'mnist.csv.zip')"
   ]
  },
  {
   "cell_type": "markdown",
   "id": "07fdc772-8a2c-4729-88d7-4c4fc7e5dc1b",
   "metadata": {
    "id": "07fdc772-8a2c-4729-88d7-4c4fc7e5dc1b"
   },
   "source": [
    "We check the shape of the data frame:"
   ]
  },
  {
   "cell_type": "code",
   "execution_count": 2,
   "id": "bdfb26ba-b302-4600-9c2e-a20ec2ac000f",
   "metadata": {
    "colab": {
     "base_uri": "https://localhost:8080/"
    },
    "id": "bdfb26ba-b302-4600-9c2e-a20ec2ac000f",
    "outputId": "106fe09b-50d3-4e1b-bc83-ee3679cdb92b"
   },
   "outputs": [
    {
     "data": {
      "text/plain": [
       "(70000, 785)"
      ]
     },
     "execution_count": 2,
     "metadata": {},
     "output_type": "execute_result"
    }
   ],
   "source": [
    "df.shape"
   ]
  },
  {
   "cell_type": "markdown",
   "id": "2730d4ef-e5f3-4b27-abb4-e90d012d6b50",
   "metadata": {
    "id": "2730d4ef-e5f3-4b27-abb4-e90d012d6b50"
   },
   "source": [
    "### Target vector and features matrix"
   ]
  },
  {
   "cell_type": "markdown",
   "id": "fb488669-bba3-43fe-8680-76da5a7ac1b4",
   "metadata": {
    "id": "fb488669-bba3-43fe-8680-76da5a7ac1b4"
   },
   "source": [
    "We set the first column (the image labels) as the target vector and the pixel intensities as the feature matrix. We use only NumPy arrays in this example, to simplify the syntax. So, we convert the Pandas objects to arrays by means of `.values`"
   ]
  },
  {
   "cell_type": "code",
   "execution_count": 3,
   "id": "897e5038-cc82-49e1-9e10-a68de4dd7987",
   "metadata": {
    "id": "897e5038-cc82-49e1-9e10-a68de4dd7987"
   },
   "outputs": [],
   "source": [
    "y = df['label'].values\n",
    "X = df.drop(columns='label').values"
   ]
  },
  {
   "cell_type": "markdown",
   "id": "32bd6652-75ea-4ad0-bd99-0ba18127a72c",
   "metadata": {
    "id": "32bd6652-75ea-4ad0-bd99-0ba18127a72c"
   },
   "source": [
    "We can examine the labels the NumPy function `unique()`. This shows that the data are a bit unbalanced: ones are most frequent, and fives least frequent."
   ]
  },
  {
   "cell_type": "code",
   "execution_count": 4,
   "id": "b91b9aca-293b-4063-82b3-f664cd4c46f9",
   "metadata": {
    "colab": {
     "base_uri": "https://localhost:8080/"
    },
    "id": "b91b9aca-293b-4063-82b3-f664cd4c46f9",
    "outputId": "56f0e0e6-29b8-4e59-c7dc-73e6e5e92844"
   },
   "outputs": [
    {
     "data": {
      "text/plain": [
       "(array([0, 1, 2, 3, 4, 5, 6, 7, 8, 9]),\n",
       " array([6903, 7877, 6990, 7141, 6824, 6313, 6876, 7293, 6825, 6958]))"
      ]
     },
     "execution_count": 4,
     "metadata": {},
     "output_type": "execute_result"
    }
   ],
   "source": [
    "np.unique(y, return_counts=True)"
   ]
  },
  {
   "cell_type": "markdown",
   "id": "8539bbe6-a5f6-4f49-a6a4-b5bfc1414459",
   "metadata": {
    "id": "8539bbe6-a5f6-4f49-a6a4-b5bfc1414459"
   },
   "source": [
    "The pixel values can also be checked with `unique()`. We don't calculate here the counts for the 256 values, to keep it short."
   ]
  },
  {
   "cell_type": "code",
   "execution_count": 5,
   "id": "8f87673f-39e1-4088-8f89-70c2cbc985d1",
   "metadata": {
    "colab": {
     "base_uri": "https://localhost:8080/"
    },
    "id": "8f87673f-39e1-4088-8f89-70c2cbc985d1",
    "outputId": "a2f35273-3c81-4847-d423-c432c3101585"
   },
   "outputs": [
    {
     "data": {
      "text/plain": [
       "array([  0,   1,   2,   3,   4,   5,   6,   7,   8,   9,  10,  11,  12,\n",
       "        13,  14,  15,  16,  17,  18,  19,  20,  21,  22,  23,  24,  25,\n",
       "        26,  27,  28,  29,  30,  31,  32,  33,  34,  35,  36,  37,  38,\n",
       "        39,  40,  41,  42,  43,  44,  45,  46,  47,  48,  49,  50,  51,\n",
       "        52,  53,  54,  55,  56,  57,  58,  59,  60,  61,  62,  63,  64,\n",
       "        65,  66,  67,  68,  69,  70,  71,  72,  73,  74,  75,  76,  77,\n",
       "        78,  79,  80,  81,  82,  83,  84,  85,  86,  87,  88,  89,  90,\n",
       "        91,  92,  93,  94,  95,  96,  97,  98,  99, 100, 101, 102, 103,\n",
       "       104, 105, 106, 107, 108, 109, 110, 111, 112, 113, 114, 115, 116,\n",
       "       117, 118, 119, 120, 121, 122, 123, 124, 125, 126, 127, 128, 129,\n",
       "       130, 131, 132, 133, 134, 135, 136, 137, 138, 139, 140, 141, 142,\n",
       "       143, 144, 145, 146, 147, 148, 149, 150, 151, 152, 153, 154, 155,\n",
       "       156, 157, 158, 159, 160, 161, 162, 163, 164, 165, 166, 167, 168,\n",
       "       169, 170, 171, 172, 173, 174, 175, 176, 177, 178, 179, 180, 181,\n",
       "       182, 183, 184, 185, 186, 187, 188, 189, 190, 191, 192, 193, 194,\n",
       "       195, 196, 197, 198, 199, 200, 201, 202, 203, 204, 205, 206, 207,\n",
       "       208, 209, 210, 211, 212, 213, 214, 215, 216, 217, 218, 219, 220,\n",
       "       221, 222, 223, 224, 225, 226, 227, 228, 229, 230, 231, 232, 233,\n",
       "       234, 235, 236, 237, 238, 239, 240, 241, 242, 243, 244, 245, 246,\n",
       "       247, 248, 249, 250, 251, 252, 253, 254, 255])"
      ]
     },
     "execution_count": 5,
     "metadata": {},
     "output_type": "execute_result"
    }
   ],
   "source": [
    "np.unique(X)"
   ]
  },
  {
   "cell_type": "markdown",
   "id": "bf3a8324-896d-4824-bcef-87ddc962ec0e",
   "metadata": {
    "id": "bf3a8324-896d-4824-bcef-87ddc962ec0e"
   },
   "source": [
    "### Q1. Plotting the first image"
   ]
  },
  {
   "cell_type": "markdown",
   "id": "5160bb09-731b-4b46-b64e-493eeaa0fa66",
   "metadata": {
    "id": "5160bb09-731b-4b46-b64e-493eeaa0fa66"
   },
   "source": [
    "Every row corresponds to the image of a digit. Let us visualize this by plotting the images with Matplotlib. In the first row, the 784 entries, from 1 $\\times$ 1 to 28 $\\times$ 28, are the pixels' gray intensities. To plot the image, we have to reshape it as a 2D array with 28 rows and 28 columns. This can be done with the method `.reshape()`."
   ]
  },
  {
   "cell_type": "code",
   "execution_count": 6,
   "id": "bbec20db-4cc7-472a-9282-8acf6a7fb430",
   "metadata": {
    "id": "bbec20db-4cc7-472a-9282-8acf6a7fb430"
   },
   "outputs": [],
   "source": [
    "pic = X[0, :].reshape(28,28)"
   ]
  },
  {
   "cell_type": "markdown",
   "id": "1199d120-1058-4e4b-96f8-2aed7e27b4e3",
   "metadata": {
    "id": "1199d120-1058-4e4b-96f8-2aed7e27b4e3"
   },
   "source": [
    "The `matplotlib.pyplot` function `imshow()` converts this array to a picture and displays it:"
   ]
  },
  {
   "cell_type": "code",
   "execution_count": 7,
   "id": "86984516-f037-4cee-991a-15e6f5fd5bd1",
   "metadata": {
    "colab": {
     "base_uri": "https://localhost:8080/",
     "height": 430
    },
    "id": "86984516-f037-4cee-991a-15e6f5fd5bd1",
    "outputId": "40153455-0f10-4405-d128-65f349515f34"
   },
   "outputs": [
    {
     "data": {
      "image/png": "[encoded data removed]",
      "text/plain": [
       "<Figure size 640x480 with 1 Axes>"
      ]
     },
     "metadata": {},
     "output_type": "display_data"
    }
   ],
   "source": [
    "from matplotlib import pyplot as plt\n",
    "plt.imshow(pic);"
   ]
  },
  {
   "cell_type": "markdown",
   "id": "fcd4dfea-3235-417a-8e76-e1b86582f4b5",
   "metadata": {
    "id": "fcd4dfea-3235-417a-8e76-e1b86582f4b5"
   },
   "source": [
    "These are the default colors displayed by `imshow()`. To turn them into gray scale, one can use the argument `cmap='gray'`."
   ]
  },
  {
   "cell_type": "code",
   "execution_count": 8,
   "id": "b4c92b75-40c5-4e88-b8c5-87dc0c6fa60a",
   "metadata": {
    "colab": {
     "base_uri": "https://localhost:8080/",
     "height": 430
    },
    "id": "b4c92b75-40c5-4e88-b8c5-87dc0c6fa60a",
    "outputId": "c6d1ee2b-349f-469e-d132-169529e1da5a"
   },
   "outputs": [
    {
     "data": {
      "image/png": "[encoded data removed]",
      "text/plain": [
       "<Figure size 640x480 with 1 Axes>"
      ]
     },
     "metadata": {},
     "output_type": "display_data"
    }
   ],
   "source": [
    "plt.imshow(pic, cmap='gray');"
   ]
  },
  {
   "cell_type": "markdown",
   "id": "d18002e1-55b7-4322-be4b-5f5d8c2bf7bf",
   "metadata": {
    "id": "d18002e1-55b7-4322-be4b-5f5d8c2bf7bf"
   },
   "source": [
    "The gray scale can be set as the default with the function `gray()`. Now, reversing the scale, we can show the picture as it were a digit written with black pencil on a white paper surface:"
   ]
  },
  {
   "cell_type": "code",
   "execution_count": 9,
   "id": "6e10cce1-54c1-4897-b99b-48283de5d709",
   "metadata": {
    "colab": {
     "base_uri": "https://localhost:8080/",
     "height": 430
    },
    "id": "6e10cce1-54c1-4897-b99b-48283de5d709",
    "outputId": "6452c673-52e8-4300-fa13-fc9c63bc142e"
   },
   "outputs": [
    {
     "data": {
      "image/png": "[encoded data removed]",
      "text/plain": [
       "<Figure size 640x480 with 1 Axes>"
      ]
     },
     "metadata": {},
     "output_type": "display_data"
    }
   ],
   "source": [
    "plt.gray()\n",
    "plt.imshow(255 - pic);"
   ]
  },
  {
   "cell_type": "markdown",
   "id": "0824a8d1-95ce-4578-adca-9e609057a69b",
   "metadata": {
    "id": "0824a8d1-95ce-4578-adca-9e609057a69b"
   },
   "source": [
    "This five is far from caligraphic, but still recognizable by a human eye."
   ]
  },
  {
   "cell_type": "markdown",
   "id": "b06fd214-959e-4050-90dc-398c482c460e",
   "metadata": {
    "id": "b06fd214-959e-4050-90dc-398c482c460e"
   },
   "source": [
    "### Q2. Plotting other images"
   ]
  },
  {
   "cell_type": "markdown",
   "id": "5e3db2d2-98d1-4cab-8eec-4c21f256c781",
   "metadata": {
    "id": "5e3db2d2-98d1-4cab-8eec-4c21f256c781"
   },
   "source": [
    "The second image of the data set is a zero:"
   ]
  },
  {
   "cell_type": "code",
   "execution_count": 10,
   "id": "e91c9487-d8f9-4faa-bed9-49e878c1c7cb",
   "metadata": {
    "colab": {
     "base_uri": "https://localhost:8080/",
     "height": 430
    },
    "id": "e91c9487-d8f9-4faa-bed9-49e878c1c7cb",
    "outputId": "8b09d7c0-2bb5-4d0a-c38f-4a0200b737b2"
   },
   "outputs": [
    {
     "data": {
      "image/png": "[encoded data removed]",
      "text/plain": [
       "<Figure size 640x480 with 1 Axes>"
      ]
     },
     "metadata": {},
     "output_type": "display_data"
    }
   ],
   "source": [
    "pic = X[1, :].reshape(28,28)\n",
    "plt.imshow(255 - pic);"
   ]
  },
  {
   "cell_type": "markdown",
   "id": "4458ca35-03be-4ba4-a5ce-d124fea86d5c",
   "metadata": {
    "id": "4458ca35-03be-4ba4-a5ce-d124fea86d5c"
   },
   "source": [
    "And the third one a four:"
   ]
  },
  {
   "cell_type": "code",
   "execution_count": 11,
   "id": "47637827-a3f6-433c-9bb4-f34b1b8df959",
   "metadata": {
    "colab": {
     "base_uri": "https://localhost:8080/",
     "height": 430
    },
    "id": "47637827-a3f6-433c-9bb4-f34b1b8df959",
    "outputId": "db239221-0426-4c88-d4be-26eab56133a9"
   },
   "outputs": [
    {
     "data": {
      "image/png": "[encoded data removed]",
      "text/plain": [
       "<Figure size 640x480 with 1 Axes>"
      ]
     },
     "metadata": {},
     "output_type": "display_data"
    }
   ],
   "source": [
    "pic = X[2, :].reshape(28,28)\n",
    "plt.imshow(255 - pic);"
   ]
  },
  {
   "cell_type": "markdown",
   "id": "3cfa0c9b-0ae2-4277-bef0-db6f3756a212",
   "metadata": {
    "id": "3cfa0c9b-0ae2-4277-bef0-db6f3756a212"
   },
   "source": [
    "### Q3. Train-test split"
   ]
  },
  {
   "cell_type": "markdown",
   "id": "99dc0a1a-aff4-44ec-98bc-3d8e3472a80b",
   "metadata": {
    "id": "99dc0a1a-aff4-44ec-98bc-3d8e3472a80b"
   },
   "source": [
    "We split the data set, so we can validate the models that we will try. We keep 10,000 pictures for testing, which is common practice with the MNIST data. We set `random_state=0` for reproducibility. So, we will be able to rescale the features and apply the same split to the rescaled data."
   ]
  },
  {
   "cell_type": "code",
   "execution_count": 12,
   "id": "35bbb944-be3f-46f4-85d5-b20916c95a40",
   "metadata": {
    "id": "35bbb944-be3f-46f4-85d5-b20916c95a40"
   },
   "outputs": [],
   "source": [
    "from sklearn.model_selection import train_test_split\n",
    "X_train, X_test, y_train, y_test = train_test_split(X, y, test_size=1/7, random_state=0)"
   ]
  },
  {
   "cell_type": "markdown",
   "id": "d234f78d-ba8d-456a-84ab-1d3197fb53fc",
   "metadata": {
    "id": "d234f78d-ba8d-456a-84ab-1d3197fb53fc"
   },
   "source": [
    "### Q4. Tree-based models"
   ]
  },
  {
   "cell_type": "markdown",
   "id": "17d1e72c-d7a3-45ba-900e-09e03b41ab00",
   "metadata": {
    "id": "17d1e72c-d7a3-45ba-900e-09e03b41ab00"
   },
   "source": [
    "We start with a decision tree classifier, to get a first benchmark. We use an estimator from the class `DecisionTreeClassifier()`, of the scikit-learn subpackage `tree`. Given the size of the data set, we set `max_leaf_nodes=128`, to control the growth of the tree. We calculate the accuracy on both training and test data. The accuracy can be a good way to evaluate this model, since the data set is quite balanced and we don't have any preference for a particular digit."
   ]
  },
  {
   "cell_type": "code",
   "execution_count": 13,
   "id": "2a9cbc91-e532-4866-b353-5a39c7e1299d",
   "metadata": {
    "colab": {
     "base_uri": "https://localhost:8080/"
    },
    "id": "2a9cbc91-e532-4866-b353-5a39c7e1299d",
    "outputId": "f4ee3a61-eec0-464d-c150-84654307c087"
   },
   "outputs": [
    {
     "data": {
      "text/plain": [
       "(0.809, 0.791)"
      ]
     },
     "execution_count": 13,
     "metadata": {},
     "output_type": "execute_result"
    }
   ],
   "source": [
    "from sklearn.tree import DecisionTreeClassifier\n",
    "treeclf = DecisionTreeClassifier(max_leaf_nodes=128)\n",
    "treeclf.fit(X_train, y_train)\n",
    "round(treeclf.score(X_train, y_train), 3), round(treeclf.score(X_test, y_test), 3)"
   ]
  },
  {
   "cell_type": "markdown",
   "id": "043e2958-ba97-4cc7-9063-d26bcde75a79",
   "metadata": {
    "id": "043e2958-ba97-4cc7-9063-d26bcde75a79"
   },
   "source": [
    "Even if the tree is big, we don't find evidence of overfitting. The accuracy is not negligeable, but would not be enough for business applications. For instance, to be used on scanned zipcodes (five digits). Maintaining the specification for the tree size, we try now a random forest classifier with 100 trees."
   ]
  },
  {
   "cell_type": "code",
   "execution_count": 14,
   "id": "b772cf7b-287a-4f11-968f-386ef4dec2fd",
   "metadata": {
    "colab": {
     "base_uri": "https://localhost:8080/"
    },
    "id": "b772cf7b-287a-4f11-968f-386ef4dec2fd",
    "outputId": "edcc1043-d3d0-4e65-bcda-61f6c6395e76"
   },
   "outputs": [
    {
     "data": {
      "text/plain": [
       "(0.927, 0.917)"
      ]
     },
     "execution_count": 14,
     "metadata": {},
     "output_type": "execute_result"
    }
   ],
   "source": [
    "from sklearn.ensemble import RandomForestClassifier\n",
    "rfclf = RandomForestClassifier(max_leaf_nodes=128, n_estimators=100)\n",
    "rfclf.fit(X_train, y_train)\n",
    "round(rfclf.score(X_train, y_train), 3), round(rfclf.score(X_test, y_test), 3)"
   ]
  },
  {
   "cell_type": "markdown",
   "id": "5ca4c99d-cbce-467b-a20c-2a0a985b4318",
   "metadata": {
    "id": "5ca4c99d-cbce-467b-a20c-2a0a985b4318"
   },
   "source": [
    "This is clearly better than an individual tree, and overfitting is moderate. The homework suggests that you can improve this a bit more by changing the specs. You can also try a gradient boosting model."
   ]
  },
  {
   "cell_type": "markdown",
   "id": "4736f569-9e29-495d-8314-d16148507d08",
   "metadata": {
    "id": "4736f569-9e29-495d-8314-d16148507d08"
   },
   "source": [
    "### Q5. MLP model"
   ]
  },
  {
   "cell_type": "markdown",
   "id": "62e1d03d-bdcb-4201-bbcd-190d3a5af76a",
   "metadata": {
    "id": "62e1d03d-bdcb-4201-bbcd-190d3a5af76a"
   },
   "source": [
    "We try now a simple neural network, using the Keras, with the TensorFlow backend. Assuming that Keras and TensorFlow are already installed and everything is all right (it will be if run this notebook in Google Colab), we import the function `Input()` and the modules `models` and `layers`, which contain the resources needed for this example."
   ]
  },
  {
   "cell_type": "code",
   "execution_count": 15,
   "id": "ec5efbda-feec-495a-a657-00a347b3bca3",
   "metadata": {
    "id": "ec5efbda-feec-495a-a657-00a347b3bca3"
   },
   "outputs": [],
   "source": [
    "from keras import Input, models, layers"
   ]
  },
  {
   "cell_type": "markdown",
   "id": "2c0d750f-5f22-4293-9444-22fba2d41211",
   "metadata": {
    "id": "2c0d750f-5f22-4293-9444-22fba2d41211"
   },
   "source": [
    "The module `models` has two classes, `.Sequential()` and `.Model()`. The first one can only specify a network architecture made of a sequence of layers. The other class, known as the **Functional API**, does not have that restriction. We use `.Model()` in this course.\n",
    "\n",
    "A simple way to specify the network architecture is to create a list of layers. The layers are extracted from classes of the module `layers`. For a MLP network we only need the class `Dense()`. For instance, a MLP network with one hidden layer of 32 nodes for the MNIST data would be specified as follows. First, the **input layer** contains one node for every feature (there 784 features, one for each pixel)."
   ]
  },
  {
   "cell_type": "code",
   "execution_count": 16,
   "id": "c09be2ff-d5f8-4ce4-af7b-3f772a31f96e",
   "metadata": {
    "id": "c09be2ff-d5f8-4ce4-af7b-3f772a31f96e"
   },
   "outputs": [],
   "source": [
    "input_tensor = Input(shape=(784,))"
   ]
  },
  {
   "cell_type": "markdown",
   "id": "ee86f730-cca8-4f88-9977-7cff0158148b",
   "metadata": {
    "id": "ee86f730-cca8-4f88-9977-7cff0158148b"
   },
   "source": [
    "Next, the **hidden layer**, that transforms the input tensor (length 784) into a new tensor (length (32). It is a dense layer, meaning that every node is connected to all nodes of the preceding layer. The activation function is the **rectified linear unit function** (ReLU)."
   ]
  },
  {
   "cell_type": "code",
   "execution_count": 17,
   "id": "563a762b-6aa5-4b8c-8073-3455dbea9c0b",
   "metadata": {
    "id": "563a762b-6aa5-4b8c-8073-3455dbea9c0b"
   },
   "outputs": [],
   "source": [
    "x = layers.Dense(32, activation='relu')(input_tensor)"
   ]
  },
  {
   "cell_type": "markdown",
   "id": "a8ed95aa-88c8-4841-b697-de029802dc0b",
   "metadata": {
    "id": "a8ed95aa-88c8-4841-b697-de029802dc0b"
   },
   "source": [
    "Finally, the **output layer** transforms the hidden tensor (length 32) into a tensor of class probabilities (length 10). The activation function is here the **softmax**, which ensures that the output is a vector of probabilities (positive numbers summing 1)."
   ]
  },
  {
   "cell_type": "code",
   "execution_count": 18,
   "id": "0cff7193-3581-4b0e-99ba-22890f731690",
   "metadata": {
    "id": "0cff7193-3581-4b0e-99ba-22890f731690"
   },
   "outputs": [],
   "source": [
    "output_tensor = layers.Dense(10, activation='softmax')(x)"
   ]
  },
  {
   "cell_type": "markdown",
   "id": "08f907eb-6b3c-4d29-8d5c-c8e2c106b3c8",
   "metadata": {
    "id": "08f907eb-6b3c-4d29-8d5c-c8e2c106b3c8"
   },
   "source": [
    "The next step is instantiate an object of the class `models.Model()`. This works as in scikit-learn. We specify here the input and the output."
   ]
  },
  {
   "cell_type": "code",
   "execution_count": 19,
   "id": "26e3fa44-c5bc-4a16-b5bf-28cecaa7ddae",
   "metadata": {
    "id": "26e3fa44-c5bc-4a16-b5bf-28cecaa7ddae"
   },
   "outputs": [],
   "source": [
    "mlpclf1 = models.Model(input_tensor, output_tensor)"
   ]
  },
  {
   "cell_type": "markdown",
   "id": "8e158336-b981-4e3c-bf8a-34c84e0067dd",
   "metadata": {
    "id": "8e158336-b981-4e3c-bf8a-34c84e0067dd"
   },
   "source": [
    "The method `.summary()` prints a summary of the network architecture, reporting the number of parameters in every layer. In the hidden layer, every node receives 784 inputs (one for each pixel), which are combined wby means of a linear expression involving the same number of **weights** (the slope coefficients) plus a **bias** (the intercept). So, 785 parameters are needed at every node, which makes a total of 32 $\\times$ 785 = 25,120 parameters. In a similar way, in the output layer, every node needs 33 parameters, which adds 10 $\\times$ 33 = 330 parameters to get a total of 25,450 parameters for the whole network."
   ]
  },
  {
   "cell_type": "code",
   "execution_count": 20,
   "id": "ec50f670-643a-4978-a705-11a85e491b7e",
   "metadata": {
    "colab": {
     "base_uri": "https://localhost:8080/",
     "height": 232
    },
    "id": "ec50f670-643a-4978-a705-11a85e491b7e",
    "outputId": "30928f52-fd13-4133-f769-8cffcfb452e1"
   },
   "outputs": [
    {
     "data": {
      "text/html": [
       "<pre style=\"white-space:pre;overflow-x:auto;line-height:normal;font-family:Menlo,'DejaVu Sans Mono',consolas,'Courier New',monospace\"><span style=\"font-weight: bold\">Model: \"functional\"</span>\n",
       "</pre>\n"
      ],
      "text/plain": [
       "\u001b[1mModel: \"functional\"\u001b[0m\n"
      ]
     },
     "metadata": {},
     "output_type": "display_data"
    },
    {
     "data": {
      "text/html": [
       "<pre style=\"white-space:pre;overflow-x:auto;line-height:normal;font-family:Menlo,'DejaVu Sans Mono',consolas,'Courier New',monospace\">┏━━━━━━━━━━━━━━━━━━━━━━━━━━━━━━━━━┳━━━━━━━━━━━━━━━━━━━━━━━━┳━━━━━━━━━━━━━━━┓\n",
       "┃<span style=\"font-weight: bold\"> Layer (type)                    </span>┃<span style=\"font-weight: bold\"> Output Shape           </span>┃<span style=\"font-weight: bold\">       Param # </span>┃\n",
       "┡━━━━━━━━━━━━━━━━━━━━━━━━━━━━━━━━━╇━━━━━━━━━━━━━━━━━━━━━━━━╇━━━━━━━━━━━━━━━┩\n",
       "│ input_layer (<span style=\"color: #0087ff; text-decoration-color: #0087ff\">InputLayer</span>)        │ (<span style=\"color: #00d7ff; text-decoration-color: #00d7ff\">None</span>, <span style=\"color: #00af00; text-decoration-color: #00af00\">784</span>)            │             <span style=\"color: #00af00; text-decoration-color: #00af00\">0</span> │\n",
       "├─────────────────────────────────┼────────────────────────┼───────────────┤\n",
       "│ dense (<span style=\"color: #0087ff; text-decoration-color: #0087ff\">Dense</span>)                   │ (<span style=\"color: #00d7ff; text-decoration-color: #00d7ff\">None</span>, <span style=\"color: #00af00; text-decoration-color: #00af00\">32</span>)             │        <span style=\"color: #00af00; text-decoration-color: #00af00\">25,120</span> │\n",
       "├─────────────────────────────────┼────────────────────────┼───────────────┤\n",
       "│ dense_1 (<span style=\"color: #0087ff; text-decoration-color: #0087ff\">Dense</span>)                 │ (<span style=\"color: #00d7ff; text-decoration-color: #00d7ff\">None</span>, <span style=\"color: #00af00; text-decoration-color: #00af00\">10</span>)             │           <span style=\"color: #00af00; text-decoration-color: #00af00\">330</span> │\n",
       "└─────────────────────────────────┴────────────────────────┴───────────────┘\n",
       "</pre>\n"
      ],
      "text/plain": [
       "┏━━━━━━━━━━━━━━━━━━━━━━━━━━━━━━━━━┳━━━━━━━━━━━━━━━━━━━━━━━━┳━━━━━━━━━━━━━━━┓\n",
       "┃\u001b[1m \u001b[0m\u001b[1mLayer (type)                   \u001b[0m\u001b[1m \u001b[0m┃\u001b[1m \u001b[0m\u001b[1mOutput Shape          \u001b[0m\u001b[1m \u001b[0m┃\u001b[1m \u001b[0m\u001b[1m      Param #\u001b[0m\u001b[1m \u001b[0m┃\n",
       "┡━━━━━━━━━━━━━━━━━━━━━━━━━━━━━━━━━╇━━━━━━━━━━━━━━━━━━━━━━━━╇━━━━━━━━━━━━━━━┩\n",
       "│ input_layer (\u001b[38;5;33mInputLayer\u001b[0m)        │ (\u001b[38;5;45mNone\u001b[0m, \u001b[38;5;34m784\u001b[0m)            │             \u001b[38;5;34m0\u001b[0m │\n",
       "├─────────────────────────────────┼────────────────────────┼───────────────┤\n",
       "│ dense (\u001b[38;5;33mDense\u001b[0m)                   │ (\u001b[38;5;45mNone\u001b[0m, \u001b[38;5;34m32\u001b[0m)             │        \u001b[38;5;34m25,120\u001b[0m │\n",
       "├─────────────────────────────────┼────────────────────────┼───────────────┤\n",
       "│ dense_1 (\u001b[38;5;33mDense\u001b[0m)                 │ (\u001b[38;5;45mNone\u001b[0m, \u001b[38;5;34m10\u001b[0m)             │           \u001b[38;5;34m330\u001b[0m │\n",
       "└─────────────────────────────────┴────────────────────────┴───────────────┘\n"
      ]
     },
     "metadata": {},
     "output_type": "display_data"
    },
    {
     "data": {
      "text/html": [
       "<pre style=\"white-space:pre;overflow-x:auto;line-height:normal;font-family:Menlo,'DejaVu Sans Mono',consolas,'Courier New',monospace\"><span style=\"font-weight: bold\"> Total params: </span><span style=\"color: #00af00; text-decoration-color: #00af00\">25,450</span> (99.41 KB)\n",
       "</pre>\n"
      ],
      "text/plain": [
       "\u001b[1m Total params: \u001b[0m\u001b[38;5;34m25,450\u001b[0m (99.41 KB)\n"
      ]
     },
     "metadata": {},
     "output_type": "display_data"
    },
    {
     "data": {
      "text/html": [
       "<pre style=\"white-space:pre;overflow-x:auto;line-height:normal;font-family:Menlo,'DejaVu Sans Mono',consolas,'Courier New',monospace\"><span style=\"font-weight: bold\"> Trainable params: </span><span style=\"color: #00af00; text-decoration-color: #00af00\">25,450</span> (99.41 KB)\n",
       "</pre>\n"
      ],
      "text/plain": [
       "\u001b[1m Trainable params: \u001b[0m\u001b[38;5;34m25,450\u001b[0m (99.41 KB)\n"
      ]
     },
     "metadata": {},
     "output_type": "display_data"
    },
    {
     "data": {
      "text/html": [
       "<pre style=\"white-space:pre;overflow-x:auto;line-height:normal;font-family:Menlo,'DejaVu Sans Mono',consolas,'Courier New',monospace\"><span style=\"font-weight: bold\"> Non-trainable params: </span><span style=\"color: #00af00; text-decoration-color: #00af00\">0</span> (0.00 B)\n",
       "</pre>\n"
      ],
      "text/plain": [
       "\u001b[1m Non-trainable params: \u001b[0m\u001b[38;5;34m0\u001b[0m (0.00 B)\n"
      ]
     },
     "metadata": {},
     "output_type": "display_data"
    }
   ],
   "source": [
    "mlpclf1.summary()"
   ]
  },
  {
   "cell_type": "markdown",
   "id": "69f24051-cb52-4643-9c8f-e79edbe28ad9",
   "metadata": {
    "id": "69f24051-cb52-4643-9c8f-e79edbe28ad9"
   },
   "source": [
    "Now, we **compile** the model, meaning the mathematical apparatus needed for the learning process gets ready. We have to specify the **optimization algorithm** (`optimizer='adam'`), the **loss function** (`loss='sparse_categorical_crossentropy'`) and the metrics used to evaluate the model performance (`metrics=['acc']`), in a list or dictionary."
   ]
  },
  {
   "cell_type": "code",
   "execution_count": 21,
   "id": "b1d0f2c5-bb04-49a7-bfb2-248b7d8aa2ad",
   "metadata": {
    "id": "b1d0f2c5-bb04-49a7-bfb2-248b7d8aa2ad"
   },
   "outputs": [],
   "source": [
    "mlpclf1.compile(optimizer='adam', loss='sparse_categorical_crossentropy', metrics=['acc'])"
   ]
  },
  {
   "cell_type": "markdown",
   "id": "8fc88510-1993-4082-8008-36b719faee3e",
   "metadata": {
    "id": "8fc88510-1993-4082-8008-36b719faee3e"
   },
   "source": [
    "We are ready now to apply the method `.fit()`. Note that the number of iterations is specified here, not when creating the model, as it was in scikit-learn. In every iteration, or **epoch**, the data set is randomly split in batches of size 32 (if you accept the deafult size). These batches are passed sequentially, and the parameter values are updated for every batch. This means that they not are updated 50 times, but 50 times the number of batches (1,875). By default, a report of the progress is gradually displayed on the screen. In this example, every epoch takes about nine seconds in a regular laptop."
   ]
  },
  {
   "cell_type": "code",
   "execution_count": 22,
   "id": "90b9d62b-e0b9-4a00-aa10-996b73a7e748",
   "metadata": {
    "colab": {
     "base_uri": "https://localhost:8080/"
    },
    "id": "90b9d62b-e0b9-4a00-aa10-996b73a7e748",
    "outputId": "cab51e20-dec5-475f-a35f-23864a61c32b"
   },
   "outputs": [
    {
     "name": "stdout",
     "output_type": "stream",
     "text": [
      "Epoch 1/20\n",
      "\u001b[1m1875/1875\u001b[0m \u001b[32m━━━━━━━━━━━━━━━━━━━━\u001b[0m\u001b[37m\u001b[0m \u001b[1m7s\u001b[0m 3ms/step - acc: 0.5683 - loss: 6.6453 - val_acc: 0.7672 - val_loss: 0.7716\n",
      "Epoch 2/20\n",
      "\u001b[1m1875/1875\u001b[0m \u001b[32m━━━━━━━━━━━━━━━━━━━━\u001b[0m\u001b[37m\u001b[0m \u001b[1m10s\u001b[0m 3ms/step - acc: 0.8135 - loss: 0.6595 - val_acc: 0.8769 - val_loss: 0.5359\n",
      "Epoch 3/20\n",
      "\u001b[1m1875/1875\u001b[0m \u001b[32m━━━━━━━━━━━━━━━━━━━━\u001b[0m\u001b[37m\u001b[0m \u001b[1m5s\u001b[0m 3ms/step - acc: 0.8758 - loss: 0.4858 - val_acc: 0.8922 - val_loss: 0.4266\n",
      "Epoch 4/20\n",
      "\u001b[1m1875/1875\u001b[0m \u001b[32m━━━━━━━━━━━━━━━━━━━━\u001b[0m\u001b[37m\u001b[0m \u001b[1m6s\u001b[0m 3ms/step - acc: 0.9039 - loss: 0.3787 - val_acc: 0.9053 - val_loss: 0.3687\n",
      "Epoch 5/20\n",
      "\u001b[1m1875/1875\u001b[0m \u001b[32m━━━━━━━━━━━━━━━━━━━━\u001b[0m\u001b[37m\u001b[0m \u001b[1m5s\u001b[0m 3ms/step - acc: 0.9160 - loss: 0.3328 - val_acc: 0.9014 - val_loss: 0.3693\n",
      "Epoch 6/20\n",
      "\u001b[1m1875/1875\u001b[0m \u001b[32m━━━━━━━━━━━━━━━━━━━━\u001b[0m\u001b[37m\u001b[0m \u001b[1m6s\u001b[0m 3ms/step - acc: 0.9238 - loss: 0.2980 - val_acc: 0.9247 - val_loss: 0.3278\n",
      "Epoch 7/20\n",
      "\u001b[1m1875/1875\u001b[0m \u001b[32m━━━━━━━━━━━━━━━━━━━━\u001b[0m\u001b[37m\u001b[0m \u001b[1m9s\u001b[0m 3ms/step - acc: 0.9307 - loss: 0.2751 - val_acc: 0.9240 - val_loss: 0.3096\n",
      "Epoch 8/20\n",
      "\u001b[1m1875/1875\u001b[0m \u001b[32m━━━━━━━━━━━━━━━━━━━━\u001b[0m\u001b[37m\u001b[0m \u001b[1m6s\u001b[0m 3ms/step - acc: 0.9319 - loss: 0.2656 - val_acc: 0.9275 - val_loss: 0.3370\n",
      "Epoch 9/20\n",
      "\u001b[1m1875/1875\u001b[0m \u001b[32m━━━━━━━━━━━━━━━━━━━━\u001b[0m\u001b[37m\u001b[0m \u001b[1m5s\u001b[0m 2ms/step - acc: 0.9365 - loss: 0.2518 - val_acc: 0.9231 - val_loss: 0.3693\n",
      "Epoch 10/20\n",
      "\u001b[1m1875/1875\u001b[0m \u001b[32m━━━━━━━━━━━━━━━━━━━━\u001b[0m\u001b[37m\u001b[0m \u001b[1m5s\u001b[0m 3ms/step - acc: 0.9381 - loss: 0.2460 - val_acc: 0.9213 - val_loss: 0.3192\n",
      "Epoch 11/20\n",
      "\u001b[1m1875/1875\u001b[0m \u001b[32m━━━━━━━━━━━━━━━━━━━━\u001b[0m\u001b[37m\u001b[0m \u001b[1m10s\u001b[0m 3ms/step - acc: 0.9390 - loss: 0.2376 - val_acc: 0.9249 - val_loss: 0.3500\n",
      "Epoch 12/20\n",
      "\u001b[1m1875/1875\u001b[0m \u001b[32m━━━━━━━━━━━━━━━━━━━━\u001b[0m\u001b[37m\u001b[0m \u001b[1m5s\u001b[0m 3ms/step - acc: 0.9398 - loss: 0.2406 - val_acc: 0.9314 - val_loss: 0.3210\n",
      "Epoch 13/20\n",
      "\u001b[1m1875/1875\u001b[0m \u001b[32m━━━━━━━━━━━━━━━━━━━━\u001b[0m\u001b[37m\u001b[0m \u001b[1m5s\u001b[0m 2ms/step - acc: 0.9416 - loss: 0.2284 - val_acc: 0.9149 - val_loss: 0.3536\n",
      "Epoch 14/20\n",
      "\u001b[1m1875/1875\u001b[0m \u001b[32m━━━━━━━━━━━━━━━━━━━━\u001b[0m\u001b[37m\u001b[0m \u001b[1m5s\u001b[0m 3ms/step - acc: 0.9434 - loss: 0.2325 - val_acc: 0.9285 - val_loss: 0.3224\n",
      "Epoch 15/20\n",
      "\u001b[1m1875/1875\u001b[0m \u001b[32m━━━━━━━━━━━━━━━━━━━━\u001b[0m\u001b[37m\u001b[0m \u001b[1m5s\u001b[0m 3ms/step - acc: 0.9436 - loss: 0.2267 - val_acc: 0.9260 - val_loss: 0.3212\n",
      "Epoch 16/20\n",
      "\u001b[1m1875/1875\u001b[0m \u001b[32m━━━━━━━━━━━━━━━━━━━━\u001b[0m\u001b[37m\u001b[0m \u001b[1m4s\u001b[0m 2ms/step - acc: 0.9447 - loss: 0.2203 - val_acc: 0.9276 - val_loss: 0.3574\n",
      "Epoch 17/20\n",
      "\u001b[1m1875/1875\u001b[0m \u001b[32m━━━━━━━━━━━━━━━━━━━━\u001b[0m\u001b[37m\u001b[0m \u001b[1m5s\u001b[0m 3ms/step - acc: 0.9443 - loss: 0.2207 - val_acc: 0.9321 - val_loss: 0.3231\n",
      "Epoch 18/20\n",
      "\u001b[1m1875/1875\u001b[0m \u001b[32m━━━━━━━━━━━━━━━━━━━━\u001b[0m\u001b[37m\u001b[0m \u001b[1m5s\u001b[0m 2ms/step - acc: 0.9481 - loss: 0.2038 - val_acc: 0.9118 - val_loss: 0.4384\n",
      "Epoch 19/20\n",
      "\u001b[1m1875/1875\u001b[0m \u001b[32m━━━━━━━━━━━━━━━━━━━━\u001b[0m\u001b[37m\u001b[0m \u001b[1m5s\u001b[0m 2ms/step - acc: 0.9442 - loss: 0.2195 - val_acc: 0.9229 - val_loss: 0.3611\n",
      "Epoch 20/20\n",
      "\u001b[1m1875/1875\u001b[0m \u001b[32m━━━━━━━━━━━━━━━━━━━━\u001b[0m\u001b[37m\u001b[0m \u001b[1m6s\u001b[0m 3ms/step - acc: 0.9451 - loss: 0.2175 - val_acc: 0.9292 - val_loss: 0.3855\n"
     ]
    }
   ],
   "source": [
    "mlpclf1.fit(X_train, y_train, epochs=20, validation_data=(X_test, y_test));"
   ]
  },
  {
   "cell_type": "markdown",
   "id": "goQg5XU8zCqr",
   "metadata": {
    "id": "goQg5XU8zCqr"
   },
   "source": [
    "This is our best result so far, though we can do better with a gradient boosting model, as suggested in the homework, or by rescaling the data, as suggested in question Q7."
   ]
  },
  {
   "cell_type": "markdown",
   "id": "932e4392-c9dd-4817-b13b-0e3532533de8",
   "metadata": {
    "id": "932e4392-c9dd-4817-b13b-0e3532533de8"
   },
   "source": [
    "### Q6. Prediction with a MLP model"
   ]
  },
  {
   "cell_type": "markdown",
   "id": "77419e4f-4cb1-4a94-977e-85c973ed83f1",
   "metadata": {
    "id": "77419e4f-4cb1-4a94-977e-85c973ed83f1"
   },
   "source": [
    "In a classification setting, the Keras method `.predict()` returns the class probabilities (not the predicted class), just as the scikit-learn method `.predict_proba()`. In this example, it returns, for a given input, the 10 values given by the softmax activation at the output nodes, which are the **predicted class probabilities** for that input. For instance, for the first digit of the test set, we get:"
   ]
  },
  {
   "cell_type": "code",
   "execution_count": 23,
   "id": "9d909f5f-72cc-459e-9791-80b75e1ec62e",
   "metadata": {
    "colab": {
     "base_uri": "https://localhost:8080/"
    },
    "id": "9d909f5f-72cc-459e-9791-80b75e1ec62e",
    "outputId": "ebf10cd4-81dd-43f1-e750-e1da1cd23ea3"
   },
   "outputs": [
    {
     "name": "stdout",
     "output_type": "stream",
     "text": [
      "\u001b[1m1/1\u001b[0m \u001b[32m━━━━━━━━━━━━━━━━━━━━\u001b[0m\u001b[37m\u001b[0m \u001b[1m0s\u001b[0m 73ms/step\n"
     ]
    },
    {
     "data": {
      "text/plain": [
       "array([[9.8997855e-01, 2.4395902e-06, 1.8417242e-04, 2.6305972e-07,\n",
       "        1.7291821e-05, 1.9600892e-03, 2.8388551e-05, 7.7114701e-06,\n",
       "        6.2834258e-09, 7.8210300e-03]], dtype=float32)"
      ]
     },
     "execution_count": 23,
     "metadata": {},
     "output_type": "execute_result"
    }
   ],
   "source": [
    "mlpclf1.predict(X_test[:1, :])"
   ]
  },
  {
   "cell_type": "markdown",
   "id": "h1fMOc750_1h",
   "metadata": {
    "id": "h1fMOc750_1h"
   },
   "source": [
    "According to the model, with probability 99.0%, this is a zero. Indeed, the prediction is correct:"
   ]
  },
  {
   "cell_type": "code",
   "execution_count": 24,
   "id": "IsciAc_21Hm8",
   "metadata": {
    "colab": {
     "base_uri": "https://localhost:8080/"
    },
    "id": "IsciAc_21Hm8",
    "outputId": "8121b226-addb-4cf6-bb17-be4130fbbbe1"
   },
   "outputs": [
    {
     "data": {
      "text/plain": [
       "np.int64(0)"
      ]
     },
     "execution_count": 24,
     "metadata": {},
     "output_type": "execute_result"
    }
   ],
   "source": [
    "y_test[0]"
   ]
  },
  {
   "cell_type": "markdown",
   "id": "086d1d39-dba6-43cd-8f31-e5db5bfb607c",
   "metadata": {
    "id": "086d1d39-dba6-43cd-8f31-e5db5bfb607c"
   },
   "source": [
    "### Q7. Rescaling the data"
   ]
  },
  {
   "cell_type": "markdown",
   "id": "bb5d7fc6-5d5c-47b6-8f76-2d8c458ee65d",
   "metadata": {
    "id": "bb5d7fc6-5d5c-47b6-8f76-2d8c458ee65d"
   },
   "source": [
    "As a general rule, it is recommended to rescale the features to the 0-1 range. This speeds up the convergence and may improve the predictions. In this example, we can rescale the pixel intensities by dividing by 255."
   ]
  },
  {
   "cell_type": "code",
   "execution_count": 25,
   "id": "a8ff0601-1827-4632-8e88-723fe6ebda59",
   "metadata": {
    "id": "a8ff0601-1827-4632-8e88-723fe6ebda59"
   },
   "outputs": [],
   "source": [
    "X = X/255"
   ]
  },
  {
   "cell_type": "markdown",
   "id": "46842bb6-40c8-41fc-be8b-7bf33de7aa9d",
   "metadata": {
    "id": "46842bb6-40c8-41fc-be8b-7bf33de7aa9d"
   },
   "source": [
    "We have now a new features matrix, that we split exactly in the same way as we did with before (the argument `random_state=0` does the trick)."
   ]
  },
  {
   "cell_type": "code",
   "execution_count": 26,
   "id": "7bb87767-2a0b-4aaa-80b7-6ba0e9d15382",
   "metadata": {
    "id": "7bb87767-2a0b-4aaa-80b7-6ba0e9d15382"
   },
   "outputs": [],
   "source": [
    "X_train, X_test = train_test_split(X, test_size=1/7, random_state=0)"
   ]
  },
  {
   "cell_type": "markdown",
   "id": "ddec606b-2c5d-4c55-a9c9-2958378f7308",
   "metadata": {
    "id": "ddec606b-2c5d-4c55-a9c9-2958378f7308"
   },
   "source": [
    "Now, we instantiate a new model, which we train on the rescaled data. We keep `epochs=20`, even if we guess that so many epochs are not needed. The training process is not only faster, achieving accuracy 93.3% in the first epoch, but it also yields better results at the end."
   ]
  },
  {
   "cell_type": "code",
   "execution_count": 27,
   "id": "22c400ed-01b3-4bd1-a25a-f46713c0e824",
   "metadata": {
    "colab": {
     "base_uri": "https://localhost:8080/"
    },
    "id": "22c400ed-01b3-4bd1-a25a-f46713c0e824",
    "outputId": "21904665-d275-41ea-c82b-0b74270ad96c"
   },
   "outputs": [
    {
     "name": "stdout",
     "output_type": "stream",
     "text": [
      "Epoch 1/20\n",
      "\u001b[1m1875/1875\u001b[0m \u001b[32m━━━━━━━━━━━━━━━━━━━━\u001b[0m\u001b[37m\u001b[0m \u001b[1m5s\u001b[0m 2ms/step - acc: 0.7422 - loss: 0.9395 - val_acc: 0.9330 - val_loss: 0.2299\n",
      "Epoch 2/20\n",
      "\u001b[1m1875/1875\u001b[0m \u001b[32m━━━━━━━━━━━━━━━━━━━━\u001b[0m\u001b[37m\u001b[0m \u001b[1m5s\u001b[0m 3ms/step - acc: 0.9416 - loss: 0.2038 - val_acc: 0.9457 - val_loss: 0.1827\n",
      "Epoch 3/20\n",
      "\u001b[1m1875/1875\u001b[0m \u001b[32m━━━━━━━━━━━━━━━━━━━━\u001b[0m\u001b[37m\u001b[0m \u001b[1m5s\u001b[0m 3ms/step - acc: 0.9543 - loss: 0.1588 - val_acc: 0.9496 - val_loss: 0.1672\n",
      "Epoch 4/20\n",
      "\u001b[1m1875/1875\u001b[0m \u001b[32m━━━━━━━━━━━━━━━━━━━━\u001b[0m\u001b[37m\u001b[0m \u001b[1m4s\u001b[0m 2ms/step - acc: 0.9598 - loss: 0.1381 - val_acc: 0.9528 - val_loss: 0.1512\n",
      "Epoch 5/20\n",
      "\u001b[1m1875/1875\u001b[0m \u001b[32m━━━━━━━━━━━━━━━━━━━━\u001b[0m\u001b[37m\u001b[0m \u001b[1m6s\u001b[0m 3ms/step - acc: 0.9638 - loss: 0.1225 - val_acc: 0.9549 - val_loss: 0.1433\n",
      "Epoch 6/20\n",
      "\u001b[1m1875/1875\u001b[0m \u001b[32m━━━━━━━━━━━━━━━━━━━━\u001b[0m\u001b[37m\u001b[0m \u001b[1m4s\u001b[0m 2ms/step - acc: 0.9667 - loss: 0.1130 - val_acc: 0.9560 - val_loss: 0.1387\n",
      "Epoch 7/20\n",
      "\u001b[1m1875/1875\u001b[0m \u001b[32m━━━━━━━━━━━━━━━━━━━━\u001b[0m\u001b[37m\u001b[0m \u001b[1m5s\u001b[0m 2ms/step - acc: 0.9699 - loss: 0.1027 - val_acc: 0.9553 - val_loss: 0.1377\n",
      "Epoch 8/20\n",
      "\u001b[1m1875/1875\u001b[0m \u001b[32m━━━━━━━━━━━━━━━━━━━━\u001b[0m\u001b[37m\u001b[0m \u001b[1m5s\u001b[0m 3ms/step - acc: 0.9700 - loss: 0.0988 - val_acc: 0.9572 - val_loss: 0.1369\n",
      "Epoch 9/20\n",
      "\u001b[1m1875/1875\u001b[0m \u001b[32m━━━━━━━━━━━━━━━━━━━━\u001b[0m\u001b[37m\u001b[0m \u001b[1m4s\u001b[0m 2ms/step - acc: 0.9713 - loss: 0.0957 - val_acc: 0.9581 - val_loss: 0.1348\n",
      "Epoch 10/20\n",
      "\u001b[1m1875/1875\u001b[0m \u001b[32m━━━━━━━━━━━━━━━━━━━━\u001b[0m\u001b[37m\u001b[0m \u001b[1m5s\u001b[0m 3ms/step - acc: 0.9740 - loss: 0.0877 - val_acc: 0.9577 - val_loss: 0.1339\n",
      "Epoch 11/20\n",
      "\u001b[1m1875/1875\u001b[0m \u001b[32m━━━━━━━━━━━━━━━━━━━━\u001b[0m\u001b[37m\u001b[0m \u001b[1m4s\u001b[0m 2ms/step - acc: 0.9725 - loss: 0.0876 - val_acc: 0.9579 - val_loss: 0.1374\n",
      "Epoch 12/20\n",
      "\u001b[1m1875/1875\u001b[0m \u001b[32m━━━━━━━━━━━━━━━━━━━━\u001b[0m\u001b[37m\u001b[0m \u001b[1m4s\u001b[0m 2ms/step - acc: 0.9751 - loss: 0.0818 - val_acc: 0.9586 - val_loss: 0.1336\n",
      "Epoch 13/20\n",
      "\u001b[1m1875/1875\u001b[0m \u001b[32m━━━━━━━━━━━━━━━━━━━━\u001b[0m\u001b[37m\u001b[0m \u001b[1m5s\u001b[0m 3ms/step - acc: 0.9769 - loss: 0.0779 - val_acc: 0.9607 - val_loss: 0.1304\n",
      "Epoch 14/20\n",
      "\u001b[1m1875/1875\u001b[0m \u001b[32m━━━━━━━━━━━━━━━━━━━━\u001b[0m\u001b[37m\u001b[0m \u001b[1m5s\u001b[0m 2ms/step - acc: 0.9767 - loss: 0.0758 - val_acc: 0.9588 - val_loss: 0.1362\n",
      "Epoch 15/20\n",
      "\u001b[1m1875/1875\u001b[0m \u001b[32m━━━━━━━━━━━━━━━━━━━━\u001b[0m\u001b[37m\u001b[0m \u001b[1m5s\u001b[0m 3ms/step - acc: 0.9770 - loss: 0.0770 - val_acc: 0.9594 - val_loss: 0.1354\n",
      "Epoch 16/20\n",
      "\u001b[1m1875/1875\u001b[0m \u001b[32m━━━━━━━━━━━━━━━━━━━━\u001b[0m\u001b[37m\u001b[0m \u001b[1m5s\u001b[0m 3ms/step - acc: 0.9773 - loss: 0.0734 - val_acc: 0.9608 - val_loss: 0.1313\n",
      "Epoch 17/20\n",
      "\u001b[1m1875/1875\u001b[0m \u001b[32m━━━━━━━━━━━━━━━━━━━━\u001b[0m\u001b[37m\u001b[0m \u001b[1m4s\u001b[0m 2ms/step - acc: 0.9784 - loss: 0.0698 - val_acc: 0.9607 - val_loss: 0.1342\n",
      "Epoch 18/20\n",
      "\u001b[1m1875/1875\u001b[0m \u001b[32m━━━━━━━━━━━━━━━━━━━━\u001b[0m\u001b[37m\u001b[0m \u001b[1m5s\u001b[0m 3ms/step - acc: 0.9793 - loss: 0.0683 - val_acc: 0.9603 - val_loss: 0.1329\n",
      "Epoch 19/20\n",
      "\u001b[1m1875/1875\u001b[0m \u001b[32m━━━━━━━━━━━━━━━━━━━━\u001b[0m\u001b[37m\u001b[0m \u001b[1m5s\u001b[0m 2ms/step - acc: 0.9800 - loss: 0.0661 - val_acc: 0.9591 - val_loss: 0.1411\n",
      "Epoch 20/20\n",
      "\u001b[1m1875/1875\u001b[0m \u001b[32m━━━━━━━━━━━━━━━━━━━━\u001b[0m\u001b[37m\u001b[0m \u001b[1m5s\u001b[0m 2ms/step - acc: 0.9793 - loss: 0.0687 - val_acc: 0.9595 - val_loss: 0.1420\n"
     ]
    }
   ],
   "source": [
    "mlpclf2 = models.Model(input_tensor, output_tensor)\n",
    "mlpclf2.compile(optimizer='adam', loss='sparse_categorical_crossentropy', metrics=['acc'])\n",
    "mlpclf2.fit(X_train, y_train, epochs=20, validation_data=(X_test, y_test));"
   ]
  },
  {
   "cell_type": "markdown",
   "id": "wSMQIbnL2enZ",
   "metadata": {
    "id": "wSMQIbnL2enZ"
   },
   "source": [
    "### Homework"
   ]
  },
  {
   "cell_type": "markdown",
   "id": "KhpHMwIN29Ka",
   "metadata": {
    "id": "KhpHMwIN29Ka"
   },
   "source": [
    "1. At every node of every tree, the **random forest** algorithm searches for the best split using a **random subset of features**. The number of features is controlled by the parameter `max_features`. We have used the default, which is the square root of the number of columns of the feature matrix (`max_features=sqrt`). This means, in this case, 28 features. Logic tells us that, by increasing `max_features`, we will improve the accuracy, but the learning process (the fit step) will get slower. Try some variations on this, to see how it works in practice. Do you think that using the default number of features here was a good choice?\n",
    "\n",
    "2. Develop a **gradient boosting classifier** for these data, extracted from the `xgboost` class `XGBClassifier()`. Take into account that, with hundreds of columns, a gradient boosting model may be much slower to train than a random forest model with the same tree size and number of trees. A model with 100 trees and a size similar to those shown in this example can take one hour to train (less with XGBoost), though you may find a speed-up by increasing the **learning rate**.\n",
    "\n",
    "3. Develop a **logistic regression classifier** for these data. Compare it with the other models that have appeared in this example.\n",
    "\n",
    "4. Calculate a **confusion matrix** for the logistic regression model (dimension 10x10). Which is the best classified digit? Which is the main source of misclassification?\n"
   ]
  }
 ],
 "metadata": {
  "colab": {
   "include_colab_link": true,
   "provenance": []
  },
  "kernelspec": {
   "display_name": "Python [conda env:base] *",
   "language": "python",
   "name": "conda-base-py"
  },
  "language_info": {
   "codemirror_mode": {
    "name": "ipython",
    "version": 3
   },
   "file_extension": ".py",
   "mimetype": "text/x-python",
   "name": "python",
   "nbconvert_exporter": "python",
   "pygments_lexer": "ipython3",
   "version": "3.13.5"
  }
 },
 "nbformat": 4,
 "nbformat_minor": 5
}
