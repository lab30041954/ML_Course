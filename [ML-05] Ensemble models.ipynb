{
 "cells": [
  {
   "cell_type": "markdown",
   "id": "9de5f0a9-d3bb-4083-903b-792a6229e360",
   "metadata": {},
   "source": [
    "# [ML-05] Ensemble models"
   ]
  },
  {
   "cell_type": "markdown",
   "id": "94fa0382-7bf0-4c46-8b26-1ba4f0a8331d",
   "metadata": {},
   "source": [
    "## Ensemble models"
   ]
  },
  {
   "cell_type": "markdown",
   "id": "82f1c03f-caa4-4c08-9485-910e6aebde78",
   "metadata": {},
   "source": [
    "Suppose that you ask a complex question to thousands of random people, and then aggregate their answers. In many cases, you will find that this aggregate answer is better than an expert's answer. This has been called the **wisdom of the crowds**.\n",
    "\n",
    "**Ensemble learning** is based on a similar idea. If you aggregate the predictions of a group of regression or classification models, you will often get better predictions than with the best individual model. Let us be more specific: \n",
    "\n",
    "* Suppose that you have trained a few regression models, each one achieving a moderate R-squared statistic. A simple way to get better predictions could be to average the predictions of these models.\n",
    "\n",
    "* In a classification context, you would average the predicted class probabilities. This is called **soft voting**. Alternatively, you can use **hard-voting**, which consists in picking the class with more votes. This course only covers soft voting.\n",
    "\n",
    "The collection of models whose predictions are aggregated is called an **ensemble**. In scikit-learn, the subpackage `ensemble` offers plenty of choice. On top of the popularity ranking, we find random forest and gradient boosting models, both using ensembles of decision tree models."
   ]
  },
  {
   "cell_type": "markdown",
   "id": "9af1762f-2081-4fee-9a62-bbee8e102d37",
   "metadata": {},
   "source": [
    "## Random forests"
   ]
  },
  {
   "cell_type": "markdown",
   "id": "abf435cc-7f09-41aa-9411-37d41b5025ff",
   "metadata": {},
   "source": [
    "One way to get a diverse ensemble is to use the same algorithm for every predictor, but training it on different random subsets of the training set. When these subsets are extracted by means of **sampling with replacement**, the method is called **bagging** (short for bootstrap aggregating). Bagging allows training instances to be sampled several times for the same predictor.\n",
    "\n",
    "The star of the bagging ensemble methods is the **random forest** algorithm, which allows extra randomness when growing trees, by using just a random subset of the features at every split. This results in a greater tree diversity, generally yielding an overall better model. Despite its simplicity, random forest models are among the most powerful predictive models available. In general, they are trained faster and have less overfitting problems than other models.\n",
    "\n",
    "Random forests can be used for both regression and classification. In the scikit-learn subpackage `ensemble`, this is provided by the estimator classes `RandomForestRegressor()` and `RandomForestClassifier()`. The example of this lecture shows a specific application of a regression random forest model.\n",
    "\n",
    "The growth of the trees in a random forest is controlled with parameters such as `max_depth` and `max_leaf_nodes` (no defaults), as in individual tree models. You can also control the number of trees with the parameter `n_estimators` (the default is 100 trees), and the number of features that can be used at every split with the parameter `max_features` (look at the scikit-learn API Reference or use an AI assistant if you wish to play with this argument). \n",
    "\n",
    "In general, increasing the tree size or the number of trees leads to better prediction, but this may come at the price of overfitting the training data. A (usually) safe approach is to accept the default `n_estimators=100`, increasing gradually the tree size and testing overfitting at every step."
   ]
  },
  {
   "cell_type": "markdown",
   "id": "f0f248a0-3d25-49f1-a7b5-2655deda617c",
   "metadata": {},
   "source": [
    "## Gradient boosting"
   ]
  },
  {
   "cell_type": "markdown",
   "id": "a20ae4d3-fd45-4c02-9de2-c74499bd3ddb",
   "metadata": {},
   "source": [
    "The general idea of the **boosting** methodology is to train the models of the ensemble sequentially, each model trying to correct the errors of its predecessor. The star is here the **gradient boosting** algorithm, used in both regression and classification. As in the random forest algorithm, the models of the ensemble are based on decision trees, though, here, every tree model is trained on the errors made by the previous one.\n",
    "\n",
    "The prediction of the ensemble model is obtained as a weighted average. The weights decrease at every step according to a parameter called **learning rate**. With a low learning rate, the weights decrease more slowly. There is a trade-off between the learning rate and the number of trees. With a low learning rate, you will probably need a higher number of trees. Some experts recommend to set a low learning rate (in the range from 0.001 to 0.01) and aim at a high number of trees (in the range from 3,000 to 10,000), but for that you may need huge computing power, since gradient boosting becomes a slow process when the number of features gets high.\n",
    "\n",
    "In scikit-learn, gradient boosting is provided by the classes `GradientBoostingRegressor()` and `GradientBoostingClassifier()`, from the subpackage `ensemble`. The growth of the trees and the number of trees is controlled as for random forest models. \n",
    "**XGBoost** (extreme gradient boosting) is an implementation of gradient boosting designed for speed and performance. Gradient boosting optimization takes less time in `xgboost` than in scikit-learn. The defaults are `n_estimators=100`, `learning_rate=0.3` and `max_depth=6`.\n",
    "\n",
    "For many years, it has often been top-ranked in applied machine learning competitions. For Python, it is available in the package `xgboost`, which can be used as if it were a scikit-learn subpackage. It can be installed from the shell or the console, with `pip install xgboost`. The example of this lecture shows a specific application."
   ]
  },
  {
   "cell_type": "markdown",
   "id": "80b09f32-4660-4284-8c2f-99b05b632fc4",
   "metadata": {},
   "source": [
    "## Example - House sales in King County"
   ]
  },
  {
   "cell_type": "markdown",
   "id": "83e03865-c0e4-4a01-b009-d039b7bbdf3d",
   "metadata": {},
   "source": [
    "### Introduction"
   ]
  },
  {
   "cell_type": "markdown",
   "id": "7bd14e71-9f70-4dd6-bfa5-b30f1d07b463",
   "metadata": {},
   "source": [
    "This example illustrates the use of ensemble models in a regression context. We develop various models, starting with a linear regression equation, for predicting **house sale prices** in King County (Washington), which includes Seattle. King is the most populous county in Washington (population 1,931,249 in the 2010 census), and the 13th-most populous in the United States. The data include the homes sold between May 2014 and May 2015 (both included)."
   ]
  },
  {
   "cell_type": "markdown",
   "id": "cf41427f-9128-41a4-94e1-9031d3230fa3",
   "metadata": {},
   "source": [
    "### The data set"
   ]
  },
  {
   "cell_type": "markdown",
   "id": "439be173-d0a7-4ec5-90ca-42ff09111ade",
   "metadata": {},
   "source": [
    "The data come in the file `king.csv`. It contains 13 house features plus the sale price and date, along with 21,613 observations.\n",
    "\n",
    "The variables are:\n",
    "\n",
    "* `id`, an identifier of the house.\n",
    "\n",
    "* `date`, a string representing the date when the sale took place. Example: November 13th, 2014 comes as '20141013T000000'.\n",
    "\n",
    "* `zipcode`, the ZIP code of the house, with 70 different values.\n",
    "\n",
    "* `lat`, the latitude of the house.\n",
    "\n",
    "* `long`, the longitude of the house.\n",
    "\n",
    "* `bedrooms`, the number of bedrooms.\n",
    "\n",
    "* `bathrooms`, the number of bathrooms.\n",
    "\n",
    "* `sqft_above`, the square footage of the house, discounting the basement.\n",
    "\n",
    "* `sqft_basement`, the square footage of the basement.\n",
    "\n",
    "* `sqft_lot`, the square footage of the lot.\n",
    "\n",
    "* `floors`, the total floors (levels) in the house.\n",
    "\n",
    "* `waterfront`, a dummy for having a view to the waterfront.\n",
    "\n",
    "* `condition`, a 1-5 rating.\n",
    "\n",
    "* `yr_built`, the year when the house was built.\n",
    "\n",
    "* `yr_renovated`, the year when the house was renovated.\n",
    "\n",
    "* `price`, the sale price, in  US dollars.\n",
    "\n",
    "Source: Kaggle.\n"
   ]
  },
  {
   "cell_type": "markdown",
   "id": "20048396-111d-40e0-a853-7b5318576527",
   "metadata": {},
   "source": [
    "### Questions"
   ]
  },
  {
   "cell_type": "markdown",
   "id": "a5d24b4b-ea55-45dd-8bc9-2e69ce7343d4",
   "metadata": {},
   "source": [
    "Q1. How is the distribution of the sale price?\n",
    "\n",
    "Q2. Develop a linear regression model for predicting the sale price in terms of the house features, leaving aside the zipcode.\n",
    "\n",
    "Q3. Plot the actual price versus the price predicted by the model. What do you see?\n",
    "\n",
    "Q4. Add a dummy for every zipcode to the feature collection and run the analysis again. Is this better?\n",
    "\n",
    "Q5. Train a **decision tree model**, a **random forest model** and a **gradient boosting model**. What is the difference?\n",
    "\n",
    "Q6. Validate the two most promising models, among those trained, using on a **train-test split**."
   ]
  },
  {
   "cell_type": "markdown",
   "id": "f4ff0b53-3d26-43b8-9806-989b1886cdbb",
   "metadata": {},
   "source": [
    "### Importing the data"
   ]
  },
  {
   "cell_type": "markdown",
   "id": "863dc352-04d5-4882-8877-893202178f8c",
   "metadata": {},
   "source": [
    "We import the data as in the previous lectures. We take here the column `id` as the index (`index_col=0`)."
   ]
  },
  {
   "cell_type": "code",
   "execution_count": 1,
   "id": "c1a118ee-ee9d-430c-9573-afbb0f94a408",
   "metadata": {},
   "outputs": [],
   "source": [
    "import pandas as pd\n",
    "path = 'https://raw.githubusercontent.com/lab30041954/Data/main/'\n",
    "df = pd.read_csv(path + 'king.csv', index_col=0)"
   ]
  },
  {
   "cell_type": "markdown",
   "id": "b310b7fe-39cf-4d09-a946-ee8f01e2b38d",
   "metadata": {},
   "source": [
    "### Exploring the data"
   ]
  },
  {
   "cell_type": "markdown",
   "id": "b97aa07f-5548-4fe3-90bc-8cfabef81566",
   "metadata": {},
   "source": [
    "We print a report of the content of `df` with the method `.info()`. Everything comes as expected, so far. There are no missing values."
   ]
  },
  {
   "cell_type": "code",
   "execution_count": 2,
   "id": "5787db38-119b-4f3c-9e29-da49174ad651",
   "metadata": {},
   "outputs": [
    {
     "name": "stdout",
     "output_type": "stream",
     "text": [
      "<class 'pandas.core.frame.DataFrame'>\n",
      "Index: 21613 entries, 7129300520 to 1523300157\n",
      "Data columns (total 15 columns):\n",
      " #   Column         Non-Null Count  Dtype  \n",
      "---  ------         --------------  -----  \n",
      " 0   date           21613 non-null  object \n",
      " 1   zipcode        21613 non-null  int64  \n",
      " 2   lat            21613 non-null  float64\n",
      " 3   long           21613 non-null  float64\n",
      " 4   bedrooms       21613 non-null  int64  \n",
      " 5   bathrooms      21613 non-null  float64\n",
      " 6   sqft_above     21613 non-null  int64  \n",
      " 7   sqft_basement  21613 non-null  int64  \n",
      " 8   sqft_lot       21613 non-null  int64  \n",
      " 9   floors         21613 non-null  float64\n",
      " 10  waterfront     21613 non-null  int64  \n",
      " 11  condition      21613 non-null  int64  \n",
      " 12  yr_built       21613 non-null  int64  \n",
      " 13  yr_renovated   21613 non-null  int64  \n",
      " 14  price          21613 non-null  int64  \n",
      "dtypes: float64(4), int64(10), object(1)\n",
      "memory usage: 2.6+ MB\n"
     ]
    }
   ],
   "source": [
    "df.info()"
   ]
  },
  {
   "cell_type": "markdown",
   "id": "cecf3253-9998-4fb9-833e-451ee51aa878",
   "metadata": {},
   "source": [
    "We also display the first five rows:"
   ]
  },
  {
   "cell_type": "code",
   "execution_count": 3,
   "id": "6e7c007d-2b7d-4671-a5d8-4197d7b3a405",
   "metadata": {},
   "outputs": [
    {
     "data": {
      "text/html": [
       "<div>\n",
       "<style scoped>\n",
       "    .dataframe tbody tr th:only-of-type {\n",
       "        vertical-align: middle;\n",
       "    }\n",
       "\n",
       "    .dataframe tbody tr th {\n",
       "        vertical-align: top;\n",
       "    }\n",
       "\n",
       "    .dataframe thead th {\n",
       "        text-align: right;\n",
       "    }\n",
       "</style>\n",
       "<table border=\"1\" class=\"dataframe\">\n",
       "  <thead>\n",
       "    <tr style=\"text-align: right;\">\n",
       "      <th></th>\n",
       "      <th>date</th>\n",
       "      <th>zipcode</th>\n",
       "      <th>lat</th>\n",
       "      <th>long</th>\n",
       "      <th>bedrooms</th>\n",
       "      <th>bathrooms</th>\n",
       "      <th>sqft_above</th>\n",
       "      <th>sqft_basement</th>\n",
       "      <th>sqft_lot</th>\n",
       "      <th>floors</th>\n",
       "      <th>waterfront</th>\n",
       "      <th>condition</th>\n",
       "      <th>yr_built</th>\n",
       "      <th>yr_renovated</th>\n",
       "      <th>price</th>\n",
       "    </tr>\n",
       "    <tr>\n",
       "      <th>id</th>\n",
       "      <th></th>\n",
       "      <th></th>\n",
       "      <th></th>\n",
       "      <th></th>\n",
       "      <th></th>\n",
       "      <th></th>\n",
       "      <th></th>\n",
       "      <th></th>\n",
       "      <th></th>\n",
       "      <th></th>\n",
       "      <th></th>\n",
       "      <th></th>\n",
       "      <th></th>\n",
       "      <th></th>\n",
       "      <th></th>\n",
       "    </tr>\n",
       "  </thead>\n",
       "  <tbody>\n",
       "    <tr>\n",
       "      <th>7129300520</th>\n",
       "      <td>20141013T000000</td>\n",
       "      <td>98178</td>\n",
       "      <td>47.5112</td>\n",
       "      <td>-122.257</td>\n",
       "      <td>3</td>\n",
       "      <td>1.00</td>\n",
       "      <td>1180</td>\n",
       "      <td>0</td>\n",
       "      <td>5650</td>\n",
       "      <td>1.0</td>\n",
       "      <td>0</td>\n",
       "      <td>3</td>\n",
       "      <td>1955</td>\n",
       "      <td>0</td>\n",
       "      <td>221900</td>\n",
       "    </tr>\n",
       "    <tr>\n",
       "      <th>6414100192</th>\n",
       "      <td>20141209T000000</td>\n",
       "      <td>98125</td>\n",
       "      <td>47.7210</td>\n",
       "      <td>-122.319</td>\n",
       "      <td>3</td>\n",
       "      <td>2.25</td>\n",
       "      <td>2170</td>\n",
       "      <td>400</td>\n",
       "      <td>7242</td>\n",
       "      <td>2.0</td>\n",
       "      <td>0</td>\n",
       "      <td>3</td>\n",
       "      <td>1951</td>\n",
       "      <td>1991</td>\n",
       "      <td>538000</td>\n",
       "    </tr>\n",
       "    <tr>\n",
       "      <th>5631500400</th>\n",
       "      <td>20150225T000000</td>\n",
       "      <td>98028</td>\n",
       "      <td>47.7379</td>\n",
       "      <td>-122.233</td>\n",
       "      <td>2</td>\n",
       "      <td>1.00</td>\n",
       "      <td>770</td>\n",
       "      <td>0</td>\n",
       "      <td>10000</td>\n",
       "      <td>1.0</td>\n",
       "      <td>0</td>\n",
       "      <td>3</td>\n",
       "      <td>1933</td>\n",
       "      <td>0</td>\n",
       "      <td>180000</td>\n",
       "    </tr>\n",
       "    <tr>\n",
       "      <th>2487200875</th>\n",
       "      <td>20141209T000000</td>\n",
       "      <td>98136</td>\n",
       "      <td>47.5208</td>\n",
       "      <td>-122.393</td>\n",
       "      <td>4</td>\n",
       "      <td>3.00</td>\n",
       "      <td>1050</td>\n",
       "      <td>910</td>\n",
       "      <td>5000</td>\n",
       "      <td>1.0</td>\n",
       "      <td>0</td>\n",
       "      <td>5</td>\n",
       "      <td>1965</td>\n",
       "      <td>0</td>\n",
       "      <td>604000</td>\n",
       "    </tr>\n",
       "    <tr>\n",
       "      <th>1954400510</th>\n",
       "      <td>20150218T000000</td>\n",
       "      <td>98074</td>\n",
       "      <td>47.6168</td>\n",
       "      <td>-122.045</td>\n",
       "      <td>3</td>\n",
       "      <td>2.00</td>\n",
       "      <td>1680</td>\n",
       "      <td>0</td>\n",
       "      <td>8080</td>\n",
       "      <td>1.0</td>\n",
       "      <td>0</td>\n",
       "      <td>3</td>\n",
       "      <td>1987</td>\n",
       "      <td>0</td>\n",
       "      <td>510000</td>\n",
       "    </tr>\n",
       "  </tbody>\n",
       "</table>\n",
       "</div>"
      ],
      "text/plain": [
       "                       date  zipcode      lat     long  bedrooms  bathrooms  \\\n",
       "id                                                                            \n",
       "7129300520  20141013T000000    98178  47.5112 -122.257         3       1.00   \n",
       "6414100192  20141209T000000    98125  47.7210 -122.319         3       2.25   \n",
       "5631500400  20150225T000000    98028  47.7379 -122.233         2       1.00   \n",
       "2487200875  20141209T000000    98136  47.5208 -122.393         4       3.00   \n",
       "1954400510  20150218T000000    98074  47.6168 -122.045         3       2.00   \n",
       "\n",
       "            sqft_above  sqft_basement  sqft_lot  floors  waterfront  \\\n",
       "id                                                                    \n",
       "7129300520        1180              0      5650     1.0           0   \n",
       "6414100192        2170            400      7242     2.0           0   \n",
       "5631500400         770              0     10000     1.0           0   \n",
       "2487200875        1050            910      5000     1.0           0   \n",
       "1954400510        1680              0      8080     1.0           0   \n",
       "\n",
       "            condition  yr_built  yr_renovated   price  \n",
       "id                                                     \n",
       "7129300520          3      1955             0  221900  \n",
       "6414100192          3      1951          1991  538000  \n",
       "5631500400          3      1933             0  180000  \n",
       "2487200875          5      1965             0  604000  \n",
       "1954400510          3      1987             0  510000  "
      ]
     },
     "execution_count": 3,
     "metadata": {},
     "output_type": "execute_result"
    }
   ],
   "source": [
    "df.head()"
   ]
  },
  {
   "cell_type": "markdown",
   "id": "9c46ad7d-691e-43d2-a818-8bda28894779",
   "metadata": {},
   "source": [
    "We rescale the sale price to the thousands, to have simpler numbers."
   ]
  },
  {
   "cell_type": "code",
   "execution_count": 4,
   "id": "f7b35c9d-911b-436a-a53c-9078a0c87c37",
   "metadata": {},
   "outputs": [],
   "source": [
    "df['price'] = df['price']/1000"
   ]
  },
  {
   "cell_type": "markdown",
   "id": "cd57b1fb-1141-4e4f-b25d-858f874dc7e6",
   "metadata": {},
   "source": [
    "### Q1. Distribution of the sale price"
   ]
  },
  {
   "cell_type": "markdown",
   "id": "7baf5fe4-26b9-44dc-bc4d-182a3764cc8b",
   "metadata": {},
   "source": [
    "The distribution of a numeric series can be quickly explored in two ways. First, the method `.describe()` extracts a statistical summary. Here, the maximum price suggests that we may have a long right tail, which can be expected in real estate prices. This is a trait which statisticians call positive **skewness**."
   ]
  },
  {
   "cell_type": "code",
   "execution_count": 5,
   "id": "5b5346a8-70b3-4991-b46b-dc2a47c6da66",
   "metadata": {},
   "outputs": [
    {
     "data": {
      "text/plain": [
       "count    21613.000000\n",
       "mean       540.088142\n",
       "std        367.127196\n",
       "min         75.000000\n",
       "25%        321.950000\n",
       "50%        450.000000\n",
       "75%        645.000000\n",
       "max       7700.000000\n",
       "Name: price, dtype: float64"
      ]
     },
     "execution_count": 5,
     "metadata": {},
     "output_type": "execute_result"
    }
   ],
   "source": [
    "df['price'].describe()"
   ]
  },
  {
   "cell_type": "markdown",
   "id": "dc6193ec-f007-46cc-8a53-95b690a64e37",
   "metadata": {},
   "source": [
    "A **histogram** confirms our guess about the skewness of the distribution. Though it can be obtained directly in Pandas, in a simpler way, we use `matplotlib.pyplot`, to maintain the uniformity along this course. \n",
    "\n",
    "The size has been chosen for a good fit in a webpage. The argument `edgecolor='white'` creates the white lines separating the bars, which improves the visualization. The default of the function `hist()` takes the same value for both parameters `color` and `edgecolor`. The final semicolon stops some irrelevant output to be printed."
   ]
  },
  {
   "cell_type": "code",
   "execution_count": 6,
   "id": "c136da38-ef58-470b-b33d-1be1f9d5c921",
   "metadata": {},
   "outputs": [
    {
     "data": {
      "image/png": "[encoded data removed]",
      "text/plain": [
       "<Figure size 700x500 with 1 Axes>"
      ]
     },
     "metadata": {},
     "output_type": "display_data"
    }
   ],
   "source": [
    "from matplotlib import pyplot as plt\n",
    "plt.figure(figsize=(7,5))\n",
    "plt.title('Figure 1. Actual price')\n",
    "plt.hist(df['price'], color='gray', edgecolor='white')\n",
    "plt.xlabel('Sale price (thousands)');"
   ]
  },
  {
   "cell_type": "markdown",
   "id": "f9b9b366-b13b-4494-a1ad-598605394d78",
   "metadata": {},
   "source": [
    "### Q2. Linear regression equation"
   ]
  },
  {
   "cell_type": "markdown",
   "id": "9ab717d6-f5d8-4c30-8d4f-32dc8a1c6908",
   "metadata": {},
   "source": [
    "We create a **target vector** and a **features matrix**. The target vector is the last column (`price`), and the features matrix contains the other columns minus `date` and `zipcode`."
   ]
  },
  {
   "cell_type": "code",
   "execution_count": 7,
   "id": "b0a57fa3-779d-4183-9a78-d3814b305873",
   "metadata": {},
   "outputs": [],
   "source": [
    "y = df['price']\n",
    "X = df.drop(columns=['date', 'zipcode', 'price'])"
   ]
  },
  {
   "cell_type": "markdown",
   "id": "f77c0523-94ee-49a9-9ce4-6cf3a91ad4cf",
   "metadata": {},
   "source": [
    "For this model, wee import the **estimator class** `LinearRegression()` from the subpackage `linear_model`. "
   ]
  },
  {
   "cell_type": "code",
   "execution_count": 8,
   "id": "6c3bbfd2-ce53-4acf-ba93-b293522df82e",
   "metadata": {},
   "outputs": [],
   "source": [
    "from sklearn.linear_model import LinearRegression"
   ]
  },
  {
   "cell_type": "markdown",
   "id": "f7a0c58c-4b67-4509-8b82-996496d0a036",
   "metadata": {},
   "source": [
    "We create an instance of this class, calling it `lin_reg`, to remind us of the type of model and the job it does."
   ]
  },
  {
   "cell_type": "code",
   "execution_count": 9,
   "id": "eda1d52e-5854-4cab-ba98-538bb9d0a75c",
   "metadata": {},
   "outputs": [],
   "source": [
    "lin_reg = LinearRegression()"
   ]
  },
  {
   "cell_type": "markdown",
   "id": "455ca9df-0922-4564-9307-f3cb46b0e470",
   "metadata": {},
   "source": [
    "Note that we have left the parenthesis empty here. So, we accept the **default parameter values**, which means, for linear regression, that **loss function** is the **mean squared error** (MSE). In other words, this is common linear regression (least squares), the same that you can run in an Excel spreadsheet. Then, the method `.fit()` calculates the optimal equation, that is, the parameter values for which the MSE is minimum. "
   ]
  },
  {
   "cell_type": "code",
   "execution_count": 10,
   "id": "e68a4661-7dcb-448c-ad07-19eadc0de58a",
   "metadata": {},
   "outputs": [
    {
     "data": {
      "text/html": [
       "<style>#sk-container-id-1 {\n",
       "  /* Definition of color scheme common for light and dark mode */\n",
       "  --sklearn-color-text: black;\n",
       "  --sklearn-color-line: gray;\n",
       "  /* Definition of color scheme for unfitted estimators */\n",
       "  --sklearn-color-unfitted-level-0: #fff5e6;\n",
       "  --sklearn-color-unfitted-level-1: #f6e4d2;\n",
       "  --sklearn-color-unfitted-level-2: #ffe0b3;\n",
       "  --sklearn-color-unfitted-level-3: chocolate;\n",
       "  /* Definition of color scheme for fitted estimators */\n",
       "  --sklearn-color-fitted-level-0: #f0f8ff;\n",
       "  --sklearn-color-fitted-level-1: #d4ebff;\n",
       "  --sklearn-color-fitted-level-2: #b3dbfd;\n",
       "  --sklearn-color-fitted-level-3: cornflowerblue;\n",
       "\n",
       "  /* Specific color for light theme */\n",
       "  --sklearn-color-text-on-default-background: var(--sg-text-color, var(--theme-code-foreground, var(--jp-content-font-color1, black)));\n",
       "  --sklearn-color-background: var(--sg-background-color, var(--theme-background, var(--jp-layout-color0, white)));\n",
       "  --sklearn-color-border-box: var(--sg-text-color, var(--theme-code-foreground, var(--jp-content-font-color1, black)));\n",
       "  --sklearn-color-icon: #696969;\n",
       "\n",
       "  @media (prefers-color-scheme: dark) {\n",
       "    /* Redefinition of color scheme for dark theme */\n",
       "    --sklearn-color-text-on-default-background: var(--sg-text-color, var(--theme-code-foreground, var(--jp-content-font-color1, white)));\n",
       "    --sklearn-color-background: var(--sg-background-color, var(--theme-background, var(--jp-layout-color0, #111)));\n",
       "    --sklearn-color-border-box: var(--sg-text-color, var(--theme-code-foreground, var(--jp-content-font-color1, white)));\n",
       "    --sklearn-color-icon: #878787;\n",
       "  }\n",
       "}\n",
       "\n",
       "#sk-container-id-1 {\n",
       "  color: var(--sklearn-color-text);\n",
       "}\n",
       "\n",
       "#sk-container-id-1 pre {\n",
       "  padding: 0;\n",
       "}\n",
       "\n",
       "#sk-container-id-1 input.sk-hidden--visually {\n",
       "  border: 0;\n",
       "  clip: rect(1px 1px 1px 1px);\n",
       "  clip: rect(1px, 1px, 1px, 1px);\n",
       "  height: 1px;\n",
       "  margin: -1px;\n",
       "  overflow: hidden;\n",
       "  padding: 0;\n",
       "  position: absolute;\n",
       "  width: 1px;\n",
       "}\n",
       "\n",
       "#sk-container-id-1 div.sk-dashed-wrapped {\n",
       "  border: 1px dashed var(--sklearn-color-line);\n",
       "  margin: 0 0.4em 0.5em 0.4em;\n",
       "  box-sizing: border-box;\n",
       "  padding-bottom: 0.4em;\n",
       "  background-color: var(--sklearn-color-background);\n",
       "}\n",
       "\n",
       "#sk-container-id-1 div.sk-container {\n",
       "  /* jupyter's `normalize.less` sets `[hidden] { display: none; }`\n",
       "     but bootstrap.min.css set `[hidden] { display: none !important; }`\n",
       "     so we also need the `!important` here to be able to override the\n",
       "     default hidden behavior on the sphinx rendered scikit-learn.org.\n",
       "     See: https://github.com/scikit-learn/scikit-learn/issues/21755 */\n",
       "  display: inline-block !important;\n",
       "  position: relative;\n",
       "}\n",
       "\n",
       "#sk-container-id-1 div.sk-text-repr-fallback {\n",
       "  display: none;\n",
       "}\n",
       "\n",
       "div.sk-parallel-item,\n",
       "div.sk-serial,\n",
       "div.sk-item {\n",
       "  /* draw centered vertical line to link estimators */\n",
       "  background-image: linear-gradient(var(--sklearn-color-text-on-default-background), var(--sklearn-color-text-on-default-background));\n",
       "  background-size: 2px 100%;\n",
       "  background-repeat: no-repeat;\n",
       "  background-position: center center;\n",
       "}\n",
       "\n",
       "/* Parallel-specific style estimator block */\n",
       "\n",
       "#sk-container-id-1 div.sk-parallel-item::after {\n",
       "  content: \"\";\n",
       "  width: 100%;\n",
       "  border-bottom: 2px solid var(--sklearn-color-text-on-default-background);\n",
       "  flex-grow: 1;\n",
       "}\n",
       "\n",
       "#sk-container-id-1 div.sk-parallel {\n",
       "  display: flex;\n",
       "  align-items: stretch;\n",
       "  justify-content: center;\n",
       "  background-color: var(--sklearn-color-background);\n",
       "  position: relative;\n",
       "}\n",
       "\n",
       "#sk-container-id-1 div.sk-parallel-item {\n",
       "  display: flex;\n",
       "  flex-direction: column;\n",
       "}\n",
       "\n",
       "#sk-container-id-1 div.sk-parallel-item:first-child::after {\n",
       "  align-self: flex-end;\n",
       "  width: 50%;\n",
       "}\n",
       "\n",
       "#sk-container-id-1 div.sk-parallel-item:last-child::after {\n",
       "  align-self: flex-start;\n",
       "  width: 50%;\n",
       "}\n",
       "\n",
       "#sk-container-id-1 div.sk-parallel-item:only-child::after {\n",
       "  width: 0;\n",
       "}\n",
       "\n",
       "/* Serial-specific style estimator block */\n",
       "\n",
       "#sk-container-id-1 div.sk-serial {\n",
       "  display: flex;\n",
       "  flex-direction: column;\n",
       "  align-items: center;\n",
       "  background-color: var(--sklearn-color-background);\n",
       "  padding-right: 1em;\n",
       "  padding-left: 1em;\n",
       "}\n",
       "\n",
       "\n",
       "/* Toggleable style: style used for estimator/Pipeline/ColumnTransformer box that is\n",
       "clickable and can be expanded/collapsed.\n",
       "- Pipeline and ColumnTransformer use this feature and define the default style\n",
       "- Estimators will overwrite some part of the style using the `sk-estimator` class\n",
       "*/\n",
       "\n",
       "/* Pipeline and ColumnTransformer style (default) */\n",
       "\n",
       "#sk-container-id-1 div.sk-toggleable {\n",
       "  /* Default theme specific background. It is overwritten whether we have a\n",
       "  specific estimator or a Pipeline/ColumnTransformer */\n",
       "  background-color: var(--sklearn-color-background);\n",
       "}\n",
       "\n",
       "/* Toggleable label */\n",
       "#sk-container-id-1 label.sk-toggleable__label {\n",
       "  cursor: pointer;\n",
       "  display: block;\n",
       "  width: 100%;\n",
       "  margin-bottom: 0;\n",
       "  padding: 0.5em;\n",
       "  box-sizing: border-box;\n",
       "  text-align: center;\n",
       "}\n",
       "\n",
       "#sk-container-id-1 label.sk-toggleable__label-arrow:before {\n",
       "  /* Arrow on the left of the label */\n",
       "  content: \"▸\";\n",
       "  float: left;\n",
       "  margin-right: 0.25em;\n",
       "  color: var(--sklearn-color-icon);\n",
       "}\n",
       "\n",
       "#sk-container-id-1 label.sk-toggleable__label-arrow:hover:before {\n",
       "  color: var(--sklearn-color-text);\n",
       "}\n",
       "\n",
       "/* Toggleable content - dropdown */\n",
       "\n",
       "#sk-container-id-1 div.sk-toggleable__content {\n",
       "  max-height: 0;\n",
       "  max-width: 0;\n",
       "  overflow: hidden;\n",
       "  text-align: left;\n",
       "  /* unfitted */\n",
       "  background-color: var(--sklearn-color-unfitted-level-0);\n",
       "}\n",
       "\n",
       "#sk-container-id-1 div.sk-toggleable__content.fitted {\n",
       "  /* fitted */\n",
       "  background-color: var(--sklearn-color-fitted-level-0);\n",
       "}\n",
       "\n",
       "#sk-container-id-1 div.sk-toggleable__content pre {\n",
       "  margin: 0.2em;\n",
       "  border-radius: 0.25em;\n",
       "  color: var(--sklearn-color-text);\n",
       "  /* unfitted */\n",
       "  background-color: var(--sklearn-color-unfitted-level-0);\n",
       "}\n",
       "\n",
       "#sk-container-id-1 div.sk-toggleable__content.fitted pre {\n",
       "  /* unfitted */\n",
       "  background-color: var(--sklearn-color-fitted-level-0);\n",
       "}\n",
       "\n",
       "#sk-container-id-1 input.sk-toggleable__control:checked~div.sk-toggleable__content {\n",
       "  /* Expand drop-down */\n",
       "  max-height: 200px;\n",
       "  max-width: 100%;\n",
       "  overflow: auto;\n",
       "}\n",
       "\n",
       "#sk-container-id-1 input.sk-toggleable__control:checked~label.sk-toggleable__label-arrow:before {\n",
       "  content: \"▾\";\n",
       "}\n",
       "\n",
       "/* Pipeline/ColumnTransformer-specific style */\n",
       "\n",
       "#sk-container-id-1 div.sk-label input.sk-toggleable__control:checked~label.sk-toggleable__label {\n",
       "  color: var(--sklearn-color-text);\n",
       "  background-color: var(--sklearn-color-unfitted-level-2);\n",
       "}\n",
       "\n",
       "#sk-container-id-1 div.sk-label.fitted input.sk-toggleable__control:checked~label.sk-toggleable__label {\n",
       "  background-color: var(--sklearn-color-fitted-level-2);\n",
       "}\n",
       "\n",
       "/* Estimator-specific style */\n",
       "\n",
       "/* Colorize estimator box */\n",
       "#sk-container-id-1 div.sk-estimator input.sk-toggleable__control:checked~label.sk-toggleable__label {\n",
       "  /* unfitted */\n",
       "  background-color: var(--sklearn-color-unfitted-level-2);\n",
       "}\n",
       "\n",
       "#sk-container-id-1 div.sk-estimator.fitted input.sk-toggleable__control:checked~label.sk-toggleable__label {\n",
       "  /* fitted */\n",
       "  background-color: var(--sklearn-color-fitted-level-2);\n",
       "}\n",
       "\n",
       "#sk-container-id-1 div.sk-label label.sk-toggleable__label,\n",
       "#sk-container-id-1 div.sk-label label {\n",
       "  /* The background is the default theme color */\n",
       "  color: var(--sklearn-color-text-on-default-background);\n",
       "}\n",
       "\n",
       "/* On hover, darken the color of the background */\n",
       "#sk-container-id-1 div.sk-label:hover label.sk-toggleable__label {\n",
       "  color: var(--sklearn-color-text);\n",
       "  background-color: var(--sklearn-color-unfitted-level-2);\n",
       "}\n",
       "\n",
       "/* Label box, darken color on hover, fitted */\n",
       "#sk-container-id-1 div.sk-label.fitted:hover label.sk-toggleable__label.fitted {\n",
       "  color: var(--sklearn-color-text);\n",
       "  background-color: var(--sklearn-color-fitted-level-2);\n",
       "}\n",
       "\n",
       "/* Estimator label */\n",
       "\n",
       "#sk-container-id-1 div.sk-label label {\n",
       "  font-family: monospace;\n",
       "  font-weight: bold;\n",
       "  display: inline-block;\n",
       "  line-height: 1.2em;\n",
       "}\n",
       "\n",
       "#sk-container-id-1 div.sk-label-container {\n",
       "  text-align: center;\n",
       "}\n",
       "\n",
       "/* Estimator-specific */\n",
       "#sk-container-id-1 div.sk-estimator {\n",
       "  font-family: monospace;\n",
       "  border: 1px dotted var(--sklearn-color-border-box);\n",
       "  border-radius: 0.25em;\n",
       "  box-sizing: border-box;\n",
       "  margin-bottom: 0.5em;\n",
       "  /* unfitted */\n",
       "  background-color: var(--sklearn-color-unfitted-level-0);\n",
       "}\n",
       "\n",
       "#sk-container-id-1 div.sk-estimator.fitted {\n",
       "  /* fitted */\n",
       "  background-color: var(--sklearn-color-fitted-level-0);\n",
       "}\n",
       "\n",
       "/* on hover */\n",
       "#sk-container-id-1 div.sk-estimator:hover {\n",
       "  /* unfitted */\n",
       "  background-color: var(--sklearn-color-unfitted-level-2);\n",
       "}\n",
       "\n",
       "#sk-container-id-1 div.sk-estimator.fitted:hover {\n",
       "  /* fitted */\n",
       "  background-color: var(--sklearn-color-fitted-level-2);\n",
       "}\n",
       "\n",
       "/* Specification for estimator info (e.g. \"i\" and \"?\") */\n",
       "\n",
       "/* Common style for \"i\" and \"?\" */\n",
       "\n",
       ".sk-estimator-doc-link,\n",
       "a:link.sk-estimator-doc-link,\n",
       "a:visited.sk-estimator-doc-link {\n",
       "  float: right;\n",
       "  font-size: smaller;\n",
       "  line-height: 1em;\n",
       "  font-family: monospace;\n",
       "  background-color: var(--sklearn-color-background);\n",
       "  border-radius: 1em;\n",
       "  height: 1em;\n",
       "  width: 1em;\n",
       "  text-decoration: none !important;\n",
       "  margin-left: 1ex;\n",
       "  /* unfitted */\n",
       "  border: var(--sklearn-color-unfitted-level-1) 1pt solid;\n",
       "  color: var(--sklearn-color-unfitted-level-1);\n",
       "}\n",
       "\n",
       ".sk-estimator-doc-link.fitted,\n",
       "a:link.sk-estimator-doc-link.fitted,\n",
       "a:visited.sk-estimator-doc-link.fitted {\n",
       "  /* fitted */\n",
       "  border: var(--sklearn-color-fitted-level-1) 1pt solid;\n",
       "  color: var(--sklearn-color-fitted-level-1);\n",
       "}\n",
       "\n",
       "/* On hover */\n",
       "div.sk-estimator:hover .sk-estimator-doc-link:hover,\n",
       ".sk-estimator-doc-link:hover,\n",
       "div.sk-label-container:hover .sk-estimator-doc-link:hover,\n",
       ".sk-estimator-doc-link:hover {\n",
       "  /* unfitted */\n",
       "  background-color: var(--sklearn-color-unfitted-level-3);\n",
       "  color: var(--sklearn-color-background);\n",
       "  text-decoration: none;\n",
       "}\n",
       "\n",
       "div.sk-estimator.fitted:hover .sk-estimator-doc-link.fitted:hover,\n",
       ".sk-estimator-doc-link.fitted:hover,\n",
       "div.sk-label-container:hover .sk-estimator-doc-link.fitted:hover,\n",
       ".sk-estimator-doc-link.fitted:hover {\n",
       "  /* fitted */\n",
       "  background-color: var(--sklearn-color-fitted-level-3);\n",
       "  color: var(--sklearn-color-background);\n",
       "  text-decoration: none;\n",
       "}\n",
       "\n",
       "/* Span, style for the box shown on hovering the info icon */\n",
       ".sk-estimator-doc-link span {\n",
       "  display: none;\n",
       "  z-index: 9999;\n",
       "  position: relative;\n",
       "  font-weight: normal;\n",
       "  right: .2ex;\n",
       "  padding: .5ex;\n",
       "  margin: .5ex;\n",
       "  width: min-content;\n",
       "  min-width: 20ex;\n",
       "  max-width: 50ex;\n",
       "  color: var(--sklearn-color-text);\n",
       "  box-shadow: 2pt 2pt 4pt #999;\n",
       "  /* unfitted */\n",
       "  background: var(--sklearn-color-unfitted-level-0);\n",
       "  border: .5pt solid var(--sklearn-color-unfitted-level-3);\n",
       "}\n",
       "\n",
       ".sk-estimator-doc-link.fitted span {\n",
       "  /* fitted */\n",
       "  background: var(--sklearn-color-fitted-level-0);\n",
       "  border: var(--sklearn-color-fitted-level-3);\n",
       "}\n",
       "\n",
       ".sk-estimator-doc-link:hover span {\n",
       "  display: block;\n",
       "}\n",
       "\n",
       "/* \"?\"-specific style due to the `<a>` HTML tag */\n",
       "\n",
       "#sk-container-id-1 a.estimator_doc_link {\n",
       "  float: right;\n",
       "  font-size: 1rem;\n",
       "  line-height: 1em;\n",
       "  font-family: monospace;\n",
       "  background-color: var(--sklearn-color-background);\n",
       "  border-radius: 1rem;\n",
       "  height: 1rem;\n",
       "  width: 1rem;\n",
       "  text-decoration: none;\n",
       "  /* unfitted */\n",
       "  color: var(--sklearn-color-unfitted-level-1);\n",
       "  border: var(--sklearn-color-unfitted-level-1) 1pt solid;\n",
       "}\n",
       "\n",
       "#sk-container-id-1 a.estimator_doc_link.fitted {\n",
       "  /* fitted */\n",
       "  border: var(--sklearn-color-fitted-level-1) 1pt solid;\n",
       "  color: var(--sklearn-color-fitted-level-1);\n",
       "}\n",
       "\n",
       "/* On hover */\n",
       "#sk-container-id-1 a.estimator_doc_link:hover {\n",
       "  /* unfitted */\n",
       "  background-color: var(--sklearn-color-unfitted-level-3);\n",
       "  color: var(--sklearn-color-background);\n",
       "  text-decoration: none;\n",
       "}\n",
       "\n",
       "#sk-container-id-1 a.estimator_doc_link.fitted:hover {\n",
       "  /* fitted */\n",
       "  background-color: var(--sklearn-color-fitted-level-3);\n",
       "}\n",
       "</style><div id=\"sk-container-id-1\" class=\"sk-top-container\"><div class=\"sk-text-repr-fallback\"><pre>LinearRegression()</pre><b>In a Jupyter environment, please rerun this cell to show the HTML representation or trust the notebook. <br />On GitHub, the HTML representation is unable to render, please try loading this page with nbviewer.org.</b></div><div class=\"sk-container\" hidden><div class=\"sk-item\"><div class=\"sk-estimator fitted sk-toggleable\"><input class=\"sk-toggleable__control sk-hidden--visually\" id=\"sk-estimator-id-1\" type=\"checkbox\" checked><label for=\"sk-estimator-id-1\" class=\"sk-toggleable__label fitted sk-toggleable__label-arrow fitted\">&nbsp;&nbsp;LinearRegression<a class=\"sk-estimator-doc-link fitted\" rel=\"noreferrer\" target=\"_blank\" href=\"https://scikit-learn.org/1.5/modules/generated/sklearn.linear_model.LinearRegression.html\">?<span>Documentation for LinearRegression</span></a><span class=\"sk-estimator-doc-link fitted\">i<span>Fitted</span></span></label><div class=\"sk-toggleable__content fitted\"><pre>LinearRegression()</pre></div> </div></div></div></div>"
      ],
      "text/plain": [
       "LinearRegression()"
      ]
     },
     "execution_count": 10,
     "metadata": {},
     "output_type": "execute_result"
    }
   ],
   "source": [
    "lin_reg.fit(X, y)"
   ]
  },
  {
   "cell_type": "markdown",
   "id": "edba7547-8460-4123-ac22-e1357729ca37",
   "metadata": {},
   "source": [
    "The predicted prices for the houses included in the training data set are then calculated with the method `.predict()`. Note that, for regression, we don't have predicted probabilities, we get the predicted value in a direct way."
   ]
  },
  {
   "cell_type": "code",
   "execution_count": 11,
   "id": "2b09eaa4-4e37-414d-92c8-b38959a00ee6",
   "metadata": {},
   "outputs": [],
   "source": [
    "y_pred = lin_reg.predict(X)"
   ]
  },
  {
   "cell_type": "markdown",
   "id": "2b32aef8-5195-4e84-a5eb-e1d2c8b3d51d",
   "metadata": {},
   "source": [
    "Finally, we obtain a preliminary evaluation of the model with the method `.score()`."
   ]
  },
  {
   "cell_type": "code",
   "execution_count": 12,
   "id": "d969a561-b901-451e-a2c7-46703ec71592",
   "metadata": {},
   "outputs": [
    {
     "data": {
      "text/plain": [
       "0.646"
      ]
     },
     "execution_count": 12,
     "metadata": {},
     "output_type": "execute_result"
    }
   ],
   "source": [
    "round(lin_reg.score(X, y), 3)"
   ]
  },
  {
   "cell_type": "markdown",
   "id": "5aeb1dac-9751-42e5-b2d3-e20e2c99d74b",
   "metadata": {},
   "source": [
    "For regression models, this score of 0.646 is the **R-squared** value, which in common linear regression, we can interpret it as a **squared correlation**. More specifically, the correlation between the actual prices (`y`) and the predicted prices (`y_pred`) is the square root, 0.804."
   ]
  },
  {
   "cell_type": "markdown",
   "id": "a36f7334-ec6b-4774-b41b-0a5816e660bb",
   "metadata": {},
   "source": [
    "### Q3. Plot the actual price versus the price predicted by your model"
   ]
  },
  {
   "cell_type": "markdown",
   "id": "8f4e2e19-cfc2-441a-a504-98aa6d098895",
   "metadata": {},
   "source": [
    "We use again `matplolibt.pyplot` to create the **scatter plot**. The argument `s=2` controls the size of the dots. The choice of this size depends on the number of dots."
   ]
  },
  {
   "cell_type": "code",
   "execution_count": 13,
   "id": "d37bf95f-7a2f-4077-a58e-d9072a6db0d1",
   "metadata": {},
   "outputs": [
    {
     "data": {
      "image/png": "[encoded data removed]",
      "text/plain": [
       "<Figure size 500x500 with 1 Axes>"
      ]
     },
     "metadata": {},
     "output_type": "display_data"
    }
   ],
   "source": [
    "plt.figure(figsize=(5,5))\n",
    "plt.title('Figure 2. Actual price vs predicted price')\n",
    "plt.scatter(x=y_pred, y=y, color='black', s=1)\n",
    "plt.xlabel('Predicted price (thousands)')\n",
    "plt.ylabel('Actual price (thousands)');"
   ]
  },
  {
   "cell_type": "markdown",
   "id": "7576c1bc-71dc-4602-8f44-bc4513ec5ded",
   "metadata": {},
   "source": [
    "This type of visualization helps to understand the data, and to detect undesired effects. In this case, we see that, in spite of the strong correlation, the prediction error can be big. This is not a contradiction, since the correlation only ensures an average predictive performance, and we have more than 20,000 data units.\n",
    "\n",
    "Paying a bit more of attention, we can see that the biggest errors (in absolute value) happen in the most expensive houses. This is also a well known fact: the bigger what you measure, the bigger the measurement errors. Another issue is that some of the predicted prices are negative. We can count them:"
   ]
  },
  {
   "cell_type": "code",
   "execution_count": 14,
   "id": "8ef7d922-f607-461f-90d4-e7ac181965fe",
   "metadata": {},
   "outputs": [
    {
     "data": {
      "text/plain": [
       "38"
      ]
     },
     "execution_count": 14,
     "metadata": {},
     "output_type": "execute_result"
    }
   ],
   "source": [
    "(y_pred < 0).sum()"
   ]
  },
  {
   "cell_type": "markdown",
   "id": "5e520494-37a4-4604-bf87-2aed851a01df",
   "metadata": {},
   "source": [
    "This may look pathological to you, but it is not rare in this type of data. Since the average error is null (this is a property of least \n",
    "squares), we have, more or less, the same amount of positive and negative errors. When a cheap house has a negative and substantial error, the predicted price can be negative. A different thing is the isolated point that we observe on the left of the two above figures. Something is wrong with that house."
   ]
  },
  {
   "cell_type": "markdown",
   "id": "1b85be1d-9a05-410d-9306-2c320a10e8cf",
   "metadata": {},
   "source": [
    "### Q4. Dummies for the zipcodes"
   ]
  },
  {
   "cell_type": "markdown",
   "id": "b6ff6b28-cb34-4ae4-ac6b-32a741062cfb",
   "metadata": {},
   "source": [
    "Since we are going to add the zipcode to the equation, we drop the longitude and the latitude, packing the remaining features in a matrix:"
   ]
  },
  {
   "cell_type": "code",
   "execution_count": 15,
   "id": "0dc666b4-6185-496a-9366-96c58e5f783c",
   "metadata": {},
   "outputs": [],
   "source": [
    "X1 = df.drop(columns=['date', 'zipcode', 'lat', 'long', 'price'])"
   ]
  },
  {
   "cell_type": "markdown",
   "id": "71324a16-b6bf-4d3f-91a7-65a3129018e2",
   "metadata": {},
   "source": [
    "To create the dummies, we use the Pandas function `get_dummies()` (not the unique way), which returns the dummies as the columns of a data frame. The data type is `bool`."
   ]
  },
  {
   "cell_type": "code",
   "execution_count": 16,
   "id": "eab866c7-013d-40fb-835a-a9d2c79d9bac",
   "metadata": {},
   "outputs": [],
   "source": [
    "X2 = pd.get_dummies(df['zipcode'])"
   ]
  },
  {
   "cell_type": "markdown",
   "id": "259b782c-8fa6-4d95-aa4f-3838ea50f0ce",
   "metadata": {},
   "source": [
    "Now, `X2` has 70 columns (as many as different zipcodes in the data set). The column names are the zipcode values. With `get_dummies()`, the dummy columns get names, so you know what is what. The drawback is that, when a categorical feature is numeric, the column names are numbers, which is not accepted by scikit-learn. We will handle this below."
   ]
  },
  {
   "cell_type": "code",
   "execution_count": 17,
   "id": "c094a6ee-9e4a-4c51-b2ee-fc839ea94b19",
   "metadata": {},
   "outputs": [
    {
     "data": {
      "text/html": [
       "<div>\n",
       "<style scoped>\n",
       "    .dataframe tbody tr th:only-of-type {\n",
       "        vertical-align: middle;\n",
       "    }\n",
       "\n",
       "    .dataframe tbody tr th {\n",
       "        vertical-align: top;\n",
       "    }\n",
       "\n",
       "    .dataframe thead th {\n",
       "        text-align: right;\n",
       "    }\n",
       "</style>\n",
       "<table border=\"1\" class=\"dataframe\">\n",
       "  <thead>\n",
       "    <tr style=\"text-align: right;\">\n",
       "      <th></th>\n",
       "      <th>98001</th>\n",
       "      <th>98002</th>\n",
       "      <th>98003</th>\n",
       "      <th>98004</th>\n",
       "      <th>98005</th>\n",
       "      <th>98006</th>\n",
       "      <th>98007</th>\n",
       "      <th>98008</th>\n",
       "      <th>98010</th>\n",
       "      <th>98011</th>\n",
       "      <th>...</th>\n",
       "      <th>98146</th>\n",
       "      <th>98148</th>\n",
       "      <th>98155</th>\n",
       "      <th>98166</th>\n",
       "      <th>98168</th>\n",
       "      <th>98177</th>\n",
       "      <th>98178</th>\n",
       "      <th>98188</th>\n",
       "      <th>98198</th>\n",
       "      <th>98199</th>\n",
       "    </tr>\n",
       "    <tr>\n",
       "      <th>id</th>\n",
       "      <th></th>\n",
       "      <th></th>\n",
       "      <th></th>\n",
       "      <th></th>\n",
       "      <th></th>\n",
       "      <th></th>\n",
       "      <th></th>\n",
       "      <th></th>\n",
       "      <th></th>\n",
       "      <th></th>\n",
       "      <th></th>\n",
       "      <th></th>\n",
       "      <th></th>\n",
       "      <th></th>\n",
       "      <th></th>\n",
       "      <th></th>\n",
       "      <th></th>\n",
       "      <th></th>\n",
       "      <th></th>\n",
       "      <th></th>\n",
       "      <th></th>\n",
       "    </tr>\n",
       "  </thead>\n",
       "  <tbody>\n",
       "    <tr>\n",
       "      <th>7129300520</th>\n",
       "      <td>False</td>\n",
       "      <td>False</td>\n",
       "      <td>False</td>\n",
       "      <td>False</td>\n",
       "      <td>False</td>\n",
       "      <td>False</td>\n",
       "      <td>False</td>\n",
       "      <td>False</td>\n",
       "      <td>False</td>\n",
       "      <td>False</td>\n",
       "      <td>...</td>\n",
       "      <td>False</td>\n",
       "      <td>False</td>\n",
       "      <td>False</td>\n",
       "      <td>False</td>\n",
       "      <td>False</td>\n",
       "      <td>False</td>\n",
       "      <td>True</td>\n",
       "      <td>False</td>\n",
       "      <td>False</td>\n",
       "      <td>False</td>\n",
       "    </tr>\n",
       "    <tr>\n",
       "      <th>6414100192</th>\n",
       "      <td>False</td>\n",
       "      <td>False</td>\n",
       "      <td>False</td>\n",
       "      <td>False</td>\n",
       "      <td>False</td>\n",
       "      <td>False</td>\n",
       "      <td>False</td>\n",
       "      <td>False</td>\n",
       "      <td>False</td>\n",
       "      <td>False</td>\n",
       "      <td>...</td>\n",
       "      <td>False</td>\n",
       "      <td>False</td>\n",
       "      <td>False</td>\n",
       "      <td>False</td>\n",
       "      <td>False</td>\n",
       "      <td>False</td>\n",
       "      <td>False</td>\n",
       "      <td>False</td>\n",
       "      <td>False</td>\n",
       "      <td>False</td>\n",
       "    </tr>\n",
       "    <tr>\n",
       "      <th>5631500400</th>\n",
       "      <td>False</td>\n",
       "      <td>False</td>\n",
       "      <td>False</td>\n",
       "      <td>False</td>\n",
       "      <td>False</td>\n",
       "      <td>False</td>\n",
       "      <td>False</td>\n",
       "      <td>False</td>\n",
       "      <td>False</td>\n",
       "      <td>False</td>\n",
       "      <td>...</td>\n",
       "      <td>False</td>\n",
       "      <td>False</td>\n",
       "      <td>False</td>\n",
       "      <td>False</td>\n",
       "      <td>False</td>\n",
       "      <td>False</td>\n",
       "      <td>False</td>\n",
       "      <td>False</td>\n",
       "      <td>False</td>\n",
       "      <td>False</td>\n",
       "    </tr>\n",
       "    <tr>\n",
       "      <th>2487200875</th>\n",
       "      <td>False</td>\n",
       "      <td>False</td>\n",
       "      <td>False</td>\n",
       "      <td>False</td>\n",
       "      <td>False</td>\n",
       "      <td>False</td>\n",
       "      <td>False</td>\n",
       "      <td>False</td>\n",
       "      <td>False</td>\n",
       "      <td>False</td>\n",
       "      <td>...</td>\n",
       "      <td>False</td>\n",
       "      <td>False</td>\n",
       "      <td>False</td>\n",
       "      <td>False</td>\n",
       "      <td>False</td>\n",
       "      <td>False</td>\n",
       "      <td>False</td>\n",
       "      <td>False</td>\n",
       "      <td>False</td>\n",
       "      <td>False</td>\n",
       "    </tr>\n",
       "    <tr>\n",
       "      <th>1954400510</th>\n",
       "      <td>False</td>\n",
       "      <td>False</td>\n",
       "      <td>False</td>\n",
       "      <td>False</td>\n",
       "      <td>False</td>\n",
       "      <td>False</td>\n",
       "      <td>False</td>\n",
       "      <td>False</td>\n",
       "      <td>False</td>\n",
       "      <td>False</td>\n",
       "      <td>...</td>\n",
       "      <td>False</td>\n",
       "      <td>False</td>\n",
       "      <td>False</td>\n",
       "      <td>False</td>\n",
       "      <td>False</td>\n",
       "      <td>False</td>\n",
       "      <td>False</td>\n",
       "      <td>False</td>\n",
       "      <td>False</td>\n",
       "      <td>False</td>\n",
       "    </tr>\n",
       "  </tbody>\n",
       "</table>\n",
       "<p>5 rows × 70 columns</p>\n",
       "</div>"
      ],
      "text/plain": [
       "            98001  98002  98003  98004  98005  98006  98007  98008  98010  \\\n",
       "id                                                                          \n",
       "7129300520  False  False  False  False  False  False  False  False  False   \n",
       "6414100192  False  False  False  False  False  False  False  False  False   \n",
       "5631500400  False  False  False  False  False  False  False  False  False   \n",
       "2487200875  False  False  False  False  False  False  False  False  False   \n",
       "1954400510  False  False  False  False  False  False  False  False  False   \n",
       "\n",
       "            98011  ...  98146  98148  98155  98166  98168  98177  98178  \\\n",
       "id                 ...                                                    \n",
       "7129300520  False  ...  False  False  False  False  False  False   True   \n",
       "6414100192  False  ...  False  False  False  False  False  False  False   \n",
       "5631500400  False  ...  False  False  False  False  False  False  False   \n",
       "2487200875  False  ...  False  False  False  False  False  False  False   \n",
       "1954400510  False  ...  False  False  False  False  False  False  False   \n",
       "\n",
       "            98188  98198  98199  \n",
       "id                               \n",
       "7129300520  False  False  False  \n",
       "6414100192  False  False  False  \n",
       "5631500400  False  False  False  \n",
       "2487200875  False  False  False  \n",
       "1954400510  False  False  False  \n",
       "\n",
       "[5 rows x 70 columns]"
      ]
     },
     "execution_count": 17,
     "metadata": {},
     "output_type": "execute_result"
    }
   ],
   "source": [
    "X2.head()"
   ]
  },
  {
   "cell_type": "markdown",
   "id": "2e941d04-7a94-4c2c-be8f-0011f4829b17",
   "metadata": {},
   "source": [
    "Now, we join `X1` and `X2` with the Pandas function `concat()`, to get the new features matrix."
   ]
  },
  {
   "cell_type": "code",
   "execution_count": 18,
   "id": "4c64292e-8563-4ccd-ae4e-f78af3bb8f91",
   "metadata": {},
   "outputs": [],
   "source": [
    "X = pd.concat([X1, X2], axis=1)"
   ]
  },
  {
   "cell_type": "markdown",
   "id": "499d987e-aeff-4960-9406-ba054a01e6d2",
   "metadata": {},
   "source": [
    "Indeed, the new matrix has the right shape:"
   ]
  },
  {
   "cell_type": "code",
   "execution_count": 19,
   "id": "baea20f6-91d4-41d8-8643-0d76370a1523",
   "metadata": {},
   "outputs": [
    {
     "data": {
      "text/plain": [
       "(21613, 80)"
      ]
     },
     "execution_count": 19,
     "metadata": {},
     "output_type": "execute_result"
    }
   ],
   "source": [
    "X.shape"
   ]
  },
  {
   "cell_type": "markdown",
   "id": "b5442f77-3db2-4695-b0b9-03dcb21f48e0",
   "metadata": {},
   "source": [
    "To prevent the trouble with the column names, we convert `X` to a NumPy 2D array:"
   ]
  },
  {
   "cell_type": "code",
   "execution_count": 20,
   "id": "6eaea950-8f69-436b-8913-9417c00d94f7",
   "metadata": {},
   "outputs": [],
   "source": [
    "X = X.values"
   ]
  },
  {
   "cell_type": "markdown",
   "id": "5c25eb68-2d1a-4f96-a442-dadcbd591a32",
   "metadata": {},
   "source": [
    "Now, we fit a regression equation to the new data set. This replaces the former model by a new one, which takes 80 features instead of 12. We could instantiate a new estimator with a different name, keeping both models alive, but in this example we just update the existing estimator with the new feature matrix."
   ]
  },
  {
   "cell_type": "code",
   "execution_count": 21,
   "id": "7e85c272-00d9-4ea4-b4cc-cec4aa195702",
   "metadata": {},
   "outputs": [
    {
     "data": {
      "text/html": [
       "<style>#sk-container-id-2 {\n",
       "  /* Definition of color scheme common for light and dark mode */\n",
       "  --sklearn-color-text: black;\n",
       "  --sklearn-color-line: gray;\n",
       "  /* Definition of color scheme for unfitted estimators */\n",
       "  --sklearn-color-unfitted-level-0: #fff5e6;\n",
       "  --sklearn-color-unfitted-level-1: #f6e4d2;\n",
       "  --sklearn-color-unfitted-level-2: #ffe0b3;\n",
       "  --sklearn-color-unfitted-level-3: chocolate;\n",
       "  /* Definition of color scheme for fitted estimators */\n",
       "  --sklearn-color-fitted-level-0: #f0f8ff;\n",
       "  --sklearn-color-fitted-level-1: #d4ebff;\n",
       "  --sklearn-color-fitted-level-2: #b3dbfd;\n",
       "  --sklearn-color-fitted-level-3: cornflowerblue;\n",
       "\n",
       "  /* Specific color for light theme */\n",
       "  --sklearn-color-text-on-default-background: var(--sg-text-color, var(--theme-code-foreground, var(--jp-content-font-color1, black)));\n",
       "  --sklearn-color-background: var(--sg-background-color, var(--theme-background, var(--jp-layout-color0, white)));\n",
       "  --sklearn-color-border-box: var(--sg-text-color, var(--theme-code-foreground, var(--jp-content-font-color1, black)));\n",
       "  --sklearn-color-icon: #696969;\n",
       "\n",
       "  @media (prefers-color-scheme: dark) {\n",
       "    /* Redefinition of color scheme for dark theme */\n",
       "    --sklearn-color-text-on-default-background: var(--sg-text-color, var(--theme-code-foreground, var(--jp-content-font-color1, white)));\n",
       "    --sklearn-color-background: var(--sg-background-color, var(--theme-background, var(--jp-layout-color0, #111)));\n",
       "    --sklearn-color-border-box: var(--sg-text-color, var(--theme-code-foreground, var(--jp-content-font-color1, white)));\n",
       "    --sklearn-color-icon: #878787;\n",
       "  }\n",
       "}\n",
       "\n",
       "#sk-container-id-2 {\n",
       "  color: var(--sklearn-color-text);\n",
       "}\n",
       "\n",
       "#sk-container-id-2 pre {\n",
       "  padding: 0;\n",
       "}\n",
       "\n",
       "#sk-container-id-2 input.sk-hidden--visually {\n",
       "  border: 0;\n",
       "  clip: rect(1px 1px 1px 1px);\n",
       "  clip: rect(1px, 1px, 1px, 1px);\n",
       "  height: 1px;\n",
       "  margin: -1px;\n",
       "  overflow: hidden;\n",
       "  padding: 0;\n",
       "  position: absolute;\n",
       "  width: 1px;\n",
       "}\n",
       "\n",
       "#sk-container-id-2 div.sk-dashed-wrapped {\n",
       "  border: 1px dashed var(--sklearn-color-line);\n",
       "  margin: 0 0.4em 0.5em 0.4em;\n",
       "  box-sizing: border-box;\n",
       "  padding-bottom: 0.4em;\n",
       "  background-color: var(--sklearn-color-background);\n",
       "}\n",
       "\n",
       "#sk-container-id-2 div.sk-container {\n",
       "  /* jupyter's `normalize.less` sets `[hidden] { display: none; }`\n",
       "     but bootstrap.min.css set `[hidden] { display: none !important; }`\n",
       "     so we also need the `!important` here to be able to override the\n",
       "     default hidden behavior on the sphinx rendered scikit-learn.org.\n",
       "     See: https://github.com/scikit-learn/scikit-learn/issues/21755 */\n",
       "  display: inline-block !important;\n",
       "  position: relative;\n",
       "}\n",
       "\n",
       "#sk-container-id-2 div.sk-text-repr-fallback {\n",
       "  display: none;\n",
       "}\n",
       "\n",
       "div.sk-parallel-item,\n",
       "div.sk-serial,\n",
       "div.sk-item {\n",
       "  /* draw centered vertical line to link estimators */\n",
       "  background-image: linear-gradient(var(--sklearn-color-text-on-default-background), var(--sklearn-color-text-on-default-background));\n",
       "  background-size: 2px 100%;\n",
       "  background-repeat: no-repeat;\n",
       "  background-position: center center;\n",
       "}\n",
       "\n",
       "/* Parallel-specific style estimator block */\n",
       "\n",
       "#sk-container-id-2 div.sk-parallel-item::after {\n",
       "  content: \"\";\n",
       "  width: 100%;\n",
       "  border-bottom: 2px solid var(--sklearn-color-text-on-default-background);\n",
       "  flex-grow: 1;\n",
       "}\n",
       "\n",
       "#sk-container-id-2 div.sk-parallel {\n",
       "  display: flex;\n",
       "  align-items: stretch;\n",
       "  justify-content: center;\n",
       "  background-color: var(--sklearn-color-background);\n",
       "  position: relative;\n",
       "}\n",
       "\n",
       "#sk-container-id-2 div.sk-parallel-item {\n",
       "  display: flex;\n",
       "  flex-direction: column;\n",
       "}\n",
       "\n",
       "#sk-container-id-2 div.sk-parallel-item:first-child::after {\n",
       "  align-self: flex-end;\n",
       "  width: 50%;\n",
       "}\n",
       "\n",
       "#sk-container-id-2 div.sk-parallel-item:last-child::after {\n",
       "  align-self: flex-start;\n",
       "  width: 50%;\n",
       "}\n",
       "\n",
       "#sk-container-id-2 div.sk-parallel-item:only-child::after {\n",
       "  width: 0;\n",
       "}\n",
       "\n",
       "/* Serial-specific style estimator block */\n",
       "\n",
       "#sk-container-id-2 div.sk-serial {\n",
       "  display: flex;\n",
       "  flex-direction: column;\n",
       "  align-items: center;\n",
       "  background-color: var(--sklearn-color-background);\n",
       "  padding-right: 1em;\n",
       "  padding-left: 1em;\n",
       "}\n",
       "\n",
       "\n",
       "/* Toggleable style: style used for estimator/Pipeline/ColumnTransformer box that is\n",
       "clickable and can be expanded/collapsed.\n",
       "- Pipeline and ColumnTransformer use this feature and define the default style\n",
       "- Estimators will overwrite some part of the style using the `sk-estimator` class\n",
       "*/\n",
       "\n",
       "/* Pipeline and ColumnTransformer style (default) */\n",
       "\n",
       "#sk-container-id-2 div.sk-toggleable {\n",
       "  /* Default theme specific background. It is overwritten whether we have a\n",
       "  specific estimator or a Pipeline/ColumnTransformer */\n",
       "  background-color: var(--sklearn-color-background);\n",
       "}\n",
       "\n",
       "/* Toggleable label */\n",
       "#sk-container-id-2 label.sk-toggleable__label {\n",
       "  cursor: pointer;\n",
       "  display: block;\n",
       "  width: 100%;\n",
       "  margin-bottom: 0;\n",
       "  padding: 0.5em;\n",
       "  box-sizing: border-box;\n",
       "  text-align: center;\n",
       "}\n",
       "\n",
       "#sk-container-id-2 label.sk-toggleable__label-arrow:before {\n",
       "  /* Arrow on the left of the label */\n",
       "  content: \"▸\";\n",
       "  float: left;\n",
       "  margin-right: 0.25em;\n",
       "  color: var(--sklearn-color-icon);\n",
       "}\n",
       "\n",
       "#sk-container-id-2 label.sk-toggleable__label-arrow:hover:before {\n",
       "  color: var(--sklearn-color-text);\n",
       "}\n",
       "\n",
       "/* Toggleable content - dropdown */\n",
       "\n",
       "#sk-container-id-2 div.sk-toggleable__content {\n",
       "  max-height: 0;\n",
       "  max-width: 0;\n",
       "  overflow: hidden;\n",
       "  text-align: left;\n",
       "  /* unfitted */\n",
       "  background-color: var(--sklearn-color-unfitted-level-0);\n",
       "}\n",
       "\n",
       "#sk-container-id-2 div.sk-toggleable__content.fitted {\n",
       "  /* fitted */\n",
       "  background-color: var(--sklearn-color-fitted-level-0);\n",
       "}\n",
       "\n",
       "#sk-container-id-2 div.sk-toggleable__content pre {\n",
       "  margin: 0.2em;\n",
       "  border-radius: 0.25em;\n",
       "  color: var(--sklearn-color-text);\n",
       "  /* unfitted */\n",
       "  background-color: var(--sklearn-color-unfitted-level-0);\n",
       "}\n",
       "\n",
       "#sk-container-id-2 div.sk-toggleable__content.fitted pre {\n",
       "  /* unfitted */\n",
       "  background-color: var(--sklearn-color-fitted-level-0);\n",
       "}\n",
       "\n",
       "#sk-container-id-2 input.sk-toggleable__control:checked~div.sk-toggleable__content {\n",
       "  /* Expand drop-down */\n",
       "  max-height: 200px;\n",
       "  max-width: 100%;\n",
       "  overflow: auto;\n",
       "}\n",
       "\n",
       "#sk-container-id-2 input.sk-toggleable__control:checked~label.sk-toggleable__label-arrow:before {\n",
       "  content: \"▾\";\n",
       "}\n",
       "\n",
       "/* Pipeline/ColumnTransformer-specific style */\n",
       "\n",
       "#sk-container-id-2 div.sk-label input.sk-toggleable__control:checked~label.sk-toggleable__label {\n",
       "  color: var(--sklearn-color-text);\n",
       "  background-color: var(--sklearn-color-unfitted-level-2);\n",
       "}\n",
       "\n",
       "#sk-container-id-2 div.sk-label.fitted input.sk-toggleable__control:checked~label.sk-toggleable__label {\n",
       "  background-color: var(--sklearn-color-fitted-level-2);\n",
       "}\n",
       "\n",
       "/* Estimator-specific style */\n",
       "\n",
       "/* Colorize estimator box */\n",
       "#sk-container-id-2 div.sk-estimator input.sk-toggleable__control:checked~label.sk-toggleable__label {\n",
       "  /* unfitted */\n",
       "  background-color: var(--sklearn-color-unfitted-level-2);\n",
       "}\n",
       "\n",
       "#sk-container-id-2 div.sk-estimator.fitted input.sk-toggleable__control:checked~label.sk-toggleable__label {\n",
       "  /* fitted */\n",
       "  background-color: var(--sklearn-color-fitted-level-2);\n",
       "}\n",
       "\n",
       "#sk-container-id-2 div.sk-label label.sk-toggleable__label,\n",
       "#sk-container-id-2 div.sk-label label {\n",
       "  /* The background is the default theme color */\n",
       "  color: var(--sklearn-color-text-on-default-background);\n",
       "}\n",
       "\n",
       "/* On hover, darken the color of the background */\n",
       "#sk-container-id-2 div.sk-label:hover label.sk-toggleable__label {\n",
       "  color: var(--sklearn-color-text);\n",
       "  background-color: var(--sklearn-color-unfitted-level-2);\n",
       "}\n",
       "\n",
       "/* Label box, darken color on hover, fitted */\n",
       "#sk-container-id-2 div.sk-label.fitted:hover label.sk-toggleable__label.fitted {\n",
       "  color: var(--sklearn-color-text);\n",
       "  background-color: var(--sklearn-color-fitted-level-2);\n",
       "}\n",
       "\n",
       "/* Estimator label */\n",
       "\n",
       "#sk-container-id-2 div.sk-label label {\n",
       "  font-family: monospace;\n",
       "  font-weight: bold;\n",
       "  display: inline-block;\n",
       "  line-height: 1.2em;\n",
       "}\n",
       "\n",
       "#sk-container-id-2 div.sk-label-container {\n",
       "  text-align: center;\n",
       "}\n",
       "\n",
       "/* Estimator-specific */\n",
       "#sk-container-id-2 div.sk-estimator {\n",
       "  font-family: monospace;\n",
       "  border: 1px dotted var(--sklearn-color-border-box);\n",
       "  border-radius: 0.25em;\n",
       "  box-sizing: border-box;\n",
       "  margin-bottom: 0.5em;\n",
       "  /* unfitted */\n",
       "  background-color: var(--sklearn-color-unfitted-level-0);\n",
       "}\n",
       "\n",
       "#sk-container-id-2 div.sk-estimator.fitted {\n",
       "  /* fitted */\n",
       "  background-color: var(--sklearn-color-fitted-level-0);\n",
       "}\n",
       "\n",
       "/* on hover */\n",
       "#sk-container-id-2 div.sk-estimator:hover {\n",
       "  /* unfitted */\n",
       "  background-color: var(--sklearn-color-unfitted-level-2);\n",
       "}\n",
       "\n",
       "#sk-container-id-2 div.sk-estimator.fitted:hover {\n",
       "  /* fitted */\n",
       "  background-color: var(--sklearn-color-fitted-level-2);\n",
       "}\n",
       "\n",
       "/* Specification for estimator info (e.g. \"i\" and \"?\") */\n",
       "\n",
       "/* Common style for \"i\" and \"?\" */\n",
       "\n",
       ".sk-estimator-doc-link,\n",
       "a:link.sk-estimator-doc-link,\n",
       "a:visited.sk-estimator-doc-link {\n",
       "  float: right;\n",
       "  font-size: smaller;\n",
       "  line-height: 1em;\n",
       "  font-family: monospace;\n",
       "  background-color: var(--sklearn-color-background);\n",
       "  border-radius: 1em;\n",
       "  height: 1em;\n",
       "  width: 1em;\n",
       "  text-decoration: none !important;\n",
       "  margin-left: 1ex;\n",
       "  /* unfitted */\n",
       "  border: var(--sklearn-color-unfitted-level-1) 1pt solid;\n",
       "  color: var(--sklearn-color-unfitted-level-1);\n",
       "}\n",
       "\n",
       ".sk-estimator-doc-link.fitted,\n",
       "a:link.sk-estimator-doc-link.fitted,\n",
       "a:visited.sk-estimator-doc-link.fitted {\n",
       "  /* fitted */\n",
       "  border: var(--sklearn-color-fitted-level-1) 1pt solid;\n",
       "  color: var(--sklearn-color-fitted-level-1);\n",
       "}\n",
       "\n",
       "/* On hover */\n",
       "div.sk-estimator:hover .sk-estimator-doc-link:hover,\n",
       ".sk-estimator-doc-link:hover,\n",
       "div.sk-label-container:hover .sk-estimator-doc-link:hover,\n",
       ".sk-estimator-doc-link:hover {\n",
       "  /* unfitted */\n",
       "  background-color: var(--sklearn-color-unfitted-level-3);\n",
       "  color: var(--sklearn-color-background);\n",
       "  text-decoration: none;\n",
       "}\n",
       "\n",
       "div.sk-estimator.fitted:hover .sk-estimator-doc-link.fitted:hover,\n",
       ".sk-estimator-doc-link.fitted:hover,\n",
       "div.sk-label-container:hover .sk-estimator-doc-link.fitted:hover,\n",
       ".sk-estimator-doc-link.fitted:hover {\n",
       "  /* fitted */\n",
       "  background-color: var(--sklearn-color-fitted-level-3);\n",
       "  color: var(--sklearn-color-background);\n",
       "  text-decoration: none;\n",
       "}\n",
       "\n",
       "/* Span, style for the box shown on hovering the info icon */\n",
       ".sk-estimator-doc-link span {\n",
       "  display: none;\n",
       "  z-index: 9999;\n",
       "  position: relative;\n",
       "  font-weight: normal;\n",
       "  right: .2ex;\n",
       "  padding: .5ex;\n",
       "  margin: .5ex;\n",
       "  width: min-content;\n",
       "  min-width: 20ex;\n",
       "  max-width: 50ex;\n",
       "  color: var(--sklearn-color-text);\n",
       "  box-shadow: 2pt 2pt 4pt #999;\n",
       "  /* unfitted */\n",
       "  background: var(--sklearn-color-unfitted-level-0);\n",
       "  border: .5pt solid var(--sklearn-color-unfitted-level-3);\n",
       "}\n",
       "\n",
       ".sk-estimator-doc-link.fitted span {\n",
       "  /* fitted */\n",
       "  background: var(--sklearn-color-fitted-level-0);\n",
       "  border: var(--sklearn-color-fitted-level-3);\n",
       "}\n",
       "\n",
       ".sk-estimator-doc-link:hover span {\n",
       "  display: block;\n",
       "}\n",
       "\n",
       "/* \"?\"-specific style due to the `<a>` HTML tag */\n",
       "\n",
       "#sk-container-id-2 a.estimator_doc_link {\n",
       "  float: right;\n",
       "  font-size: 1rem;\n",
       "  line-height: 1em;\n",
       "  font-family: monospace;\n",
       "  background-color: var(--sklearn-color-background);\n",
       "  border-radius: 1rem;\n",
       "  height: 1rem;\n",
       "  width: 1rem;\n",
       "  text-decoration: none;\n",
       "  /* unfitted */\n",
       "  color: var(--sklearn-color-unfitted-level-1);\n",
       "  border: var(--sklearn-color-unfitted-level-1) 1pt solid;\n",
       "}\n",
       "\n",
       "#sk-container-id-2 a.estimator_doc_link.fitted {\n",
       "  /* fitted */\n",
       "  border: var(--sklearn-color-fitted-level-1) 1pt solid;\n",
       "  color: var(--sklearn-color-fitted-level-1);\n",
       "}\n",
       "\n",
       "/* On hover */\n",
       "#sk-container-id-2 a.estimator_doc_link:hover {\n",
       "  /* unfitted */\n",
       "  background-color: var(--sklearn-color-unfitted-level-3);\n",
       "  color: var(--sklearn-color-background);\n",
       "  text-decoration: none;\n",
       "}\n",
       "\n",
       "#sk-container-id-2 a.estimator_doc_link.fitted:hover {\n",
       "  /* fitted */\n",
       "  background-color: var(--sklearn-color-fitted-level-3);\n",
       "}\n",
       "</style><div id=\"sk-container-id-2\" class=\"sk-top-container\"><div class=\"sk-text-repr-fallback\"><pre>LinearRegression()</pre><b>In a Jupyter environment, please rerun this cell to show the HTML representation or trust the notebook. <br />On GitHub, the HTML representation is unable to render, please try loading this page with nbviewer.org.</b></div><div class=\"sk-container\" hidden><div class=\"sk-item\"><div class=\"sk-estimator fitted sk-toggleable\"><input class=\"sk-toggleable__control sk-hidden--visually\" id=\"sk-estimator-id-2\" type=\"checkbox\" checked><label for=\"sk-estimator-id-2\" class=\"sk-toggleable__label fitted sk-toggleable__label-arrow fitted\">&nbsp;&nbsp;LinearRegression<a class=\"sk-estimator-doc-link fitted\" rel=\"noreferrer\" target=\"_blank\" href=\"https://scikit-learn.org/1.5/modules/generated/sklearn.linear_model.LinearRegression.html\">?<span>Documentation for LinearRegression</span></a><span class=\"sk-estimator-doc-link fitted\">i<span>Fitted</span></span></label><div class=\"sk-toggleable__content fitted\"><pre>LinearRegression()</pre></div> </div></div></div></div>"
      ],
      "text/plain": [
       "LinearRegression()"
      ]
     },
     "execution_count": 21,
     "metadata": {},
     "output_type": "execute_result"
    }
   ],
   "source": [
    "lin_reg.fit(X, y)"
   ]
  },
  {
   "cell_type": "markdown",
   "id": "39ffefef-10e6-41a6-8c78-a984ff52772d",
   "metadata": {},
   "source": [
    "The new predictions are:"
   ]
  },
  {
   "cell_type": "code",
   "execution_count": 22,
   "id": "5ffb3ffe-e9d7-4d91-b467-fe8e15356a12",
   "metadata": {},
   "outputs": [],
   "source": [
    "y_pred = lin_reg.predict(X)"
   ]
  },
  {
   "cell_type": "markdown",
   "id": "044195e5-5ae0-4b65-b79c-a37164b9fc0e",
   "metadata": {},
   "source": [
    "And the new R-squared value:"
   ]
  },
  {
   "cell_type": "code",
   "execution_count": 23,
   "id": "aa4ff008-4787-4ae4-9634-c225779354ae",
   "metadata": {},
   "outputs": [
    {
     "data": {
      "text/plain": [
       "0.785"
      ]
     },
     "execution_count": 23,
     "metadata": {},
     "output_type": "execute_result"
    }
   ],
   "source": [
    "round(lin_reg.score(X, y), 3)"
   ]
  },
  {
   "cell_type": "markdown",
   "id": "114eac67-ab4c-4b36-9827-f6fd220f9628",
   "metadata": {},
   "source": [
    "This looks like a relevant improvement, compared to the former model. The scatter plot illustrates the improvement in the correlation:"
   ]
  },
  {
   "cell_type": "code",
   "execution_count": 24,
   "id": "b37097aa-7e91-46de-b5b7-a3f788efba59",
   "metadata": {},
   "outputs": [
    {
     "data": {
      "image/png": "[encoded data removed]",
      "text/plain": [
       "<Figure size 500x500 with 1 Axes>"
      ]
     },
     "metadata": {},
     "output_type": "display_data"
    }
   ],
   "source": [
    "plt.figure(figsize=(5,5))\n",
    "plt.title('Figure 3. Actual price vs predicted price')\n",
    "plt.scatter(x=y_pred, y=y, color='black', s=1)\n",
    "plt.xlabel('Predicted price (thousands)')\n",
    "plt.ylabel('Actual price (thousands)');"
   ]
  },
  {
   "cell_type": "markdown",
   "id": "f4cf63e2-f692-490c-8453-1eb74e1618ba",
   "metadata": {},
   "source": [
    "There are still negative predicted prices, though this has improved:"
   ]
  },
  {
   "cell_type": "code",
   "execution_count": 25,
   "id": "013d36df-5d8c-4716-b571-44f0ffcdcc20",
   "metadata": {},
   "outputs": [
    {
     "data": {
      "text/plain": [
       "16"
      ]
     },
     "execution_count": 25,
     "metadata": {},
     "output_type": "execute_result"
    }
   ],
   "source": [
    "(y_pred < 0).sum()"
   ]
  },
  {
   "cell_type": "markdown",
   "id": "78111a71-411c-4096-844f-1b5923bcd9ee",
   "metadata": {},
   "source": [
    "### Q5. Tree-based models"
   ]
  },
  {
   "cell_type": "markdown",
   "id": "28e9ba53-5491-44d1-abb5-cc6cec2cb59b",
   "metadata": {},
   "source": [
    "A regression decision tree is created as a classification tree, but using the class `DecisionTreeReghressor` instead of `DecisionTreeClassifier`. We use here the specification `max_depth=6`, which makes sense for 80 features."
   ]
  },
  {
   "cell_type": "code",
   "execution_count": 26,
   "id": "e26b75f9-b885-45c4-837b-f9c0936b23eb",
   "metadata": {},
   "outputs": [
    {
     "data": {
      "text/plain": [
       "0.658"
      ]
     },
     "execution_count": 26,
     "metadata": {},
     "output_type": "execute_result"
    }
   ],
   "source": [
    "from sklearn.tree import DecisionTreeRegressor\n",
    "tree_reg = DecisionTreeRegressor(max_depth=6)\n",
    "tree_reg.fit(X, y)\n",
    "round(tree_reg.score(X, y), 3)"
   ]
  },
  {
   "cell_type": "markdown",
   "id": "87dfb213-eade-490d-b92c-8edd321ed484",
   "metadata": {},
   "source": [
    "An individual decision tree does not improve the results of the linear regression models. We train next a random forest regressor, which we extract from the class `RandomForestRegressor`, of the subpackage `ensemble`. We keep the specification `max_depth=6`, adding `n_estimators=100`, which specifies the number of trees in the forest."
   ]
  },
  {
   "cell_type": "code",
   "execution_count": 27,
   "id": "ce73d013-cb82-43bf-bd72-510d280895e8",
   "metadata": {},
   "outputs": [
    {
     "data": {
      "text/plain": [
       "0.702"
      ]
     },
     "execution_count": 27,
     "metadata": {},
     "output_type": "execute_result"
    }
   ],
   "source": [
    "from sklearn.ensemble import RandomForestRegressor\n",
    "rf_reg = RandomForestRegressor(max_depth=6, n_estimators=100)\n",
    "rf_reg.fit(X, y)\n",
    "round(rf_reg.score(X, y), 3)"
   ]
  },
  {
   "cell_type": "markdown",
   "id": "87cfd64f-96fd-4ea8-b83d-d6a1ca4fbb55",
   "metadata": {},
   "source": [
    "The random forest does a better job, as could be expected, but the linear regression models is still the best one. Assuming that `xgboost`is already installed (use `pip install` if it is not so), we can use the following code, which is pretty the same as in scikit-learn. We keep the size and the number of trees. The learning rate does not hjave much influence here."
   ]
  },
  {
   "cell_type": "code",
   "execution_count": 28,
   "id": "9f485c95-a15e-4065-ad5c-f9018d1d4974",
   "metadata": {},
   "outputs": [
    {
     "data": {
      "text/plain": [
       "0.885"
      ]
     },
     "execution_count": 28,
     "metadata": {},
     "output_type": "execute_result"
    }
   ],
   "source": [
    "from xgboost import XGBRegressor\n",
    "xgb_reg = XGBRegressor(n_estimators=100, learning_rate=0.1, max_depth=6)\n",
    "xgb_reg.fit(X, y)\n",
    "round(xgb_reg.score(X, y), 3)"
   ]
  },
  {
   "cell_type": "markdown",
   "id": "ca75cd67-f54e-4c9e-a2a7-5dc5d574cb0b",
   "metadata": {},
   "source": [
    "Since this model is promising, we round the job with a scatter plot. Note the following two points:\n",
    "\n",
    "* We don't get negative predicted prices here. Indeed a tree-based method can never produce out-of-range predictions, since the predicted value in a tree leaf is just the average of the actual values in the that leaf.\n",
    "\n",
    "* The errors for the tiop expensive houses are moderate. This is also comes from the way the predictions are obtained in decision tree models."
   ]
  },
  {
   "cell_type": "code",
   "execution_count": 29,
   "id": "4009c0f0-7e25-46ae-a0df-3280f17a31b7",
   "metadata": {},
   "outputs": [
    {
     "data": {
      "image/png": "[encoded data removed]",
      "text/plain": [
       "<Figure size 500x500 with 1 Axes>"
      ]
     },
     "metadata": {},
     "output_type": "display_data"
    }
   ],
   "source": [
    "y_pred = xgb_reg.predict(X)\n",
    "plt.figure(figsize=(5,5))\n",
    "plt.title('Figure 3. Actual price vs predicted price')\n",
    "plt.scatter(x=y_pred, y=y, color='black', s=1)\n",
    "plt.xlabel('Predicted price (thousands)')\n",
    "plt.ylabel('Actual price (thousands)');"
   ]
  },
  {
   "cell_type": "markdown",
   "id": "c3d7d1c9-18c4-4b25-8d4d-e8ab32b56ddc",
   "metadata": {},
   "source": [
    "### Q6. Validation"
   ]
  },
  {
   "cell_type": "markdown",
   "id": "0213593d-54a4-4528-91f9-84c4f87fee29",
   "metadata": {},
   "source": [
    "Finally, we use a 80-20 train-test split to explore the potential overfitting by these models. The following code chunk separates a random choice of houses fror testing. Note that, since the function `train_test_split()` is applied to `X` and `y` in one shot, the random selection is the same for both."
   ]
  },
  {
   "cell_type": "code",
   "execution_count": 30,
   "id": "e0d39a0c-8768-49a5-b5e7-3eca585128a2",
   "metadata": {},
   "outputs": [],
   "source": [
    "from sklearn.model_selection import train_test_split\n",
    "X_train, X_test, y_train, y_test = train_test_split(X, y, test_size=0.2)"
   ]
  },
  {
   "cell_type": "markdown",
   "id": "585f082d-6684-41d6-b4d4-23ba7d1af1de",
   "metadata": {},
   "source": [
    "We train now a linear regression model on the training set, and evaluate it on both subsets. We don't find evidence of overfitting here."
   ]
  },
  {
   "cell_type": "code",
   "execution_count": 31,
   "id": "85904592-5d0c-4950-b728-32d56b78c73b",
   "metadata": {},
   "outputs": [
    {
     "data": {
      "text/plain": [
       "(0.784, 0.791)"
      ]
     },
     "execution_count": 31,
     "metadata": {},
     "output_type": "execute_result"
    }
   ],
   "source": [
    "lin_reg.fit(X_train, y_train)\n",
    "round(lin_reg.score(X_train, y_train), 3), round(lin_reg.score(X_test, y_test), 3)"
   ]
  },
  {
   "cell_type": "markdown",
   "id": "fff6e829-ba42-42f1-b5fd-8738f8bd28ba",
   "metadata": {},
   "source": [
    "On the contrary, the XGBoost model shows clear overfitting symptoms."
   ]
  },
  {
   "cell_type": "code",
   "execution_count": 32,
   "id": "b08032b4-2ce7-4da4-beb4-907ac3dbeed1",
   "metadata": {},
   "outputs": [
    {
     "data": {
      "text/plain": [
       "(0.889, 0.812)"
      ]
     },
     "execution_count": 32,
     "metadata": {},
     "output_type": "execute_result"
    }
   ],
   "source": [
    "xgb_reg.fit(X_train, y_train)\n",
    "round(xgb_reg.score(X_train, y_train), 3), round(xgb_reg.score(X_test, y_test), 3)"
   ]
  },
  {
   "cell_type": "markdown",
   "id": "b51e8846-1ee3-489d-945d-73309746d276",
   "metadata": {},
   "source": [
    "In spite of the overfitting issue, the performance of the XGBoost model on the test set is still a bit better that that of the linear regression model. Moreover, the two advantages that we have remarked in Q5, would mark it as the preferred one."
   ]
  },
  {
   "cell_type": "markdown",
   "id": "5f4b3129-5449-4906-a134-933ac6cf4cbf",
   "metadata": {},
   "source": [
    "### Homework"
   ]
  },
  {
   "cell_type": "markdown",
   "id": "f01e301e-5e41-472e-8674-4aef2a2f4fe5",
   "metadata": {},
   "source": [
    "1. The role of longitude and latitude in the prediction of real estate prices is unclear. Do they really contribute to get better predictions in the first model of this example? If we keep them in the second model, do we get a better model? \n",
    "\n",
    "2. Evaluate in dollar terms the predictive performance of the models presented in this example. For instance, you can use the mean (or median) absolute error. Setting a threshold which makes sense for housing prices (such as 100,000 or 200,000 USD), can you make a statement about the percentage of houses whose price can be predicted with an error below the threshold?\n",
    "\n",
    "3. Is it better to use the percentage error in the above assessment? Setting the threshold in percentage terms, can you make a statement about the percentage of houses with a prediction error below the threshold?\n",
    "\n",
    "4. Can the strong correlation obtained for the linear models of this example be an artifact created by the extreme values? Trim the data set, dropping the houses out a certain range of price and/or size. Do you get a better model?\n",
    "\n",
    "5. How is the scatter plot for decision tree regressor? Can you explain the form of the cloud of points obtained?\n",
    "\n",
    "6. Try some variations on the number and the size of the trees in the ensemble models explored in this lecture. Can you improve their performance?"
   ]
  }
 ],
 "metadata": {
  "kernelspec": {
   "display_name": "Python 3 (ipykernel)",
   "language": "python",
   "name": "python3"
  },
  "language_info": {
   "codemirror_mode": {
    "name": "ipython",
    "version": 3
   },
   "file_extension": ".py",
   "mimetype": "text/x-python",
   "name": "python",
   "nbconvert_exporter": "python",
   "pygments_lexer": "ipython3",
   "version": "3.13.5"
  }
 },
 "nbformat": 4,
 "nbformat_minor": 5
}
