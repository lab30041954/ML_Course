{
 "cells": [
  {
   "cell_type": "markdown",
   "id": "c0d2e22c-702c-493c-a7e1-25302a83d7a3",
   "metadata": {
    "id": "c0d2e22c-702c-493c-a7e1-25302a83d7a3"
   },
   "source": [
    "# [ML-09] Text embedding"
   ]
  },
  {
   "cell_type": "markdown",
   "id": "c88d555e-949d-43fa-8ae3-6d5de44073a1",
   "metadata": {
    "id": "c88d555e-949d-43fa-8ae3-6d5de44073a1"
   },
   "source": [
    "## What is an embedding?"
   ]
  },
  {
   "cell_type": "markdown",
   "id": "3ddaa825-ad36-4b6d-93bf-cae7a69fc10e",
   "metadata": {
    "id": "3ddaa825-ad36-4b6d-93bf-cae7a69fc10e"
   },
   "source": [
    "Embedding vectors are one of the basic ingredients in the top performing models that are all the rage nowadays. They have already been mentioned in the preceding lecture. In general, an **embedding** is a representation of a piece of information, such as a word, a sentence or an image, as a vector in a space of a given dimension. Typical **embedding dimensions**, for the embedding models that you can manage in your computer, are 384, 512, 768 and 1,024. Nevertheless, the large language models that we use in a remote way, such as GPT-4 or Gemini, work with higher embedding dimensions.\n",
    "\n",
    "For an embedding to be useful, \"similar\" pieces of information must be represented by vectors that are close in a geometric sense (the distance between the endpoints, or the angle). For instance, in a word embedding, words with similar meanings, such as 'nice' and 'beautiful', will be represented by close vectors. Unrelated words, such as 'computer' and 'dog', will be represented by non-close vectors.\n",
    "\n",
    "When we use an ML model to create embedding vectors associated to images or texts, we say that we are *encoding* them. In particular, we use **large language models** (LLMs) for that purpose in the last two lectures."
   ]
  },
  {
   "cell_type": "markdown",
   "id": "b59c90d6-37a3-4e1e-84ca-b8c764982307",
   "metadata": {
    "id": "b59c90d6-37a3-4e1e-84ca-b8c764982307"
   },
   "source": [
    "## Applications of embeddings"
   ]
  },
  {
   "cell_type": "markdown",
   "id": "3cc95be5-c9df-4690-87e8-ee0a1fb738e6",
   "metadata": {
    "id": "3cc95be5-c9df-4690-87e8-ee0a1fb738e6"
   },
   "source": [
    "Applications of embeddings have already appeared in the examples of this course, though they were not presented in that way:\n",
    "\n",
    "* In lecture ML-07, we encoded the MINST data with a CNN model. The convolutional base of that model can be seen as an **embedding model** providing a representation of dimension 576 of the digit images.\n",
    "\n",
    "* In lecture ML-08, we encoded the dogs and cats images with the model VGG16. The embedding dimension was 8,192.\n",
    "\n",
    "Two additional forthcoming examples are:\n",
    "\n",
    "* The example of this lecture uses an LLM to encode news titles. The embedding representation, of dimension 384, provides the features for **fake news detection**, which is a binary classification task.\n",
    "\n",
    "* In the example of the next lecture, the same embedding model is used to encode tweets for **sentiment analysis**.\n",
    "\n",
    "In these last two examples, the embedding provides a special type of **feature engineering**, extracting the features from the text. Embedding representations can be also instrumental in semantic search, clustering, recommendation, outlier detection and other applications, but we have no room for more in this course."
   ]
  },
  {
   "cell_type": "markdown",
   "id": "378d5857-efd5-443e-9237-4e0f447f9791",
   "metadata": {
    "id": "378d5857-efd5-443e-9237-4e0f447f9791"
   },
   "source": [
    "## Text embeddings"
   ]
  },
  {
   "cell_type": "markdown",
   "id": "45541bbe-0fd7-4536-92f4-da820ae232a2",
   "metadata": {
    "id": "45541bbe-0fd7-4536-92f4-da820ae232a2"
   },
   "source": [
    "We have already seen **image embeddings** in this course. They were based on CNN models (not the only option). We focus now on **text embeddings**. Text embedding models can operate at different levels: character, word, etc.\n",
    "\n",
    "**Word embeddings** gave a strong push to natural language processing in 2013, when Google released **Word2Vec**. A word embedding consists of a list of words, called **vocabulary** (also dictionary), and the corresponding list of vectors, all of the same length. Word2Vec was not a single embedding, but a methodology allowing the choice of different options, among them the embedding dimension.\n",
    "\n",
    "Even if word embeddings were a big step forward, models based on them have a strong limitation, that the vector associated to a word, which should embody its meaning, is fixed. But the meaning of a word is not fixed, it depends on the context, that is, on the other words in the sentence. See the following example:\n",
    "\n",
    "* I got money from the *bank*.\n",
    "\n",
    "* The boat hit the river *bank*.\n",
    "\n",
    "The order of the words also affects the meaning of the sentence, as we see in:\n",
    "\n",
    "* He *only* said \"I love you\" (he said nothing else).\n",
    "\n",
    "* He said \"I love *only* you\" (he doesn't love any one else).\n",
    "\n",
    "After various attempts, Google came up in 2018 with a model called **BERT**, which they used to improve their Internet engine search. BERT has a vocabulary of **tokens**, with the corresponding embedding vectors. A token is a substring, which does not always match a word (*e.g*. the word 'really' can be split in two tokens, 'real' and 'ly'). We'll say something else about tokens in the next lecture.\n",
    "\n",
    "BERT splits the input text in a sequence of tokens and forms the corresponding sequence of vectors. Then, it modifies these input vectors to make them **contextual**, that is, dependent on the other tokens and their order in the text. For most applications, these contextual embedding vectors are averaged to get a single embedding vector for the whole input string. What is called nowadays an embedding model does exactly this: it takes a string and returns a vector. \n",
    "\n",
    "BERT was based on a network architecture called the **transformer**. Though the original BERT is probably no longer active, the embedding models currently provided by the AI industry are more or less based on BERT. In this lecture, we use a model developed by Microsoft, which like a smaller version of BERT, derived from the original BERT by means of a technique called **deep self-attention distillation**."
   ]
  },
  {
   "cell_type": "markdown",
   "id": "724493e8-cfc2-4bf0-a2c4-21bbd47a3909",
   "metadata": {
    "id": "724493e8-cfc2-4bf0-a2c4-21bbd47a3909"
   },
   "source": [
    "## Ollama"
   ]
  },
  {
   "cell_type": "markdown",
   "id": "eab7026e-a6d1-401b-9e1c-d6cac62765cf",
   "metadata": {
    "id": "eab7026e-a6d1-401b-9e1c-d6cac62765cf"
   },
   "source": [
    "**Ollama** is an application which can be used for managing LLMs locally, that is, in your computer. With Ollama, you can install the top popular open source models. Some them, like `gpt-oss`, `deepseek-r1` or `llama3`, may sound familiar to you. But these are models for text generation, not for embedding, which is what we are coincerned with in this lecture. Information on the embedding models available in the Ollama platform in `https://ollama.com/search?c=embedding`.\n",
    "\n",
    "To install Ollama in your computer, go to `https://ollama.com` and follow the indications. Once you have it running in your computer (it runs in the background, you don't have to \"open\" it), go to the shell to pull the model that we use in this lecture from the Ollama repo with:\n",
    "```\n",
    "ollama pull all-minilm:33m\n",
    "```\n",
    "\n",
    "The embedding model `all-minilm:33m` is a small one, often used for tutorials. The embedding dimension is 384, one half of 768, which is a legacy of older models (apparently GPT-2 and other ancestors were using size 768 for various reasons), but this number has nothing special. You can check that everything is OK with:\n",
    "\n",
    "```\n",
    "ollama list\n",
    "```\n",
    "\n",
    "Next, you can install the Python package to manage the Ollama models in the usual way:\n",
    "\n",
    "```\n",
    "pip install ollama\n",
    "```\n",
    "\n",
    "Now, you are ready for the example."
   ]
  },
  {
   "cell_type": "markdown",
   "id": "45c74858-66c4-4086-9a6f-f74a6131d892",
   "metadata": {
    "id": "45c74858-66c4-4086-9a6f-f74a6131d892"
   },
   "source": [
    "## Example - Fake news detection"
   ]
  },
  {
   "cell_type": "markdown",
   "id": "b98e0a3a-c9e7-46c6-b45b-bd88bf54663f",
   "metadata": {
    "id": "b98e0a3a-c9e7-46c6-b45b-bd88bf54663f"
   },
   "source": [
    "### Introduction"
   ]
  },
  {
   "cell_type": "markdown",
   "id": "bdbfc6c1-fe18-4bec-ba9e-df33e12feba3",
   "metadata": {
    "id": "bdbfc6c1-fe18-4bec-ba9e-df33e12feba3"
   },
   "source": [
    "**Social media** is a vast pool of content, and among all the content available for users to access, news is an element that is accessed most frequently. News can be posted by politicians, news channels, newspaper websites, or even common civilians. The posts should be checked for their authenticity, since spreading misinformation has been a real concern in today's times, and many firms are taking steps to make the common people aware of the consequences of spreading misinformation. The measure of authenticity of the news posted online cannot be definitively measured, since the manual classification of news is tedious and time-consuming, and also subject to bias.\n",
    "\n",
    "In an era where fake WhatsApp forwards and tweets (now *X* posts) are capable of influencing naive minds, tools and knowledge have to be put to practical use in not only mitigating the spread of misinformation but also to inform people about the type of news they consume. Fact-checking websites, built-in plugins and article parsers should be refined, made easier to access and, more importantly, there should be more awareness about this question.\n",
    "\n",
    "Several data sets have been released for training and benchmarking **fake news detection** models. This example uses data released in 2018 by William Lifferth, for a Kaggle competition. The news included are from the **Trump vs Clinton** times, so the models obtained should not be expected to work in other contexts."
   ]
  },
  {
   "cell_type": "markdown",
   "id": "474f1856-07c2-4552-8793-6f681e3ff5d0",
   "metadata": {
    "id": "474f1856-07c2-4552-8793-6f681e3ff5d0"
   },
   "source": [
    "### The data set"
   ]
  },
  {
   "cell_type": "markdown",
   "id": "745773e5-c149-45bb-b220-b37c7385f747",
   "metadata": {
    "id": "745773e5-c149-45bb-b220-b37c7385f747"
   },
   "source": [
    "The data set, containing 20,800 news articles, has been split in two parts, which come in the files `fake1.csv` and `fake2.csv` (zipped). The columns are:\n",
    "\n",
    "* `id`, unique identifier for the article. Just a counter.\n",
    "\n",
    "* `title`, the title of the article, with some missing values.\n",
    "\n",
    "* `author`, the author of the article, with some missing values.\n",
    "\n",
    "* `text`, the text of the article, with some missing values. The text could be incomplete.\n",
    "\n",
    "* `label`, a label that marks the article as potentially unreliable.\n",
    "\n",
    "Source: William Lifferth (2018), *Fake News Kaggle*, `https://kaggle.com/competitions/fake-news`."
   ]
  },
  {
   "cell_type": "markdown",
   "id": "04b8c54f-b77e-40d0-82f0-f37459edd071",
   "metadata": {
    "id": "04b8c54f-b77e-40d0-82f0-f37459edd071"
   },
   "source": [
    "### Questions"
   ]
  },
  {
   "cell_type": "markdown",
   "id": "071a1eca-edf0-470e-ba0d-049b3040f6f4",
   "metadata": {
    "id": "071a1eca-edf0-470e-ba0d-049b3040f6f4"
   },
   "source": [
    "Q1. Clean the data, dropping the author (our model will not use this) and the articles with missing title or text.\n",
    "\n",
    "Q2. Encode the titles using a **text embedding model**. Pack the embedding vectors in a matrix so every row corresponds to one article.\n",
    "\n",
    "Q3. Using this matrix as the features matrix, train a **logistic regression model** for fake news detection.\n",
    "\n",
    "Q4. Take a look at the distribution of the **predictive scores**."
   ]
  },
  {
   "cell_type": "markdown",
   "id": "e9307ffd-f501-48f8-b579-fa28036ca27b",
   "metadata": {
    "id": "e9307ffd-f501-48f8-b579-fa28036ca27b"
   },
   "source": [
    "### Importing the data"
   ]
  },
  {
   "cell_type": "markdown",
   "id": "2149821d-40c7-432b-a4d1-6b01972a872e",
   "metadata": {
    "id": "2149821d-40c7-432b-a4d1-6b01972a872e"
   },
   "source": [
    "Assuming that the Ollama stuff is ready, we import the data, as two Pandas data frames, from our GitHub repository. Then we concatenate the two parts to get a single data frame. We set the column `id` as the index."
   ]
  },
  {
   "cell_type": "code",
   "execution_count": 1,
   "id": "619d53b2-e1fe-4ee7-b103-dac1cc98830d",
   "metadata": {
    "executionInfo": {
     "elapsed": 2659,
     "status": "ok",
     "timestamp": 1756401619903,
     "user": {
      "displayName": "Miguel Canela",
      "userId": "09064324588213677282"
     },
     "user_tz": -120
    },
    "id": "619d53b2-e1fe-4ee7-b103-dac1cc98830d"
   },
   "outputs": [],
   "source": [
    "import pandas as pd\n",
    "path = 'https://raw.githubusercontent.com/lab30041954/Data/main/'\n",
    "df1 = pd.read_csv(path + 'fake1.csv.zip', index_col=0)\n",
    "df2 = pd.read_csv(path + 'fake2.csv.zip', index_col=0)\n",
    "df = pd.concat([df1, df2], axis=0)"
   ]
  },
  {
   "cell_type": "markdown",
   "id": "d3i5vxMqsfwt",
   "metadata": {
    "id": "d3i5vxMqsfwt"
   },
   "source": [
    "We explore this as usual."
   ]
  },
  {
   "cell_type": "code",
   "execution_count": 2,
   "id": "f7ca83ca-12a0-4921-bf55-495388c9f185",
   "metadata": {
    "colab": {
     "base_uri": "https://localhost:8080/"
    },
    "executionInfo": {
     "elapsed": 41,
     "status": "ok",
     "timestamp": 1756401649186,
     "user": {
      "displayName": "Miguel Canela",
      "userId": "09064324588213677282"
     },
     "user_tz": -120
    },
    "id": "f7ca83ca-12a0-4921-bf55-495388c9f185",
    "outputId": "a1e722fc-a4bc-4f57-cab8-5477d8f27c5e"
   },
   "outputs": [
    {
     "name": "stdout",
     "output_type": "stream",
     "text": [
      "<class 'pandas.core.frame.DataFrame'>\n",
      "Index: 20800 entries, 0 to 20799\n",
      "Data columns (total 4 columns):\n",
      " #   Column  Non-Null Count  Dtype \n",
      "---  ------  --------------  ----- \n",
      " 0   title   20242 non-null  object\n",
      " 1   author  18843 non-null  object\n",
      " 2   text    20761 non-null  object\n",
      " 3   label   20800 non-null  int64 \n",
      "dtypes: int64(1), object(3)\n",
      "memory usage: 812.5+ KB\n"
     ]
    }
   ],
   "source": [
    "df.info()"
   ]
  },
  {
   "cell_type": "markdown",
   "id": "5f454893-a0ef-4bd5-9de8-17e06d5787bd",
   "metadata": {
    "id": "5f454893-a0ef-4bd5-9de8-17e06d5787bd"
   },
   "source": [
    "As shown in the report above, we have data on 20,800 articles, but only the labels are complete. The articles with missing title must discarded for this example.\n",
    "\n",
    "This is how the data look like, so far."
   ]
  },
  {
   "cell_type": "code",
   "execution_count": 3,
   "id": "370d6faa-5c1d-468a-8f3e-8ad86fa5349d",
   "metadata": {
    "colab": {
     "base_uri": "https://localhost:8080/",
     "height": 238
    },
    "executionInfo": {
     "elapsed": 536,
     "status": "ok",
     "timestamp": 1756401705593,
     "user": {
      "displayName": "Miguel Canela",
      "userId": "09064324588213677282"
     },
     "user_tz": -120
    },
    "id": "370d6faa-5c1d-468a-8f3e-8ad86fa5349d",
    "outputId": "8a9f1d4e-98cb-4cd9-eaf6-efe5a9b9392b"
   },
   "outputs": [
    {
     "data": {
      "text/html": [
       "<div>\n",
       "<style scoped>\n",
       "    .dataframe tbody tr th:only-of-type {\n",
       "        vertical-align: middle;\n",
       "    }\n",
       "\n",
       "    .dataframe tbody tr th {\n",
       "        vertical-align: top;\n",
       "    }\n",
       "\n",
       "    .dataframe thead th {\n",
       "        text-align: right;\n",
       "    }\n",
       "</style>\n",
       "<table border=\"1\" class=\"dataframe\">\n",
       "  <thead>\n",
       "    <tr style=\"text-align: right;\">\n",
       "      <th></th>\n",
       "      <th>title</th>\n",
       "      <th>author</th>\n",
       "      <th>text</th>\n",
       "      <th>label</th>\n",
       "    </tr>\n",
       "    <tr>\n",
       "      <th>id</th>\n",
       "      <th></th>\n",
       "      <th></th>\n",
       "      <th></th>\n",
       "      <th></th>\n",
       "    </tr>\n",
       "  </thead>\n",
       "  <tbody>\n",
       "    <tr>\n",
       "      <th>0</th>\n",
       "      <td>House Dem Aide: We Didn’t Even See Comey’s Let...</td>\n",
       "      <td>Darrell Lucus</td>\n",
       "      <td>House Dem Aide: We Didn’t Even See Comey’s Let...</td>\n",
       "      <td>1</td>\n",
       "    </tr>\n",
       "    <tr>\n",
       "      <th>1</th>\n",
       "      <td>FLYNN: Hillary Clinton, Big Woman on Campus - ...</td>\n",
       "      <td>Daniel J. Flynn</td>\n",
       "      <td>Ever get the feeling your life circles the rou...</td>\n",
       "      <td>0</td>\n",
       "    </tr>\n",
       "    <tr>\n",
       "      <th>2</th>\n",
       "      <td>Why the Truth Might Get You Fired</td>\n",
       "      <td>Consortiumnews.com</td>\n",
       "      <td>Why the Truth Might Get You Fired October 29, ...</td>\n",
       "      <td>1</td>\n",
       "    </tr>\n",
       "    <tr>\n",
       "      <th>3</th>\n",
       "      <td>15 Civilians Killed In Single US Airstrike Hav...</td>\n",
       "      <td>Jessica Purkiss</td>\n",
       "      <td>Videos 15 Civilians Killed In Single US Airstr...</td>\n",
       "      <td>1</td>\n",
       "    </tr>\n",
       "    <tr>\n",
       "      <th>4</th>\n",
       "      <td>Iranian woman jailed for fictional unpublished...</td>\n",
       "      <td>Howard Portnoy</td>\n",
       "      <td>Print \\nAn Iranian woman has been sentenced to...</td>\n",
       "      <td>1</td>\n",
       "    </tr>\n",
       "  </tbody>\n",
       "</table>\n",
       "</div>"
      ],
      "text/plain": [
       "                                                title              author  \\\n",
       "id                                                                          \n",
       "0   House Dem Aide: We Didn’t Even See Comey’s Let...       Darrell Lucus   \n",
       "1   FLYNN: Hillary Clinton, Big Woman on Campus - ...     Daniel J. Flynn   \n",
       "2                   Why the Truth Might Get You Fired  Consortiumnews.com   \n",
       "3   15 Civilians Killed In Single US Airstrike Hav...     Jessica Purkiss   \n",
       "4   Iranian woman jailed for fictional unpublished...      Howard Portnoy   \n",
       "\n",
       "                                                 text  label  \n",
       "id                                                            \n",
       "0   House Dem Aide: We Didn’t Even See Comey’s Let...      1  \n",
       "1   Ever get the feeling your life circles the rou...      0  \n",
       "2   Why the Truth Might Get You Fired October 29, ...      1  \n",
       "3   Videos 15 Civilians Killed In Single US Airstr...      1  \n",
       "4   Print \\nAn Iranian woman has been sentenced to...      1  "
      ]
     },
     "execution_count": 3,
     "metadata": {},
     "output_type": "execute_result"
    }
   ],
   "source": [
    "df.head()"
   ]
  },
  {
   "cell_type": "markdown",
   "id": "3673b464-8295-4baf-a01a-4e5a5c4558ac",
   "metadata": {
    "id": "3673b464-8295-4baf-a01a-4e5a5c4558ac"
   },
   "source": [
    "## Q1. Cleaning the data"
   ]
  },
  {
   "cell_type": "markdown",
   "id": "a8271801-001f-4a7d-aca6-4113e3970fef",
   "metadata": {
    "id": "a8271801-001f-4a7d-aca6-4113e3970fef"
   },
   "source": [
    "We clean the data set as suggested, deleting the rows with missing values with the method `.dropna()`."
   ]
  },
  {
   "cell_type": "code",
   "execution_count": 4,
   "id": "959a18d4-2e37-4845-9785-4c83ff300f7e",
   "metadata": {
    "colab": {
     "base_uri": "https://localhost:8080/"
    },
    "executionInfo": {
     "elapsed": 46,
     "status": "ok",
     "timestamp": 1756401773049,
     "user": {
      "displayName": "Miguel Canela",
      "userId": "09064324588213677282"
     },
     "user_tz": -120
    },
    "id": "959a18d4-2e37-4845-9785-4c83ff300f7e",
    "outputId": "e2accaf8-b4b1-4172-8e45-c7931e77cdae"
   },
   "outputs": [
    {
     "name": "stdout",
     "output_type": "stream",
     "text": [
      "<class 'pandas.core.frame.DataFrame'>\n",
      "Index: 20203 entries, 0 to 20799\n",
      "Data columns (total 3 columns):\n",
      " #   Column  Non-Null Count  Dtype \n",
      "---  ------  --------------  ----- \n",
      " 0   title   20203 non-null  object\n",
      " 1   text    20203 non-null  object\n",
      " 2   label   20203 non-null  int64 \n",
      "dtypes: int64(1), object(2)\n",
      "memory usage: 631.3+ KB\n"
     ]
    }
   ],
   "source": [
    "df = df.drop(columns=['author']).dropna()\n",
    "df.info()"
   ]
  },
  {
   "cell_type": "markdown",
   "id": "1b8adadc-f41b-4088-94ca-c67d3d61bd26",
   "metadata": {
    "id": "1b8adadc-f41b-4088-94ca-c67d3d61bd26"
   },
   "source": [
    "With the method `.describe()`, we create a summary for the length (number of characters) of titles and texts. This shows that some of the articles should be filtered out if the detection were to be based on the text (we leave that for the homework)."
   ]
  },
  {
   "cell_type": "code",
   "execution_count": 5,
   "id": "74ac26a9-5bd2-438e-be0e-636f1f0bdd02",
   "metadata": {
    "colab": {
     "base_uri": "https://localhost:8080/",
     "height": 300
    },
    "executionInfo": {
     "elapsed": 29,
     "status": "ok",
     "timestamp": 1756401843860,
     "user": {
      "displayName": "Miguel Canela",
      "userId": "09064324588213677282"
     },
     "user_tz": -120
    },
    "id": "74ac26a9-5bd2-438e-be0e-636f1f0bdd02",
    "outputId": "c647f4ac-5648-42f8-bde8-f52e36d8964d"
   },
   "outputs": [
    {
     "data": {
      "text/html": [
       "<div>\n",
       "<style scoped>\n",
       "    .dataframe tbody tr th:only-of-type {\n",
       "        vertical-align: middle;\n",
       "    }\n",
       "\n",
       "    .dataframe tbody tr th {\n",
       "        vertical-align: top;\n",
       "    }\n",
       "\n",
       "    .dataframe thead th {\n",
       "        text-align: right;\n",
       "    }\n",
       "</style>\n",
       "<table border=\"1\" class=\"dataframe\">\n",
       "  <thead>\n",
       "    <tr style=\"text-align: right;\">\n",
       "      <th></th>\n",
       "      <th>title</th>\n",
       "      <th>text</th>\n",
       "    </tr>\n",
       "  </thead>\n",
       "  <tbody>\n",
       "    <tr>\n",
       "      <th>count</th>\n",
       "      <td>20203.000000</td>\n",
       "      <td>20203.000000</td>\n",
       "    </tr>\n",
       "    <tr>\n",
       "      <th>mean</th>\n",
       "      <td>74.275603</td>\n",
       "      <td>4668.044251</td>\n",
       "    </tr>\n",
       "    <tr>\n",
       "      <th>std</th>\n",
       "      <td>23.135718</td>\n",
       "      <td>5151.439764</td>\n",
       "    </tr>\n",
       "    <tr>\n",
       "      <th>min</th>\n",
       "      <td>3.000000</td>\n",
       "      <td>1.000000</td>\n",
       "    </tr>\n",
       "    <tr>\n",
       "      <th>25%</th>\n",
       "      <td>60.000000</td>\n",
       "      <td>1747.000000</td>\n",
       "    </tr>\n",
       "    <tr>\n",
       "      <th>50%</th>\n",
       "      <td>75.000000</td>\n",
       "      <td>3495.000000</td>\n",
       "    </tr>\n",
       "    <tr>\n",
       "      <th>75%</th>\n",
       "      <td>88.000000</td>\n",
       "      <td>6364.000000</td>\n",
       "    </tr>\n",
       "    <tr>\n",
       "      <th>max</th>\n",
       "      <td>456.000000</td>\n",
       "      <td>142961.000000</td>\n",
       "    </tr>\n",
       "  </tbody>\n",
       "</table>\n",
       "</div>"
      ],
      "text/plain": [
       "              title           text\n",
       "count  20203.000000   20203.000000\n",
       "mean      74.275603    4668.044251\n",
       "std       23.135718    5151.439764\n",
       "min        3.000000       1.000000\n",
       "25%       60.000000    1747.000000\n",
       "50%       75.000000    3495.000000\n",
       "75%       88.000000    6364.000000\n",
       "max      456.000000  142961.000000"
      ]
     },
     "execution_count": 5,
     "metadata": {},
     "output_type": "execute_result"
    }
   ],
   "source": [
    "pd.concat([df['title'].str.len(), df['text'].str.len()], axis=1).describe()"
   ]
  },
  {
   "cell_type": "markdown",
   "id": "5fc3acb4-e891-4250-931e-42111c4a9007",
   "metadata": {
    "id": "5fc3acb4-e891-4250-931e-42111c4a9007"
   },
   "source": [
    "Some very short titles may be expected to be deficient, but we don't find them so. So, we keep them."
   ]
  },
  {
   "cell_type": "code",
   "execution_count": 6,
   "id": "5a5acd8b-cc30-4bbb-9705-a0621bd2553d",
   "metadata": {
    "colab": {
     "base_uri": "https://localhost:8080/",
     "height": 210
    },
    "executionInfo": {
     "elapsed": 3,
     "status": "ok",
     "timestamp": 1756401850633,
     "user": {
      "displayName": "Miguel Canela",
      "userId": "09064324588213677282"
     },
     "user_tz": -120
    },
    "id": "5a5acd8b-cc30-4bbb-9705-a0621bd2553d",
    "outputId": "2e477fb6-0604-4e0c-fadf-db45fec9c7e7"
   },
   "outputs": [
    {
     "data": {
      "text/plain": [
       "id\n",
       "2561     Wow!\n",
       "15728     Rum\n",
       "17081    EPIC\n",
       "Name: title, dtype: object"
      ]
     },
     "execution_count": 6,
     "metadata": {},
     "output_type": "execute_result"
    }
   ],
   "source": [
    "df['title'][df['title'].str.len() < 5]"
   ]
  },
  {
   "cell_type": "markdown",
   "id": "11b77562-2e85-4a97-bedd-afb0ec4bfd28",
   "metadata": {
    "id": "11b77562-2e85-4a97-bedd-afb0ec4bfd28"
   },
   "source": [
    "48.6% of the articles come labeled as fake, so the data set is quite balanced. It makes sense to use the **accuracy** to evaluate the model."
   ]
  },
  {
   "cell_type": "code",
   "execution_count": 7,
   "id": "c8a2d45b-3bc9-47b0-885b-77a557c58899",
   "metadata": {
    "colab": {
     "base_uri": "https://localhost:8080/"
    },
    "executionInfo": {
     "elapsed": 3,
     "status": "ok",
     "timestamp": 1756401856324,
     "user": {
      "displayName": "Miguel Canela",
      "userId": "09064324588213677282"
     },
     "user_tz": -120
    },
    "id": "c8a2d45b-3bc9-47b0-885b-77a557c58899",
    "outputId": "f5ceea64-b102-4a8c-f0d2-4a938cb51dc2"
   },
   "outputs": [
    {
     "data": {
      "text/plain": [
       "np.float64(0.486)"
      ]
     },
     "execution_count": 7,
     "metadata": {},
     "output_type": "execute_result"
    }
   ],
   "source": [
    "round(df['label'].mean(), 3)"
   ]
  },
  {
   "cell_type": "markdown",
   "id": "9cc7e56a-dbf5-47aa-8aaf-25a4a6aaec15",
   "metadata": {
    "id": "9cc7e56a-dbf5-47aa-8aaf-25a4a6aaec15"
   },
   "source": [
    "## Q2. Encoding the titles"
   ]
  },
  {
   "cell_type": "markdown",
   "id": "mV7vH-sUtcnf",
   "metadata": {
    "id": "mV7vH-sUtcnf"
   },
   "source": [
    "We import the appropriate function from the package `ollama`."
   ]
  },
  {
   "cell_type": "code",
   "execution_count": 8,
   "id": "44547ff7-5cfe-4d4a-abf4-f239b23559d1",
   "metadata": {
    "colab": {
     "base_uri": "https://localhost:8080/",
     "height": 322
    },
    "executionInfo": {
     "elapsed": 41,
     "status": "error",
     "timestamp": 1756401942069,
     "user": {
      "displayName": "Miguel Canela",
      "userId": "09064324588213677282"
     },
     "user_tz": -120
    },
    "id": "44547ff7-5cfe-4d4a-abf4-f239b23559d1",
    "outputId": "3ca2ac68-a6c3-4df6-9640-dd699551b96d"
   },
   "outputs": [],
   "source": [
    "from ollama import embed"
   ]
  },
  {
   "cell_type": "markdown",
   "id": "3ec247e2-fe79-462f-bba9-d79183900c67",
   "metadata": {
    "id": "3ec247e2-fe79-462f-bba9-d79183900c67"
   },
   "source": [
    "The input text has to be inputted as a list to the `ollama` function `embed()`, so we convert the column `title` of our data set to a list."
   ]
  },
  {
   "cell_type": "code",
   "execution_count": 9,
   "id": "c78bfdd4-dfaa-4be5-bc57-6f83c289efb9",
   "metadata": {
    "id": "c78bfdd4-dfaa-4be5-bc57-6f83c289efb9"
   },
   "outputs": [],
   "source": [
    "titles = df['title'].tolist()"
   ]
  },
  {
   "cell_type": "markdown",
   "id": "1760fddc-abb5-4fa1-91f1-8fc3236d632a",
   "metadata": {},
   "source": [
    "This function returns an object that contains the embedding vectors plus metadata which will not be used here."
   ]
  },
  {
   "cell_type": "code",
   "execution_count": 10,
   "id": "a899fec1-b113-45de-a377-6bfe23eb5c02",
   "metadata": {
    "id": "a899fec1-b113-45de-a377-6bfe23eb5c02",
    "outputId": "91848d13-f758-4f5c-a0e5-06df64c17764"
   },
   "outputs": [
    {
     "data": {
      "text/plain": [
       "ollama._types.EmbedResponse"
      ]
     },
     "execution_count": 10,
     "metadata": {},
     "output_type": "execute_result"
    }
   ],
   "source": [
    "embeds = embed(model='all-minilm:33m', input=titles)\n",
    "type(embeds)"
   ]
  },
  {
   "cell_type": "markdown",
   "id": "b91f7d38-57f1-4877-8cb5-3407596fda8a",
   "metadata": {},
   "source": [
    "We extract the vectors as the attribute `embeddings`."
   ]
  },
  {
   "cell_type": "code",
   "execution_count": 11,
   "id": "099d29db-7f4f-46fa-b670-6fb2fb3cfaf2",
   "metadata": {
    "id": "099d29db-7f4f-46fa-b670-6fb2fb3cfaf2"
   },
   "outputs": [],
   "source": [
    "embeds = embeds.embeddings"
   ]
  },
  {
   "cell_type": "markdown",
   "id": "a30dc5c3-19aa-449d-9c72-e2924712981a",
   "metadata": {},
   "source": [
    "Now, `embeds` is a list of length 20,203, with one item for every data point."
   ]
  },
  {
   "cell_type": "code",
   "execution_count": null,
   "id": "4857b804-a45c-44b9-a183-32bc72f2c885",
   "metadata": {
    "id": "4857b804-a45c-44b9-a183-32bc72f2c885",
    "outputId": "b4531c5c-06b5-4574-a402-d7f2f481db0f"
   },
   "outputs": [
    {
     "data": {
      "text/plain": [
       "20203"
      ]
     },
     "execution_count": 37,
     "metadata": {},
     "output_type": "execute_result"
    }
   ],
   "source": [
    "len(embeds)"
   ]
  },
  {
   "cell_type": "markdown",
   "id": "8de8b939-6be8-48d3-82be-efae6219fa8b",
   "metadata": {},
   "source": [
    "Every item is a list containing the 384 terms of an embedding vector."
   ]
  },
  {
   "cell_type": "code",
   "execution_count": 12,
   "id": "5ff08f81-b283-4fef-bc18-1682cfb19f80",
   "metadata": {
    "id": "5ff08f81-b283-4fef-bc18-1682cfb19f80",
    "outputId": "f3f90fdd-8fae-4ef7-e242-3b9d96ee6f61"
   },
   "outputs": [
    {
     "data": {
      "text/plain": [
       "384"
      ]
     },
     "execution_count": 12,
     "metadata": {},
     "output_type": "execute_result"
    }
   ],
   "source": [
    "len(embeds[0])"
   ]
  },
  {
   "cell_type": "markdown",
   "id": "cf5a499a-bda8-4d37-a1e3-ce1a93e2dd4a",
   "metadata": {
    "id": "cf5a499a-bda8-4d37-a1e3-ce1a93e2dd4a"
   },
   "source": [
    "### Q3. Logistic regression model"
   ]
  },
  {
   "cell_type": "markdown",
   "id": "34fbb0b5-ea69-4f82-ae37-d6f85990b43d",
   "metadata": {
    "id": "34fbb0b5-ea69-4f82-ae37-d6f85990b43d"
   },
   "source": [
    "To get a predictive model, we follow the usual steps. We specify the target vector as the ´label` column of our data set, filling the features matrix with the embedding vectors. We maintain the notation for consistency with previous examples."
   ]
  },
  {
   "cell_type": "code",
   "execution_count": 13,
   "id": "c789183b-ab90-4bc2-93d2-d7bae907e05c",
   "metadata": {
    "id": "c789183b-ab90-4bc2-93d2-d7bae907e05c"
   },
   "outputs": [],
   "source": [
    "import numpy as np\n",
    "y = df['label']\n",
    "X = np.array(embeds)"
   ]
  },
  {
   "cell_type": "markdown",
   "id": "c92afe5e-9aa4-49c3-8294-349a166650f7",
   "metadata": {
    "id": "c92afe5e-9aa4-49c3-8294-349a166650f7"
   },
   "source": [
    "Not that every row in `X`is the embedding vector for the corresponding title. "
   ]
  },
  {
   "cell_type": "code",
   "execution_count": 14,
   "id": "6435cff5-e238-4db8-a211-1eafa7c5762e",
   "metadata": {
    "id": "6435cff5-e238-4db8-a211-1eafa7c5762e",
    "outputId": "749b688f-fce8-4b7c-baf7-7f68894192c7"
   },
   "outputs": [
    {
     "data": {
      "text/plain": [
       "(20203, 384)"
      ]
     },
     "execution_count": 14,
     "metadata": {},
     "output_type": "execute_result"
    }
   ],
   "source": [
    "X.shape"
   ]
  },
  {
   "cell_type": "markdown",
   "id": "b8140f2f-3e86-4c9a-9306-fd72b16a2eed",
   "metadata": {
    "id": "b8140f2f-3e86-4c9a-9306-fd72b16a2eed"
   },
   "source": [
    "We initialize an estimator from the scikit-learn class `LogisticRegression`. The defaut number of iterations will be enough, because the embedding vectors extracted by this model are normalized (length one)."
   ]
  },
  {
   "cell_type": "code",
   "execution_count": 15,
   "id": "1debd97b-c2d2-4eac-aaf5-c79698c19e5a",
   "metadata": {
    "id": "1debd97b-c2d2-4eac-aaf5-c79698c19e5a"
   },
   "outputs": [],
   "source": [
    "from sklearn.linear_model import LogisticRegression\n",
    "clf = LogisticRegression()"
   ]
  },
  {
   "cell_type": "markdown",
   "id": "eb14c014-cbb4-4035-a751-89231666630e",
   "metadata": {
    "id": "eb14c014-cbb4-4035-a751-89231666630e"
   },
   "source": [
    "We apply the methods `.fit()` and `.score()` as usual. Nothing new here. The accuracy is 90.4%, which is quite satisfactory, though we cannot take this out of context. Nevertheless, this figure can be improved with better encoders that use higher embedding dimensions (the encoding process will be slower then). There are some suggestions in the homework."
   ]
  },
  {
   "cell_type": "code",
   "execution_count": 16,
   "id": "9f7e23bb-a8c3-4ad5-8918-fe6adc74a4c2",
   "metadata": {
    "id": "9f7e23bb-a8c3-4ad5-8918-fe6adc74a4c2",
    "outputId": "4fb1f42f-c62d-479a-8bd3-705f25417019"
   },
   "outputs": [
    {
     "data": {
      "text/plain": [
       "0.904"
      ]
     },
     "execution_count": 16,
     "metadata": {},
     "output_type": "execute_result"
    }
   ],
   "source": [
    "clf.fit(X, y)\n",
    "round(clf.score(X, y), 3)"
   ]
  },
  {
   "cell_type": "markdown",
   "id": "4ba8aa26-b533-4fee-8c5a-e393e7a50992",
   "metadata": {
    "id": "4ba8aa26-b533-4fee-8c5a-e393e7a50992"
   },
   "source": [
    "The predicted class can be calculated as usual."
   ]
  },
  {
   "cell_type": "code",
   "execution_count": 17,
   "id": "2dc07b8e-4b7d-425d-a500-4a1a489187b7",
   "metadata": {
    "id": "2dc07b8e-4b7d-425d-a500-4a1a489187b7"
   },
   "outputs": [],
   "source": [
    "y_pred = clf.predict(X)"
   ]
  },
  {
   "cell_type": "markdown",
   "id": "d244f586-1611-403f-8ff6-8e095b57ba86",
   "metadata": {
    "id": "d244f586-1611-403f-8ff6-8e095b57ba86"
   },
   "source": [
    "Now, the **confusion matrix** shows that the model gives more false positives than false negatives."
   ]
  },
  {
   "cell_type": "code",
   "execution_count": 18,
   "id": "52e54fab-7788-4379-87fb-eea14ebe12f7",
   "metadata": {
    "id": "52e54fab-7788-4379-87fb-eea14ebe12f7",
    "outputId": "892ffaaa-1529-4b4b-f8e2-b7d5908551f5"
   },
   "outputs": [
    {
     "data": {
      "text/plain": [
       "array([[9221, 1166],\n",
       "       [ 770, 9046]])"
      ]
     },
     "execution_count": 18,
     "metadata": {},
     "output_type": "execute_result"
    }
   ],
   "source": [
    "from sklearn.metrics import confusion_matrix\n",
    "confusion_matrix(y, y_pred)"
   ]
  },
  {
   "cell_type": "markdown",
   "id": "f21775cd-b235-487b-af4d-f10ce56b452a",
   "metadata": {
    "id": "f21775cd-b235-487b-af4d-f10ce56b452a"
   },
   "source": [
    "### Q4. Distribution of the predictive scores"
   ]
  },
  {
   "cell_type": "markdown",
   "id": "41c1a94a-fe9f-4a5d-a8b8-3fe1dd7b224d",
   "metadata": {
    "id": "41c1a94a-fe9f-4a5d-a8b8-3fe1dd7b224d"
   },
   "source": [
    "This section does not contain anything new from a methodological point of view. We already know how to extract the predictive scores with the method `.predict_proba()`:"
   ]
  },
  {
   "cell_type": "code",
   "execution_count": 19,
   "id": "28211e9e-6588-400b-89db-21bf6756406b",
   "metadata": {
    "id": "28211e9e-6588-400b-89db-21bf6756406b"
   },
   "outputs": [],
   "source": [
    "df['title_score'] = clf.predict_proba(X)[:, 1]"
   ]
  },
  {
   "cell_type": "markdown",
   "id": "83be5432-1aa6-4f1d-81b8-09baceb86e67",
   "metadata": {
    "id": "83be5432-1aa6-4f1d-81b8-09baceb86e67"
   },
   "source": [
    "Now, we plot separate histograms for the predictive scores, for fake and non-fake news. This may give you an idea of how you can reduce the false positive rate by setting a threshold for the predictive scores."
   ]
  },
  {
   "cell_type": "code",
   "execution_count": 20,
   "id": "2220bd10-9e8d-478c-b92d-fe5fa6a6c0e8",
   "metadata": {
    "id": "2220bd10-9e8d-478c-b92d-fe5fa6a6c0e8",
    "outputId": "1fc67329-0202-4d78-8b81-e9abc7889761"
   },
   "outputs": [
    {
     "data": {
      "image/png": "[encoded data removed]",
      "text/plain": [
       "<Figure size 1200x500 with 2 Axes>"
      ]
     },
     "metadata": {},
     "output_type": "display_data"
    }
   ],
   "source": [
    "from matplotlib import pyplot as plt\n",
    "# Set the size of the figure\n",
    "plt.figure(figsize=(12,5))\n",
    "# First subplot\n",
    "plt.subplot(1, 2, 1)\n",
    "plt.hist(df['title_score'][y == 1], range=(0,1), color='gray', edgecolor='white')\n",
    "plt.title('Figure 1.a. Scores (fakes)')\n",
    "plt.xlabel('Fake score')\n",
    "# Second subplot\n",
    "plt.subplot(1, 2, 2)\n",
    "plt.hist(df['title_score'][y == 0], range=(0,1), color='gray', edgecolor='white')\n",
    "plt.title('Figure 1.b. Scores (non-fakes)')\n",
    "plt.xlabel('Fake score');"
   ]
  },
  {
   "cell_type": "markdown",
   "id": "5d1a3bc5-9ca1-4ac8-87d8-c5541a2d770d",
   "metadata": {
    "id": "5d1a3bc5-9ca1-4ac8-87d8-c5541a2d770d"
   },
   "source": [
    "### Homework"
   ]
  },
  {
   "cell_type": "markdown",
   "id": "c97fc34a-cd87-437a-8d5c-e7dd5426cc49",
   "metadata": {
    "id": "c97fc34a-cd87-437a-8d5c-e7dd5426cc49"
   },
   "source": [
    "1. Use a train/test split to validate our logistic regression model.\n",
    "\n",
    "2. Train an MLP model, with one hidden layer, to the title data. Do you get better results than with the logistic regression model?\n",
    "\n",
    "3. **Granite** is a family of open-source models released by IBM. The Granite Embedding 278M model is a multilingual version supported by Ollama. Download it to your computer (`ollama pull granite-embedding:278m`) and try it with the title data. The embedding dimension is 768, so you can expect to improve the current results, and to face a slower encoding process. *Warning*: this model will take 563M of your hard disk space."
   ]
  }
 ],
 "metadata": {
  "colab": {
   "provenance": [
    {
     "file_id": "1Jw_DZgN4MzgjOrUCnIgncBK_Nu2tL6ef",
     "timestamp": 1756396524453
    }
   ]
  },
  "kernelspec": {
   "display_name": "Python 3 (ipykernel)",
   "language": "python",
   "name": "python3"
  },
  "language_info": {
   "codemirror_mode": {
    "name": "ipython",
    "version": 3
   },
   "file_extension": ".py",
   "mimetype": "text/x-python",
   "name": "python",
   "nbconvert_exporter": "python",
   "pygments_lexer": "ipython3",
   "version": "3.13.5"
  }
 },
 "nbformat": 4,
 "nbformat_minor": 5
}
